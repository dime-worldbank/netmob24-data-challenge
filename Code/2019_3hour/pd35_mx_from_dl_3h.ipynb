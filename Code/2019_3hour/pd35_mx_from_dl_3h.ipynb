{
 "cells": [
  {
   "cell_type": "code",
   "execution_count": null,
   "id": "d289ed9b-b5c6-42f8-9b8a-8d2653a94f81",
   "metadata": {},
   "outputs": [],
   "source": [
    "%reload_ext sql\n",
    "%config SqlMagic.autocommit=False\n",
    "%config SqlMagic.autolimit=0\n",
    "%config SqlMagic.autopandas=True\n",
    "%config SqlMagic.displaylimit=200"
   ]
  },
  {
   "cell_type": "code",
   "execution_count": null,
   "id": "7304cfd6-5f4e-4fd1-9fcb-e4f799127977",
   "metadata": {},
   "outputs": [],
   "source": [
    "%sql trino://localhost:9090/cuebiq/"
   ]
  },
  {
   "cell_type": "code",
   "execution_count": null,
   "id": "d2ccb1e3-ccad-4833-b2fd-3646480078ae",
   "metadata": {},
   "outputs": [],
   "source": [
    "pip install geohash2"
   ]
  },
  {
   "cell_type": "code",
   "execution_count": null,
   "id": "0d54996b-6d6c-475c-ad0a-0d895f41ca3f",
   "metadata": {},
   "outputs": [],
   "source": [
    "import gc\n",
    "import os\n",
    "import time\n",
    "import logging\n",
    "import geohash2\n",
    "import pandas as pd\n",
    "from sqlalchemy import create_engine\n",
    "from datetime import datetime, timedelta\n",
    "from trino.dbapi import connect "
   ]
  },
  {
   "cell_type": "code",
   "execution_count": null,
   "id": "7fe46e82-6e2f-463e-b61d-c09c017bf097",
   "metadata": {},
   "outputs": [],
   "source": [
    "# SQL engine\n",
    "class TrinoEngine():\n",
    "    def __init__(self):\n",
    "        conn = connect(\n",
    "            host=\"localhost\",\n",
    "            port=9090,\n",
    "            catalog=\"cuebiq\"\n",
    "        )\n",
    "        self.cur = conn.cursor()\n",
    "        self.engine = create_engine(\"trino://localhost:9090/cuebiq/\")\n",
    "    \n",
    "    def execute_statement(self, query:str) -> list:\n",
    "        \"\"\"\n",
    "        Create and drop statements.\n",
    "        \"\"\"\n",
    "        self.cur.execute(query)\n",
    "        return self.cur.fetchall()\n",
    "    \n",
    "    def read_sql(self, query:str) -> pd.DataFrame: \n",
    "        \"\"\"\n",
    "        Select and insert into operations.\n",
    "        \"\"\"\n",
    "        return pd.read_sql(query, self.engine)\n",
    "\n",
    "    def read_sql_chunked(self, query: str, chunksize: int = 10000):\n",
    "        return pd.read_sql(query, self.engine, chunksize=chunksize)\n",
    "\n",
    "sql_engine = TrinoEngine()"
   ]
  },
  {
   "cell_type": "code",
   "execution_count": null,
   "id": "c200a594-7174-439d-9374-317cc03ed652",
   "metadata": {},
   "outputs": [],
   "source": [
    "# Function to insert data with retry mechanism\n",
    "def insert_data_with_retry(df, table_name, con, retries=3, delay=5):\n",
    "    for attempt in range(retries):\n",
    "        try:\n",
    "            df.to_sql(\n",
    "                table_name, \n",
    "                con, \n",
    "                index=False, \n",
    "                if_exists=\"append\", \n",
    "                method=\"multi\"\n",
    "            )\n",
    "            logging.info(f\"Inserted data into table {table_name}\")\n",
    "            return True\n",
    "        except Exception as e:\n",
    "            logging.error(f\"Attempt {attempt+1} failed with error: {e}\")\n",
    "            if attempt < retries - 1:\n",
    "                time.sleep(delay)\n",
    "            else:\n",
    "                logging.error(f\"Failed to insert data into table {table_name} after {retries} attempts\")\n",
    "    return False"
   ]
  },
  {
   "cell_type": "code",
   "execution_count": null,
   "id": "a044108c-c3e8-4325-8f00-6fcbe62ea69b",
   "metadata": {},
   "outputs": [],
   "source": [
    "# Define the input schema and table name\n",
    "schema_name = {'cda': 'cuebiq.paas_cda_pe_v3'}\n",
    "pe_dl_table = f\"{schema_name['cda']}.device_location_uplevelled\""
   ]
  },
  {
   "cell_type": "markdown",
   "id": "c277f112-2f83-42fc-9b8c-601e7b6f5536",
   "metadata": {
    "tags": []
   },
   "source": [
    "# Export to jupyter notebook\n",
    "should be working for CO, ID, IN, MX"
   ]
  },
  {
   "cell_type": "code",
   "execution_count": null,
   "id": "a883a0ca-4e38-476c-843f-8d41e0b28696",
   "metadata": {},
   "outputs": [],
   "source": [
    "# # Define the date range\n",
    "# start_date = '2019-01-01'\n",
    "# end_date = '2019-01-02'\n",
    "# date_range = pd.date_range(start=start_date, end=end_date)\n",
    "\n",
    "# country_code = 'MX'\n",
    "\n",
    "# # Define the export file paths\n",
    "# export_file_name_5 = f\"pd_{country_code.lower()}_2019_agg5_3h.csv\"\n",
    "# export_file_name_3 = f\"pd_{country_code.lower()}_2019_agg3_3h.csv\"\n",
    "\n",
    "# # Define the export file paths\n",
    "# export_path = '/home/jovyan/Data/pd3_test/'\n",
    "# export_file_path_5 = f\"{export_path}{export_file_name_5}\"\n",
    "# export_file_path_3 = f\"{export_path}{export_file_name_3}\"\n",
    "\n",
    "# # Create a function to determine the 3-hour interval based on a given date\n",
    "# def get_3_hour_interval(start_hour, current_date):\n",
    "#     start_time = pd.Timestamp(current_date) + pd.Timedelta(hours=start_hour)\n",
    "#     end_time = start_time + pd.Timedelta(hours=3)\n",
    "#     return f\"{start_time.strftime('%Y-%m-%d %H:%M:%S')}/{end_time.strftime('%Y-%m-%d %H:%M:%S')}\"\n",
    "\n",
    "# # Check if files already exist to determine header writing\n",
    "# write_header_5 = not os.path.exists(export_file_path_5)\n",
    "# write_header_3 = not os.path.exists(export_file_path_3)\n",
    "\n",
    "# # Configure logging\n",
    "# logging.basicConfig(level=logging.INFO, format='%(asctime)s - %(levelname)s - %(message)s')"
   ]
  },
  {
   "cell_type": "code",
   "execution_count": null,
   "id": "b381a613-35a2-4ea3-8ab0-3215806ca7d3",
   "metadata": {
    "scrolled": true,
    "tags": []
   },
   "outputs": [],
   "source": [
    "# import logging\n",
    "# from datetime import timedelta\n",
    "# import pandas as pd\n",
    "\n",
    "# def get_3_hour_interval(start_hour, formatted_current_date):\n",
    "#     return f\"{formatted_current_date} {start_hour:02d}:00:00\"\n",
    "\n",
    "# # Loop through each day in the date range\n",
    "# for current_date in date_range:\n",
    "#     formatted_current_date = current_date.strftime('%Y%m%d')\n",
    "    \n",
    "#     for start_hour in range(0, 24, 3):\n",
    "#         end_hour = start_hour + 3\n",
    "        \n",
    "#         # Calculate the lookback and lookahead dates\n",
    "#         lookback_date = current_date - timedelta(days=1)\n",
    "#         lookahead_date = current_date + timedelta(days=35)\n",
    "        \n",
    "#         # Format dates for the SQL query in 'yyyymmdd' format\n",
    "#         formatted_lookback_date = lookback_date.strftime('%Y%m%d')\n",
    "#         formatted_lookahead_date = lookahead_date.strftime('%Y%m%d')\n",
    "\n",
    "#         try:\n",
    "#             # SQL Query to fetch data for the current 3-hour interval\n",
    "#             query = f\"\"\"\n",
    "#             SELECT \n",
    "#                 cuebiq_id, \n",
    "#                 event_zoned_datetime, \n",
    "#                 processing_date,\n",
    "#                 lat,\n",
    "#                 lng,\n",
    "#                 TRY(date_parse(substr(event_zoned_datetime, 1, 19), '%Y-%m-%dT%H:%i:%s')) AS event_datetime_local,\n",
    "#                 EXTRACT(HOUR FROM TRY(date_parse(substr(event_zoned_datetime, 1, 19), '%Y-%m-%dT%H:%i:%s'))) AS event_hour,\n",
    "#                 geohash_encode(lat, lng, 5) AS geohash5,\n",
    "#                 geohash_encode(lat, lng, 3) AS geohash3\n",
    "#             FROM {pe_dl_table}\n",
    "#             WHERE \n",
    "#                 processing_date BETWEEN {formatted_lookback_date} AND {formatted_lookahead_date}\n",
    "#                 AND country_code = '{country_code}' \n",
    "#                 AND event_zoned_datetime IS NOT NULL\n",
    "#                 AND TRY(date_parse(substr(event_zoned_datetime, 1, 19), '%Y-%m-%dT%H:%i:%s')) IS NOT NULL\n",
    "#                 AND DATE(TRY(date_parse(substr(event_zoned_datetime, 1, 19), '%Y-%m-%dT%H:%i:%s'))) = date_parse('{formatted_current_date}', '%Y%m%d')\n",
    "#                 AND EXTRACT(HOUR FROM TRY(date_parse(substr(event_zoned_datetime, 1, 19), '%Y-%m-%dT%H:%i:%s'))) BETWEEN {start_hour} AND {end_hour-1}\n",
    "#             \"\"\"\n",
    "\n",
    "#             logging.info(f\"Executing SQL query for date {formatted_current_date} and interval {start_hour} to {end_hour}\")\n",
    "#             pe_dl_table_gen = sql_engine.read_sql(query)\n",
    "            \n",
    "#             # Convert event_datetime_local to datetime once\n",
    "#             pe_dl_table_gen['event_datetime_local'] = pd.to_datetime(pe_dl_table_gen['event_datetime_local'])\n",
    "            \n",
    "#             # Create 3-hour interval column\n",
    "#             interval = get_3_hour_interval(start_hour, formatted_current_date)\n",
    "#             pe_dl_table_gen['3_hour_interval'] = interval\n",
    "#             pe_dl_table_gen['local_date'] = formatted_current_date\n",
    "            \n",
    "#             for geohash_col, export_file_path, write_header in [\n",
    "#                 ('geohash5', export_file_path_5, write_header_5),\n",
    "#                 ('geohash3', export_file_path_3, write_header_3)\n",
    "#             ]:\n",
    "#                 # Aggregate data for geohash\n",
    "#                 logging.info(f\"Aggregating data for {geohash_col} for interval {start_hour} to {end_hour}\")\n",
    "#                 aggregated_data = pe_dl_table_gen.groupby(geohash_col).agg(\n",
    "#                     no_of_points=(geohash_col, 'size'),\n",
    "#                     no_of_unique_users=('cuebiq_id', 'nunique'),\n",
    "#                     local_time=('3_hour_interval', 'first'),\n",
    "#                     local_date=('local_date', 'first')\n",
    "#                 ).reset_index()\n",
    "                \n",
    "#                 # Filter rows with no_of_unique_users > 10\n",
    "#                 filtered_data = aggregated_data[aggregated_data['no_of_unique_users'] > 10].copy()\n",
    "                \n",
    "#                 # Append the DataFrame to the CSV file\n",
    "#                 logging.info(f\"Exporting data for interval {start_hour} to {end_hour}\")\n",
    "#                 filtered_data.to_csv(export_file_path, mode='a', header=write_header, index=False)\n",
    "                \n",
    "#                 # After the first write, set the header flag to False\n",
    "#                 if geohash_col == 'geohash5':\n",
    "#                     write_header_5 = False\n",
    "#                 else:\n",
    "#                     write_header_3 = False\n",
    "                \n",
    "#             logging.info(f\"Appended data for date {formatted_current_date} interval {start_hour} to {end_hour} to {export_file_name_5} and {export_file_name_3}\")\n",
    "#         except Exception as e:\n",
    "#             logging.error(f\"Error while processing data for date {formatted_current_date} interval {start_hour} to {end_hour}: {e}\")\n",
    "    \n",
    "#     # Move to the next day\n",
    "#     current_date += timedelta(days=1)\n",
    "# # test query by 3 hour"
   ]
  },
  {
   "cell_type": "markdown",
   "id": "efd0a4d0-8ea5-495a-881b-7633a3c85d9b",
   "metadata": {
    "tags": []
   },
   "source": [
    "# Export to schema"
   ]
  },
  {
   "cell_type": "code",
   "execution_count": null,
   "id": "b5e34172-ee99-417e-b800-e6a93bc1f17a",
   "metadata": {},
   "outputs": [],
   "source": [
    "def get_3_hour_interval(start_hour, formatted_current_date):\n",
    "    end_hour = start_hour + 3\n",
    "    return f\"{formatted_current_date} {start_hour:02d}:00:00 - {end_hour:02d}:00:00\"\n",
    "\n",
    "# Configure logging\n",
    "logging.basicConfig(level=logging.INFO, format='%(asctime)s - %(levelname)s - %(message)s')\n",
    "\n",
    "# Database connection setup\n",
    "# output_schema_name = 'presence_data'\n",
    "output_schema_name = 'pop_density'\n",
    "con = create_engine(f\"trino://localhost:9090/dedicated/{output_schema_name}\")\n",
    "\n",
    "start_date = '2019-01-01'\n",
    "end_date = '2019-03-31'\n",
    "date_range = pd.date_range(start=start_date, end=end_date)\n",
    "\n",
    "country_code = 'MX'\n",
    "country_abbre = country_code.lower()  \n",
    "master_table_3 = f\"pd_{country_abbre}_2019_3h_agg3\"\n",
    "master_table_5 = f\"pd_{country_abbre}_2019_3h_agg5\"\n",
    "\n",
    "# Create the master tables if they do not exist\n",
    "create_table_query_3 = f\"\"\"\n",
    "CREATE TABLE IF NOT EXISTS {master_table_3}(\n",
    "    geohash_3 varchar,\n",
    "    no_of_points bigint,\n",
    "    no_of_unique_users bigint,\n",
    "    local_time varchar,\n",
    "    local_date varchar\n",
    ")\n",
    "\"\"\"\n",
    "create_table_query_5 = f\"\"\"\n",
    "CREATE TABLE IF NOT EXISTS {master_table_5}(\n",
    "    geohash_5 varchar,\n",
    "    no_of_points bigint,\n",
    "    no_of_unique_users bigint,\n",
    "    local_time varchar,\n",
    "    local_date varchar\n",
    ")\n",
    "\"\"\"\n",
    "# with engine.connect() as connection:\n",
    "#     connection.execute(create_table_query_3)\n",
    "#     connection.execute(create_table_query_5)\n",
    "    \n",
    "with con.connect() as connection:\n",
    "    logging.info(f\"Creating master table: {master_table_3}\")\n",
    "    connection.execute(create_table_query_3)\n",
    "    logging.info(f\"Creating master table: {master_table_5}\")\n",
    "    connection.execute(create_table_query_5)\n"
   ]
  },
  {
   "cell_type": "code",
   "execution_count": null,
   "id": "f536c09d-ea52-406b-9c88-ee97c376a49c",
   "metadata": {},
   "outputs": [],
   "source": [
    "# Loop through each day in the date range\n",
    "for current_date in date_range:\n",
    "    formatted_current_date = current_date.strftime('%Y%m%d')\n",
    "    \n",
    "    for start_hour in range(0, 24, 3):\n",
    "        end_hour = start_hour + 3\n",
    "        \n",
    "        # Calculate the lookback and lookahead dates\n",
    "        lookback_date = current_date - timedelta(days=1)\n",
    "        lookahead_date = current_date + timedelta(days=35)\n",
    "        \n",
    "        # Format dates for the SQL query in 'yyyymmdd' format\n",
    "        formatted_lookback_date = lookback_date.strftime('%Y%m%d')\n",
    "        formatted_lookahead_date = lookahead_date.strftime('%Y%m%d')\n",
    "\n",
    "        try:\n",
    "            # SQL Query to fetch data for the current 3-hour interval\n",
    "            query = f\"\"\"\n",
    "            SELECT \n",
    "                cuebiq_id, \n",
    "                event_zoned_datetime, \n",
    "                processing_date,\n",
    "                lat,\n",
    "                lng,\n",
    "                TRY(date_parse(substr(event_zoned_datetime, 1, 19), '%Y-%m-%dT%H:%i:%s')) AS event_datetime_local,\n",
    "                EXTRACT(HOUR FROM TRY(date_parse(substr(event_zoned_datetime, 1, 19), '%Y-%m-%dT%H:%i:%s'))) AS event_hour,\n",
    "                geohash_encode(lat, lng, 5) AS geohash_5,\n",
    "                geohash_encode(lat, lng, 3) AS geohash_3\n",
    "            FROM {pe_dl_table}\n",
    "            WHERE \n",
    "                processing_date BETWEEN {formatted_lookback_date} AND {formatted_lookahead_date}\n",
    "                AND country_code = '{country_code}' \n",
    "                AND event_zoned_datetime IS NOT NULL\n",
    "                AND TRY(date_parse(substr(event_zoned_datetime, 1, 19), '%Y-%m-%dT%H:%i:%s')) IS NOT NULL\n",
    "                AND DATE(TRY(date_parse(substr(event_zoned_datetime, 1, 19), '%Y-%m-%dT%H:%i:%s'))) = date_parse('{formatted_current_date}', '%Y%m%d')\n",
    "                AND EXTRACT(HOUR FROM TRY(date_parse(substr(event_zoned_datetime, 1, 19), '%Y-%m-%dT%H:%i:%s'))) BETWEEN {start_hour} AND {end_hour-1}\n",
    "            \"\"\"\n",
    "\n",
    "            logging.info(f\"Executing SQL query for date {formatted_current_date} and interval {start_hour} to {end_hour}\")\n",
    "            pe_dl_table_gen = sql_engine.read_sql(query)\n",
    "            \n",
    "            # Convert event_datetime_local to datetime once\n",
    "            pe_dl_table_gen['event_datetime_local'] = pd.to_datetime(pe_dl_table_gen['event_datetime_local'])\n",
    "            \n",
    "            # Create 3-hour interval column\n",
    "            interval = get_3_hour_interval(start_hour, formatted_current_date)\n",
    "            pe_dl_table_gen['3_hour_interval'] = interval\n",
    "            pe_dl_table_gen['local_date'] = formatted_current_date\n",
    "            \n",
    "            # Process for geohash_5\n",
    "            logging.info(f\"Aggregating data for geohash_5 for interval {start_hour} to {end_hour}\")\n",
    "            aggregated_data_5 = pe_dl_table_gen.groupby('geohash_5').agg(\n",
    "                no_of_points=('geohash_5', 'size'),\n",
    "                no_of_unique_users=('cuebiq_id', 'nunique'),\n",
    "                local_time=('3_hour_interval', 'first'),\n",
    "                local_date=('local_date', 'first')\n",
    "            ).reset_index()\n",
    "            \n",
    "            # Filter rows with no_of_unique_users > 10\n",
    "            filtered_data_5 = aggregated_data_5[aggregated_data_5['no_of_unique_users'] > 10].copy()\n",
    "            filtered_data_5.to_sql(master_table_5, con, if_exists='append', index=False)\n",
    "            logging.info(f\"Inserted aggregated data for date {formatted_current_date} interval {start_hour} to {end_hour} into {master_table_3}\")\n",
    "\n",
    "            # Process for geohash_3\n",
    "            logging.info(f\"Aggregating data for geohash3 for interval {start_hour} to {end_hour}\")\n",
    "            aggregated_data_3 = pe_dl_table_gen.groupby('geohash_3').agg(\n",
    "                no_of_points=('geohash_3', 'size'),\n",
    "                no_of_unique_users=('cuebiq_id', 'nunique'),\n",
    "                local_time=('3_hour_interval', 'first'),\n",
    "                local_date=('local_date', 'first')\n",
    "            ).reset_index()\n",
    "            \n",
    "            # Filter rows with no_of_unique_users > 10\n",
    "            filtered_data_3 = aggregated_data_3[aggregated_data_3['no_of_unique_users'] > 10].copy()\n",
    "            filtered_data_3.to_sql(master_table_3, con, if_exists='append', index=False, method='multi')\n",
    "            logging.info(f\"Inserted aggregated data for date {formatted_current_date} interval {start_hour} to {end_hour} into the {master tables}\")\n",
    "        \n",
    "        except Exception as e:\n",
    "            logging.error(f\"Error while processing data for date {formatted_current_date} interval {start_hour} to {end_hour}: {e}\")\n",
    "    \n",
    "    # Move to the next day\n",
    "    current_date += timedelta(days=1)\n"
   ]
  },
  {
   "cell_type": "code",
   "execution_count": null,
   "id": "5ee53328-3554-4860-8729-bc48a13a89f8",
   "metadata": {},
   "outputs": [],
   "source": []
  },
  {
   "cell_type": "code",
   "execution_count": null,
   "id": "5288c67d-370a-496f-911b-e743e9642d7a",
   "metadata": {},
   "outputs": [],
   "source": []
  },
  {
   "cell_type": "markdown",
   "id": "c3d4a396-c632-4be5-b7a7-d8cc21e391aa",
   "metadata": {},
   "source": [
    "# 1"
   ]
  },
  {
   "cell_type": "code",
   "execution_count": null,
   "id": "a704fe83-0e29-441c-ae94-3913a9ea56ce",
   "metadata": {},
   "outputs": [],
   "source": []
  },
  {
   "cell_type": "code",
   "execution_count": null,
   "id": "f055991e-c5d8-44c1-b790-961344e56c3f",
   "metadata": {},
   "outputs": [],
   "source": []
  },
  {
   "cell_type": "code",
   "execution_count": null,
   "id": "0aeaa0f7-2b33-4d15-8970-63048d233858",
   "metadata": {},
   "outputs": [],
   "source": []
  },
  {
   "cell_type": "code",
   "execution_count": null,
   "id": "4c587e04-766d-4c83-9234-f6bd93e6fff3",
   "metadata": {},
   "outputs": [],
   "source": []
  },
  {
   "cell_type": "code",
   "execution_count": null,
   "id": "60d5c1fb-bce9-4098-bef6-1b2dc952b504",
   "metadata": {},
   "outputs": [],
   "source": []
  },
  {
   "cell_type": "code",
   "execution_count": null,
   "id": "c98a1127-0a10-4c27-a131-467026fbae94",
   "metadata": {},
   "outputs": [],
   "source": []
  },
  {
   "cell_type": "code",
   "execution_count": null,
   "id": "cad6c274-2c3d-4198-8d89-2c127eb4e280",
   "metadata": {},
   "outputs": [],
   "source": []
  },
  {
   "cell_type": "code",
   "execution_count": null,
   "id": "4b41c91b-b3c2-4e93-9b79-6411d7b47f0a",
   "metadata": {},
   "outputs": [],
   "source": []
  },
  {
   "cell_type": "code",
   "execution_count": null,
   "id": "dd8948ce-1ebc-42c4-af54-844999063440",
   "metadata": {},
   "outputs": [],
   "source": []
  },
  {
   "cell_type": "code",
   "execution_count": null,
   "id": "116555cb-e34a-4303-b77d-9a91e2dad215",
   "metadata": {},
   "outputs": [],
   "source": []
  },
  {
   "cell_type": "code",
   "execution_count": null,
   "id": "4c0bcea9-c6aa-46f1-a2c5-2d246d6716dc",
   "metadata": {},
   "outputs": [],
   "source": []
  },
  {
   "cell_type": "code",
   "execution_count": null,
   "id": "9b4e18cd-7712-4ce5-8af2-17132ddfb718",
   "metadata": {},
   "outputs": [],
   "source": []
  },
  {
   "cell_type": "code",
   "execution_count": null,
   "id": "b69c1a10-ca49-4978-80af-bf1b1b436979",
   "metadata": {},
   "outputs": [],
   "source": []
  },
  {
   "cell_type": "code",
   "execution_count": null,
   "id": "17f70d6c-14ee-4bb3-a144-8f9d22756993",
   "metadata": {},
   "outputs": [],
   "source": []
  },
  {
   "cell_type": "code",
   "execution_count": null,
   "id": "7849c172-25b4-4015-9c3f-4c54c6f9b9ed",
   "metadata": {},
   "outputs": [],
   "source": []
  },
  {
   "cell_type": "code",
   "execution_count": null,
   "id": "e3f6a575-0da2-445d-a070-9d5e3a37309a",
   "metadata": {},
   "outputs": [],
   "source": []
  },
  {
   "cell_type": "code",
   "execution_count": null,
   "id": "873f2b3f-068f-441d-b29b-785322d09091",
   "metadata": {},
   "outputs": [],
   "source": []
  },
  {
   "cell_type": "code",
   "execution_count": null,
   "id": "6101c3db-396b-4176-b0da-f46abb48a68b",
   "metadata": {},
   "outputs": [],
   "source": []
  },
  {
   "cell_type": "code",
   "execution_count": null,
   "id": "9721c5a7-4c76-4278-a9b9-6bc0ab54028f",
   "metadata": {},
   "outputs": [],
   "source": []
  },
  {
   "cell_type": "code",
   "execution_count": null,
   "id": "6ba75951-dd0a-4bc0-80ef-2e3cb2a2f8d1",
   "metadata": {},
   "outputs": [],
   "source": []
  },
  {
   "cell_type": "code",
   "execution_count": null,
   "id": "4d343d50-9c6c-4c8b-a774-2cec03b0b627",
   "metadata": {},
   "outputs": [],
   "source": []
  },
  {
   "cell_type": "code",
   "execution_count": null,
   "id": "5283036a-b031-4b32-8ae0-3cc1cdad8652",
   "metadata": {},
   "outputs": [],
   "source": []
  },
  {
   "cell_type": "code",
   "execution_count": null,
   "id": "fdd34e23-66c7-485c-807c-3476a4344dc3",
   "metadata": {},
   "outputs": [],
   "source": []
  },
  {
   "cell_type": "code",
   "execution_count": null,
   "id": "f4abfca8-eb70-4e28-8fb1-0665f28903e2",
   "metadata": {},
   "outputs": [],
   "source": []
  },
  {
   "cell_type": "code",
   "execution_count": null,
   "id": "fd16774b-eb43-4b9b-b101-955588f36125",
   "metadata": {},
   "outputs": [],
   "source": []
  },
  {
   "cell_type": "code",
   "execution_count": null,
   "id": "f8862327-eaba-46a0-8ecb-5e142581315c",
   "metadata": {},
   "outputs": [],
   "source": []
  },
  {
   "cell_type": "code",
   "execution_count": null,
   "id": "965534c4-906e-4714-8dae-a12a9a7d83e1",
   "metadata": {},
   "outputs": [],
   "source": []
  },
  {
   "cell_type": "code",
   "execution_count": null,
   "id": "8bd686a0-4c83-4154-a4f7-37acd1960ca0",
   "metadata": {},
   "outputs": [],
   "source": []
  },
  {
   "cell_type": "code",
   "execution_count": null,
   "id": "64342f59-eaf3-41d2-aabd-932a4994830e",
   "metadata": {},
   "outputs": [],
   "source": []
  },
  {
   "cell_type": "code",
   "execution_count": null,
   "id": "2bd0e038-fb28-4124-a130-d6d2b36350f7",
   "metadata": {},
   "outputs": [],
   "source": []
  },
  {
   "cell_type": "code",
   "execution_count": null,
   "id": "6f54a6f6-e75b-4644-801c-dd37105ee619",
   "metadata": {},
   "outputs": [],
   "source": []
  },
  {
   "cell_type": "code",
   "execution_count": null,
   "id": "2779b67b-9e18-4c61-8756-3a8aaae6384c",
   "metadata": {},
   "outputs": [],
   "source": []
  },
  {
   "cell_type": "code",
   "execution_count": null,
   "id": "f93ee41c-424a-40dd-8ed8-62a8764d629a",
   "metadata": {},
   "outputs": [],
   "source": []
  },
  {
   "cell_type": "code",
   "execution_count": null,
   "id": "53ed2e44-ad40-4863-9a63-637f70c3775f",
   "metadata": {},
   "outputs": [],
   "source": []
  },
  {
   "cell_type": "code",
   "execution_count": null,
   "id": "c5481759-bef6-47f8-84fd-bd7bd04d43dc",
   "metadata": {},
   "outputs": [],
   "source": []
  },
  {
   "cell_type": "code",
   "execution_count": null,
   "id": "656d8a3f-9bbe-4abe-9fe0-236738e72528",
   "metadata": {},
   "outputs": [],
   "source": []
  },
  {
   "cell_type": "code",
   "execution_count": null,
   "id": "398ef14e-1604-4c31-b723-cddf9aab9947",
   "metadata": {},
   "outputs": [],
   "source": []
  },
  {
   "cell_type": "code",
   "execution_count": null,
   "id": "5c5e495e-3f2b-4872-b595-61c1f8242278",
   "metadata": {},
   "outputs": [],
   "source": []
  },
  {
   "cell_type": "code",
   "execution_count": null,
   "id": "6926ef6e-772d-442f-9416-55c3c6c5c822",
   "metadata": {},
   "outputs": [],
   "source": []
  },
  {
   "cell_type": "code",
   "execution_count": null,
   "id": "933d2b9d-7e31-4ad1-824b-5cd8a23c95e7",
   "metadata": {},
   "outputs": [],
   "source": []
  },
  {
   "cell_type": "code",
   "execution_count": null,
   "id": "707f16fd-3cfc-4ea4-87ee-baca476c647e",
   "metadata": {},
   "outputs": [],
   "source": []
  },
  {
   "cell_type": "code",
   "execution_count": null,
   "id": "2dd0f9e2-49ff-452e-8f32-d84cb913dc6e",
   "metadata": {},
   "outputs": [],
   "source": []
  },
  {
   "cell_type": "code",
   "execution_count": null,
   "id": "51349b29-b674-4f30-83bd-9f6386e5655c",
   "metadata": {},
   "outputs": [],
   "source": []
  },
  {
   "cell_type": "code",
   "execution_count": null,
   "id": "d8af6712-172d-42e8-92ef-e193c08202ca",
   "metadata": {},
   "outputs": [],
   "source": []
  },
  {
   "cell_type": "code",
   "execution_count": null,
   "id": "069a73f2-0941-4640-b810-139180fc4924",
   "metadata": {},
   "outputs": [],
   "source": []
  },
  {
   "cell_type": "code",
   "execution_count": null,
   "id": "369faf8d-fc67-4b50-99e2-698af62fb47c",
   "metadata": {},
   "outputs": [],
   "source": []
  },
  {
   "cell_type": "code",
   "execution_count": null,
   "id": "5696fe4f-4b3c-456f-9862-69ae758fc1ee",
   "metadata": {},
   "outputs": [],
   "source": []
  },
  {
   "cell_type": "code",
   "execution_count": null,
   "id": "f915eb14-07e3-496b-b8b2-733d01d80cd4",
   "metadata": {},
   "outputs": [],
   "source": []
  },
  {
   "cell_type": "code",
   "execution_count": null,
   "id": "a43a0b31-b807-4379-a859-4fedd6e15832",
   "metadata": {},
   "outputs": [],
   "source": []
  },
  {
   "cell_type": "code",
   "execution_count": null,
   "id": "21ab1ede-6b29-4dc0-812d-70013cacb04d",
   "metadata": {},
   "outputs": [],
   "source": []
  },
  {
   "cell_type": "code",
   "execution_count": null,
   "id": "200ce8cd-9b8e-409c-b680-508c00dc6c1d",
   "metadata": {},
   "outputs": [],
   "source": []
  },
  {
   "cell_type": "code",
   "execution_count": null,
   "id": "3a17829f-2722-48d6-975c-9a3bb6623f5e",
   "metadata": {},
   "outputs": [],
   "source": []
  },
  {
   "cell_type": "code",
   "execution_count": null,
   "id": "84bc2e21-e91d-4109-ac04-0c5a2de5b3d9",
   "metadata": {},
   "outputs": [],
   "source": []
  },
  {
   "cell_type": "code",
   "execution_count": null,
   "id": "1e0353dd-55c7-42de-837f-119f48be6435",
   "metadata": {},
   "outputs": [],
   "source": []
  },
  {
   "cell_type": "code",
   "execution_count": null,
   "id": "76a2c057-683c-451d-8970-6b6d8e5f8172",
   "metadata": {},
   "outputs": [],
   "source": []
  },
  {
   "cell_type": "code",
   "execution_count": null,
   "id": "57ad075e-4927-4a9c-ab40-ed648ec5dfef",
   "metadata": {},
   "outputs": [],
   "source": []
  },
  {
   "cell_type": "code",
   "execution_count": null,
   "id": "9a4c21ab-230e-4951-998a-2f67576f87d7",
   "metadata": {},
   "outputs": [],
   "source": []
  },
  {
   "cell_type": "code",
   "execution_count": null,
   "id": "3279564a-3432-451d-9f63-bd40672b375f",
   "metadata": {},
   "outputs": [],
   "source": []
  },
  {
   "cell_type": "code",
   "execution_count": null,
   "id": "35aabfc8-5afd-4644-bde7-5055d567d7ac",
   "metadata": {},
   "outputs": [],
   "source": []
  },
  {
   "cell_type": "code",
   "execution_count": null,
   "id": "1f964deb-74d2-482b-9cd2-812b2da03c6f",
   "metadata": {},
   "outputs": [],
   "source": []
  },
  {
   "cell_type": "code",
   "execution_count": null,
   "id": "3808822b-920e-4541-9c13-b335f8b43a26",
   "metadata": {},
   "outputs": [],
   "source": []
  },
  {
   "cell_type": "code",
   "execution_count": null,
   "id": "e630359c-25d2-4a9c-be72-973dd6c58e34",
   "metadata": {},
   "outputs": [],
   "source": []
  },
  {
   "cell_type": "code",
   "execution_count": null,
   "id": "ad71e37f-1292-4161-8bbf-b5fdc1114214",
   "metadata": {},
   "outputs": [],
   "source": []
  }
 ],
 "metadata": {
  "kernelspec": {
   "display_name": "Python 3 (ipykernel)",
   "language": "python",
   "name": "python3"
  },
  "language_info": {
   "codemirror_mode": {
    "name": "ipython",
    "version": 3
   },
   "file_extension": ".py",
   "mimetype": "text/x-python",
   "name": "python",
   "nbconvert_exporter": "python",
   "pygments_lexer": "ipython3",
   "version": "3.9.15"
  }
 },
 "nbformat": 4,
 "nbformat_minor": 5
}
