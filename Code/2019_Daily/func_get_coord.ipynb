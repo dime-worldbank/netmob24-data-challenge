{
 "cells": [
  {
   "cell_type": "code",
   "execution_count": 3,
   "id": "a36b6d60-887c-4ad2-9b83-ca640ee57c2d",
   "metadata": {},
   "outputs": [],
   "source": [
    "import geohash2\n",
    "import pandas as pd"
   ]
  },
  {
   "cell_type": "markdown",
   "id": "e4ebb7fa-fd0a-4a9e-a77b-caa5e84e6a23",
   "metadata": {},
   "source": [
    "# Get geohash3 from Tiling Tools"
   ]
  },
  {
   "cell_type": "markdown",
   "id": "f540952d-2d11-45af-84af-85429d9422e4",
   "metadata": {},
   "source": [
    "# Calcualte lons for partition"
   ]
  },
  {
   "cell_type": "code",
   "execution_count": 4,
   "id": "80073f43-54a0-4658-9abb-72d6fcfa8c87",
   "metadata": {},
   "outputs": [],
   "source": [
    "def get_unique_sorted_min_lons(geohashes):\n",
    "    \"\"\"\n",
    "    Given a list of geohash indices, returns the unique, sorted longitudes (lon - lon_err).\n",
    "    \n",
    "    :param geohashes: List of geohash indices\n",
    "    :return: Sorted list of unique min_lons (lon - lon_err)\n",
    "    \"\"\"\n",
    "    # Decode geohashes to get bounding boxes\n",
    "    bounding_boxes = [geohash2.decode_exactly(gh) for gh in geohashes]\n",
    "\n",
    "    # Calculate min_lon (lon - lon_err) and collect unique values\n",
    "    min_lons = sorted(set(lon - lon_err for lat, lon, lat_err, lon_err in bounding_boxes))\n",
    "\n",
    "    return min_lons"
   ]
  },
  {
   "cell_type": "code",
   "execution_count": 6,
   "id": "95971384-c1c3-408f-a466-e23c8273c16c",
   "metadata": {},
   "outputs": [
    {
     "name": "stdout",
     "output_type": "stream",
     "text": [
      "[-115.3125, -113.90625, -112.5, -111.09375, -109.6875, -108.28125, -106.875, -105.46875, -104.0625, -102.65625, -101.25, -99.84375, -98.4375, -97.03125, -95.625, -94.21875, -92.8125, -91.40625]\n"
     ]
    }
   ],
   "source": [
    "# Example usage with MX\n",
    "geohashes = ['9mn', '9mp', '9t0', '9t1', '9t4', '9th', '9t5', '9tj', '9tp', '9tn', '9v0', '9v1', '9v5', '9v4', '9vh', '9vj', '9vn', '9vp']\n",
    "# geohashes = ['9sd', '9se', '9ss', '9st', '9sw', '9sx', '9u8', '9u9', '9ud', '9s9', '9ue', '9us', '9ut']\n",
    "\n",
    "sorted_lons = get_unique_sorted_min_lons(geohashes)\n",
    "print(sorted_lons)"
   ]
  },
  {
   "cell_type": "code",
   "execution_count": 5,
   "id": "4046e4d5-5a28-436b-bfc5-98626fce198e",
   "metadata": {},
   "outputs": [
    {
     "name": "stdout",
     "output_type": "stream",
     "text": [
      "[67.5, 68.90625, 70.3125, 71.71875, 73.125, 74.53125, 75.9375, 77.34375, 78.75, 80.15625, 81.5625, 82.96875, 84.375, 85.78125, 87.1875, 88.59375]\n"
     ]
    }
   ],
   "source": [
    "# IN:\n",
    "geohashes_IN = ['ts8', 'ts9', 'tsd', 'tse', 'tss', 'tsw', 'tst', 'tsx', 'tu8', 'tu9', 'tud', 'tue', 'tus', 'tut', 'tuw', 'tux']\n",
    "sorted_lons_IN = get_unique_sorted_min_lons(geohashes_IN)\n",
    "print(sorted_lons_IN)"
   ]
  },
  {
   "cell_type": "code",
   "execution_count": 7,
   "id": "3db449ee-4a02-4b23-bb7b-161c0bb19f03",
   "metadata": {},
   "outputs": [
    {
     "name": "stdout",
     "output_type": "stream",
     "text": [
      "[-74.53125]\n"
     ]
    }
   ],
   "source": [
    "# CO:\n",
    "geohashes_CO = ['d2g', 'd2e']\n",
    "sorted_lons_CO = get_unique_sorted_min_lons(geohashes_CO)\n",
    "print(sorted_lons_CO)"
   ]
  },
  {
   "cell_type": "code",
   "execution_count": null,
   "id": "d80080f6-2b87-44f7-8719-8b1ae28d466a",
   "metadata": {},
   "outputs": [],
   "source": []
  },
  {
   "cell_type": "code",
   "execution_count": null,
   "id": "6c3328be-1d76-45c8-808b-4b512af175f2",
   "metadata": {},
   "outputs": [],
   "source": []
  },
  {
   "cell_type": "code",
   "execution_count": 6,
   "id": "8c95d528-5f97-49ac-bd88-486e8eeb30e6",
   "metadata": {},
   "outputs": [],
   "source": [
    "def get_unique_sorted_min_lats(geohashes):\n",
    "    \"\"\"\n",
    "    Given a list of geohash indices, returns the unique, sorted latitudes (lat - lat_err).\n",
    "    \n",
    "    :param geohashes: List of geohash indices\n",
    "    :return: Sorted list of unique min_lats (lat - lat_err)\n",
    "    \"\"\"\n",
    "    # Decode geohashes to get bounding boxes\n",
    "    bounding_boxes = [geohash2.decode_exactly(gh) for gh in geohashes]\n",
    "\n",
    "    # Calculate min_lat (lat - lat_err) and collect unique values\n",
    "    min_lats = sorted(set(lat - lat_err for lat, lon, lat_err, lon_err in bounding_boxes))\n",
    "\n",
    "    return min_lats\n"
   ]
  },
  {
   "cell_type": "code",
   "execution_count": null,
   "id": "dfa69cab-ca8c-42c0-a786-8d252a27bf54",
   "metadata": {},
   "outputs": [
    {
     "name": "stdout",
     "output_type": "stream",
     "text": [
      "[25.3125]\n"
     ]
    }
   ],
   "source": [
    "# Example usage: MX\n",
    "geohashes = ['9g3', '9g1', '9g9']\n",
    "sorted_min_lats = get_unique_sorted_min_lats(geohashes)\n",
    "print(sorted_min_lats)\n"
   ]
  },
  {
   "cell_type": "code",
   "execution_count": 8,
   "id": "bbc95742-a033-47ea-9d8c-24fc6ca1507d",
   "metadata": {},
   "outputs": [
    {
     "name": "stdout",
     "output_type": "stream",
     "text": [
      "[7.03125, 8.4375, 9.84375, 11.25, 12.65625, 14.0625, 15.46875, 16.875, 18.28125, 19.6875, 21.09375, 22.5, 23.90625, 25.3125, 26.71875, 28.125, 29.53125, 30.9375, 32.34375]\n"
     ]
    }
   ],
   "source": [
    "# Example usage: IN\n",
    "\n",
    "geohashes = [\n",
    "       'tdr', 'tek', 'ten', 'tg4', 'tgb', 'ts5', 'tsn', 'tss', 'ttm',\n",
    "       'tue', 'tuh', 'tuk', 'tup', 'tus', 'tuu', 'tcb', 'tdj', 'tdn',\n",
    "       'tdv', 'te7', 'tf0', 'tf1', 'tg8', 'tug', 'tur', 'wjh', 't9z',\n",
    "       'tdy', 'tdz', 'tec', 'teh', 'tf2', 'tf3', 'tfc', 'ts4', 'tsh',\n",
    "       'tsx', 'ttj', 'ttn', 'tu9', 'tuc', 'tud', 'wh3', 'whu', 'tsg',\n",
    "       'ttp', 'tu6', 'tes', 'tev', 'tg1', 'tsj', 'tsm', 'ttk', 'tu0',\n",
    "       'tuj', 'tun', 'whd', 'tdx', 'teu', 'tg0', 'tg6', 'tgs', 'ts1',\n",
    "       'tsy', 'ttt', 'ttx', 't9y', 'tgk', 'tgt', 'tuw', 'tg3', 'tgu',\n",
    "       'tth', 't9v', 'tee', 'tef', 'tep', 'tgy', 'tsf', 'wh0', 'whc',\n",
    "       'whe', 'tdp', 'tg2', 'ttq', 'ttw', 'tu7', 'tgg', 'tsd', 'tub',\n",
    "       'tuf', 'tv0', 'tdu', 'ter', 'tew', 'tff', 'tgc', 'tsu', 'wh6',\n",
    "       'wh8', 'tdt', 'ted', 'tej', 'tet', 'tgz', 'ts0', 'ttr', 'tu3',\n",
    "       'tuy', 'wh7', 'whg', 'tf8', 'tg7', 'tge', 'tgv', 'tst', 't9w',\n",
    "       'tg5', 'tsv', 'tuq', 'tdm', 'teg', 'tsz', 'wh9', 'whf', 't9x',\n",
    "       'te5', 'tem', 'tgf', 't9q', 'tdq', 'tdw', 'tsk', 'tut', 'tuz',\n",
    "       'tds', 'tse', 'tsw', 'tgd', 'tu2', 'ts6', 'tsq', 'tfb', 'tv1',\n",
    "       'wh4', 'tey', 't9r', 'teq', 'tex', 'tez', 'tg9', 'ts7', 'tsp',\n",
    "       'tum', 'tu4', 'tu8', 'tu5', 'tt5', 'wh1', 'tv2', 'tv3', 'w41',\n",
    "       'tsr', 'tu1', 'w5f', 'tc8', 'w46', 'tty', 'tux']\n",
    "\n",
    "sorted_min_lats = get_unique_sorted_min_lats(geohashes)\n",
    "print(sorted_min_lats)"
   ]
  },
  {
   "cell_type": "code",
   "execution_count": 9,
   "id": "192b0537-ef92-453d-b827-8680ff1ed118",
   "metadata": {},
   "outputs": [
    {
     "data": {
      "text/plain": [
       "[(0, 7.03125),\n",
       " (7.03125, 8.4375),\n",
       " (8.4375, 9.84375),\n",
       " (9.84375, 11.25),\n",
       " (11.25, 12.65625),\n",
       " (12.65625, 14.0625),\n",
       " (14.0625, 15.46875),\n",
       " (15.46875, 16.875),\n",
       " (16.875, 18.28125),\n",
       " (18.28125, 19.6875),\n",
       " (19.6875, 21.09375),\n",
       " (21.09375, 22.5),\n",
       " (22.5, 23.90625),\n",
       " (23.90625, 25.3125),\n",
       " (25.3125, 26.71875),\n",
       " (26.71875, 28.125),\n",
       " (28.125, 29.53125),\n",
       " (29.53125, 30.9375),\n",
       " (30.9375, 32.34375),\n",
       " (32.34375, 40)]"
      ]
     },
     "execution_count": 9,
     "metadata": {},
     "output_type": "execute_result"
    }
   ],
   "source": [
    "[\n",
    "    (0, 7.03125), (7.03125, 8.4375), (8.4375, 9.84375), (9.84375, 11.25),\n",
    "    (11.25, 12.65625), (12.65625, 14.0625), (14.0625, 15.46875), (15.46875, 16.875),\n",
    "    (16.875, 18.28125), (18.28125, 19.6875), (19.6875, 21.09375), (21.09375, 22.5),\n",
    "    (22.5, 23.90625), (23.90625, 25.3125), (25.3125, 26.71875), (26.71875, 28.125),\n",
    "    (28.125, 29.53125), (29.53125, 30.9375), (30.9375, 32.34375), (32.34375, 40)\n",
    "]"
   ]
  },
  {
   "cell_type": "code",
   "execution_count": null,
   "id": "1b394d6f-38a7-4555-aa22-015dc381fe2e",
   "metadata": {},
   "outputs": [],
   "source": []
  }
 ],
 "metadata": {
  "kernelspec": {
   "display_name": "Python 3 (ipykernel)",
   "language": "python",
   "name": "python3"
  },
  "language_info": {
   "codemirror_mode": {
    "name": "ipython",
    "version": 3
   },
   "file_extension": ".py",
   "mimetype": "text/x-python",
   "name": "python",
   "nbconvert_exporter": "python",
   "pygments_lexer": "ipython3",
   "version": "3.9.15"
  }
 },
 "nbformat": 4,
 "nbformat_minor": 5
}
