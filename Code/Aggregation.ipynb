{
 "cells": [
  {
   "cell_type": "code",
   "execution_count": null,
   "id": "3d78f790-c15a-433a-908b-133ccbd79cda",
   "metadata": {},
   "outputs": [],
   "source": [
    "import subprocess\n",
    "import sys\n",
    "\n",
    "# List of packages to install\n",
    "packages = [\"h3\", \"python-geohash\", \"geopy\", \"seaborn\", \"geopandas\"]\n",
    "\n",
    "# Function to install a package\n",
    "def install_package(package):\n",
    "    subprocess.check_call([sys.executable, \"-m\", \"pip\", \"install\", package])\n",
    "\n",
    "# Try to import packages, install if not found\n",
    "try:\n",
    "    import h3\n",
    "    import geohash\n",
    "    import pandas as pd\n",
    "    import geopy.geocoders\n",
    "    import geopandas as gpd\n",
    "    from shapely import wkt\n",
    "    import matplotlib.pyplot as plt\n",
    "    from shapely.geometry import LineString, Polygon\n",
    "except ImportError as e:\n",
    "    missing_package = str(e).split(\"'\")[1]\n",
    "    print(f\"Package {missing_package} not found. Installing...\")\n",
    "    if missing_package == \"h3\":\n",
    "        install_package(\"h3==4.0.0b5\")  # replace with the pre-release version if necessary\n",
    "    elif missing_package == \"geohash\":\n",
    "        install_package(\"python-geohash\")\n",
    "    else:\n",
    "        install_package(missing_package)\n",
    "    \n",
    "    # Try importing again\n",
    "    try:\n",
    "        import h3\n",
    "        import geohash\n",
    "        import pandas as pd\n",
    "        import geopy.geocoders\n",
    "        import geopandas as gpd\n",
    "        from shapely import wkt\n",
    "        import matplotlib.pyplot as plt\n",
    "        from shapely.geometry import LineString, Polygon\n",
    "    except ImportError as e:\n",
    "        print(f\"Failed to install {missing_package}. Please try to install it manually.\")\n",
    "\n",
    "print(\"All packages are successfully imported!\")"
   ]
  },
  {
   "cell_type": "code",
   "execution_count": null,
   "id": "ae04f6bd-97f5-47d1-a717-5763d54bf006",
   "metadata": {},
   "outputs": [],
   "source": [
    "# SQL engine\n",
    "from trino.dbapi import connect \n",
    "from sqlalchemy import create_engine\n",
    "import pandas as pd\n",
    "import time\n",
    "\n",
    "class TrinoEngine():\n",
    "    def __init__(self):\n",
    "        conn = connect(\n",
    "            host=\"localhost\",\n",
    "            port=9090,\n",
    "            catalog=\"cuebiq\"\n",
    "        )\n",
    "        self.cur = conn.cursor()\n",
    "        self.engine = create_engine(\"trino://localhost:9090/cuebiq/\")\n",
    "    \n",
    "    def execute_statement(self, query:str) -> list:\n",
    "        \"\"\"\n",
    "        Create and drop statements.\n",
    "        \"\"\"\n",
    "        self.cur.execute(query)\n",
    "        return self.cur.fetchall()\n",
    "    \n",
    "    def read_sql(self, query:str) -> pd.DataFrame: \n",
    "        \"\"\"\n",
    "        Select and insert into operations.\n",
    "        \"\"\"\n",
    "        return pd.read_sql(query, self.engine)\n",
    "\n",
    "sql_engine = TrinoEngine()"
   ]
  },
  {
   "cell_type": "code",
   "execution_count": null,
   "id": "179ff94f-2bd9-43f9-94b6-4e851f6de4a8",
   "metadata": {},
   "outputs": [],
   "source": [
    "schema_name = {'cda': 'cuebiq.paas_cda_pe_v3'}\n",
    "\n",
    "# dl_table = f\"{schema_name['cda']}.device_location\"  \n",
    "pe_dl_table = f\"{schema_name['cda']}.device_location_uplevelled\"\n",
    "\n",
    "tj_table = f\"{schema_name['cda']}.trajectory\"     \n",
    "pe_tj_table = f\"{schema_name['cda']}.trajectory_uplevelled\"\n",
    "\n",
    "# stop_table = f\"{schema['cda']}.stop\" \n",
    "pe_stop_table = f\"{schema_name['cda']}.stop_uplevelled\"\n",
    "\n",
    "visit_table = f\"{schema_name['cda']}.visit \" \n"
   ]
  },
  {
   "cell_type": "code",
   "execution_count": null,
   "id": "ce4f4737-0c15-4c97-a6c8-b494d3c1c775",
   "metadata": {},
   "outputs": [],
   "source": [
    "import matplotlib.pyplot as plt\n",
    "import numpy as np\n",
    "from scipy.stats import norm"
   ]
  },
  {
   "cell_type": "markdown",
   "id": "58f2ea44-558a-4ced-87a4-f57926ce3bc6",
   "metadata": {},
   "source": [
    "# dl"
   ]
  },
  {
   "cell_type": "markdown",
   "id": "ccc5bd2c-b8f6-495f-ac4b-65c72e7aa15d",
   "metadata": {},
   "source": [
    "## Get example dataset"
   ]
  },
  {
   "cell_type": "code",
   "execution_count": null,
   "id": "228ce57e-ac69-42df-b1b6-60c566e52b61",
   "metadata": {
    "scrolled": true,
    "tags": []
   },
   "outputs": [],
   "source": [
    "country_code = 'MX'\n",
    "start_date = 20191201\n",
    "end_date = 201901210\n",
    "\n",
    "# Read data from SQL table\n",
    "query = f\"\"\"\n",
    "    SELECT \n",
    "        -- *,\n",
    "        \n",
    "        cuebiq_id, \n",
    "        event_zoned_datetime, \n",
    "        processing_date,\n",
    "        timezoneoffset_secs,\n",
    "        lat,\n",
    "        lng, \n",
    "        \n",
    "        -- Extract only the date part\n",
    "        date(date_parse(substr(event_zoned_datetime, 1, 19), '%Y-%m-%dT%H:%i:%s') +\n",
    "        interval '1' second * timezoneoffset_secs) AS event_date_utc\n",
    "        \n",
    "        -- Extract the date and time part and adjust by the timezone offset \n",
    "        -- date_parse(substr(event_zoned_datetime, 1, 19), '%Y-%m-%dT%H:%i:%s') +\n",
    "        -- interval '1' second * timezoneoffset_secs AS event_datetime_utc\n",
    "        \n",
    "    FROM {pe_dl_table}\n",
    "    WHERE \n",
    "        processing_date = {start_date}\n",
    "        AND country_code = '{country_code}'\n",
    "        AND event_zoned_datetime IS NOT NULL\n",
    "\"\"\"        \n",
    "  \n",
    "\n",
    "pe_dl_table_df = sql_engine.read_sql(query)\n",
    "pe_dl_table_df"
   ]
  },
  {
   "cell_type": "code",
   "execution_count": null,
   "id": "cd3f010b-dc7f-4f31-a129-e1cd3d9edd9d",
   "metadata": {},
   "outputs": [],
   "source": [
    "pe_dl_table_df.to_csv(f'/home/jovyan/Data/20191201_{country_code}_dl.csv', index=False) "
   ]
  },
  {
   "cell_type": "markdown",
   "id": "0e0627c7-dab4-4832-9daa-7b035ac1b53f",
   "metadata": {},
   "source": [
    "## Read in "
   ]
  },
  {
   "cell_type": "code",
   "execution_count": null,
   "id": "4090107c-b1f0-49a4-a526-f48aeb2195bc",
   "metadata": {
    "scrolled": true,
    "tags": []
   },
   "outputs": [],
   "source": [
    "df = pd.read_csv(f'/home/jovyan/Data/20191201_CO_dl.csv')\n",
    "df"
   ]
  },
  {
   "cell_type": "markdown",
   "id": "76c9bfcd-1f3b-415a-bbf7-9aaeb5821d3a",
   "metadata": {},
   "source": [
    "## Convert the points to H3 hexagons"
   ]
  },
  {
   "cell_type": "code",
   "execution_count": null,
   "id": "c8227240-ce40-455a-8015-1de631993d73",
   "metadata": {
    "scrolled": true,
    "tags": []
   },
   "outputs": [],
   "source": [
    "resolution = 7\n",
    "df['h3_index'] = df.apply(lambda row: h3.latlng_to_cell(row['lat'], row['lng'], resolution), axis=1)\n",
    "df"
   ]
  },
  {
   "cell_type": "code",
   "execution_count": null,
   "id": "ed187138-c022-4f40-886a-e6148306e04e",
   "metadata": {},
   "outputs": [],
   "source": [
    "# Group by H3 index to get the number of points and unique users\n",
    "h3_agg = df.groupby('h3_index').agg(\n",
    "    points_count=('cuebiq_id', 'count'),\n",
    "    users_count=('cuebiq_id', 'nunique')\n",
    ").reset_index()\n",
    "h3_agg"
   ]
  },
  {
   "cell_type": "code",
   "execution_count": null,
   "id": "158fa2a9-86c8-4f9a-8c10-28c31c3b0e38",
   "metadata": {},
   "outputs": [],
   "source": [
    "# Filter rows where users_count > 10\n",
    "h3_agg = h3_agg[h3_agg['users_count'] > 10]\n",
    "\n",
    "# Display the filtered DataFrame\n",
    "h3_agg"
   ]
  },
  {
   "cell_type": "markdown",
   "id": "2c791ce8-b40f-4246-bb21-60e4437b445e",
   "metadata": {},
   "source": [
    "## Histogram"
   ]
  },
  {
   "cell_type": "code",
   "execution_count": null,
   "id": "2588b50f-5192-4b38-83a3-5bd06167c3c1",
   "metadata": {},
   "outputs": [],
   "source": [
    "# Check the maximum, minimum, mean, and median values for points_count\n",
    "max_points = h3_agg['points_count'].max()\n",
    "min_points = h3_agg['points_count'].min()\n",
    "mean_points = h3_agg['points_count'].mean()\n",
    "median_points = h3_agg['points_count'].median()\n",
    "\n",
    "# Check the maximum, minimum, mean, and median values for users_count\n",
    "max_users = h3_agg['users_count'].max()\n",
    "min_users = h3_agg['users_count'].min()\n",
    "mean_users = h3_agg['users_count'].mean()\n",
    "median_users = h3_agg['users_count'].median()\n",
    "\n",
    "print(f\"Max Points Count: {max_points}, Min Points Count: {min_points}, Mean Points Count: {mean_points:.2f}, Median Points Count: {median_points}\")\n",
    "print(f\"Max Users Count: {max_users}, Min Users Count: {min_users}, Mean Users Count: {mean_users:.2f}, Median Users Count: {median_users}\")"
   ]
  },
  {
   "cell_type": "markdown",
   "id": "6ca4467d-725d-456c-b715-f5efaa0033e6",
   "metadata": {},
   "source": [
    "### Points Count "
   ]
  },
  {
   "cell_type": "markdown",
   "id": "18fc4212-ba7d-4a90-8001-03bd4c7c6e5d",
   "metadata": {},
   "source": [
    "country_codes = ['MX', 'IN', 'ID', 'CO']   \n",
    "colors = ['#5c6c84', '#83a0b2', '#afc8bb', '#d9ccbc'] "
   ]
  },
  {
   "cell_type": "code",
   "execution_count": null,
   "id": "027a5b9f-fcb8-4c5d-a7ea-4673e0eaf8ef",
   "metadata": {},
   "outputs": [],
   "source": [
    "# Plot histogram for points_count\n",
    "plt.figure(figsize=(10, 6))\n",
    "n, bins, patches = plt.hist(h3_agg['points_count'], bins=30, density=False, color='#d9ccbc', edgecolor='black', alpha=0.7)\n",
    "\n",
    "# Fit a normal distribution to the data\n",
    "mu, std = norm.fit(h3_agg['points_count'])\n",
    "\n",
    "# Plot the PDF\n",
    "xmin, xmax = plt.xlim()\n",
    "x = np.linspace(xmin, xmax, 100)\n",
    "p = norm.pdf(x, mu, std)\n",
    "plt.plot(x, p, 'k', linewidth=2, label=f'N({mu:.2f}, {std:.2f})')\n",
    "\n",
    "plt.title('Distribution of Points Count per H3 Index')\n",
    "plt.xlabel('Points Count')\n",
    "plt.ylabel('Density')\n",
    "plt.legend()\n",
    "plt.grid(True)\n",
    "plt.show()"
   ]
  },
  {
   "cell_type": "code",
   "execution_count": null,
   "id": "6be16f89-c2fe-492d-acc6-89ff132b4f43",
   "metadata": {},
   "outputs": [],
   "source": [
    "# zoom in to  histogram Plot of points_count\n",
    "plt.figure(figsize=(10, 6))\n",
    "n, bins, patches = plt.hist(h3_agg['points_count'], bins= 1000, density=False, color='#d9ccbc', edgecolor='black', alpha=0.7)\n",
    "\n",
    "# Fit a normal distribution to the data\n",
    "# mu, std = norm.fit(h3_agg['points_count'])\n",
    "\n",
    "# # Plot the PDF\n",
    "xmin, xmax = 0, 1000  # Set the x-axis limits to zoom in\n",
    "# x = np.linspace(xmin, xmax, 100)\n",
    "# p = norm.pdf(x, mu, std)\n",
    "# plt.plot(x, p, 'k', linewidth=2, label=f'N({mu:.2f}, {std:.2f})')\n",
    "\n",
    "plt.xlim(xmin, xmax) # Set x-axis limits\n",
    "\n",
    "plt.title('Distribution of Points Count per H3 Index')\n",
    "plt.xlabel('Points Count')\n",
    "plt.ylabel('Density')\n",
    "# plt.legend()\n",
    "plt.grid(True)\n",
    "plt.show()\n"
   ]
  },
  {
   "cell_type": "code",
   "execution_count": null,
   "id": "746bc68f-270c-49ee-9fda-77a6e0fe6c1f",
   "metadata": {},
   "outputs": [],
   "source": []
  },
  {
   "cell_type": "markdown",
   "id": "bd537969-925a-44be-8049-7316b6fea3a2",
   "metadata": {},
   "source": [
    "### Plot histogram for users_count"
   ]
  },
  {
   "cell_type": "code",
   "execution_count": null,
   "id": "6aa131ac-c732-4034-8f04-05462447a8ce",
   "metadata": {},
   "outputs": [],
   "source": [
    "plt.figure(figsize=(10, 6))\n",
    "plt.hist(h3_agg['users_count'], bins=50, color='#d9ccbc', edgecolor='black')\n",
    "plt.title('Distribution of Users Count per H3 Index')\n",
    "plt.xlabel('Users Count')\n",
    "plt.ylabel('Frequency')\n",
    "plt.grid(True)\n",
    "plt.show()"
   ]
  },
  {
   "cell_type": "code",
   "execution_count": null,
   "id": "c431f5b4-c802-4659-807e-fc8e6eb6a03b",
   "metadata": {},
   "outputs": [],
   "source": [
    "# zoom in to  histogram Plot of points_count\n",
    "plt.figure(figsize=(10, 6))\n",
    "n, bins, patches = plt.hist(h3_agg['users_count'], bins= 1000, density=False, color='#d9ccbc', edgecolor='black', alpha=0.7)\n",
    "\n",
    "# Fit a normal distribution to the data\n",
    "mu, std = norm.fit(h3_agg['users_count'])\n",
    "\n",
    "# Plot the PDF\n",
    "xmin, xmax = 5, 100  # Set the x-axis limits to zoom in\n",
    "x = np.linspace(xmin, xmax, 100)\n",
    "p = norm.pdf(x, mu, std)\n",
    "plt.plot(x, p, 'k', linewidth=2, label=f'N({mu:.2f}, {std:.2f})')\n",
    "\n",
    "# Set x-axis limits\n",
    "plt.xlim(xmin, xmax)\n",
    "\n",
    "plt.title('Distribution of User Count per H3 Index')\n",
    "plt.xlabel('Points Count')\n",
    "plt.ylabel('Density')\n",
    "plt.legend()\n",
    "plt.grid(True)\n",
    "plt.show()\n"
   ]
  },
  {
   "cell_type": "markdown",
   "id": "5ba42a2b-de4f-490e-a5e1-e0fdf39131da",
   "metadata": {},
   "source": [
    "## Map (h3_index to POLYGON)"
   ]
  },
  {
   "cell_type": "code",
   "execution_count": null,
   "id": "b5d6351c-6788-4cb5-8b28-90f4819623e6",
   "metadata": {
    "scrolled": true,
    "tags": []
   },
   "outputs": [],
   "source": [
    "import geopandas as gpd\n",
    "import matplotlib.pyplot as plt\n",
    "from shapely.geometry import Polygon\n",
    "\n",
    "def h3_to_polygon(h3_index):\n",
    "    boundary = h3.cell_to_boundary(h3_index)\n",
    "    return Polygon([(lat, lon) for lat, lon in boundary])\n",
    "\n",
    "# Create a GeoDataFrame\n",
    "gdf = gpd.GeoDataFrame(h3_agg, geometry=h3_agg['h3_index'].apply(h3_to_polygon))\n",
    "gdf\n"
   ]
  },
  {
   "cell_type": "code",
   "execution_count": null,
   "id": "fed0b61b-933e-4471-8c89-b306415811b2",
   "metadata": {},
   "outputs": [],
   "source": [
    "import matplotlib.pyplot as plt\n",
    "import numpy as np\n",
    "import pandas as pd\n",
    "import h3\n",
    "from scipy.stats import norm\n",
    "\n",
    "# Define the countries and corresponding colors\n",
    "country_codes = ['MX', 'IN', 'ID', 'CO']\n",
    "colors = ['#5c6c84', '#83a0b2', '#afc8bb', '#d9ccbc']\n",
    "\n",
    "fig, axes = plt.subplots(4, 2, figsize=(15, 20))\n",
    "\n",
    "for i, (country_code, color) in enumerate(zip(country_codes, colors)):\n",
    "    # Load data for each country\n",
    "    df = pd.read_csv(f'/home/jovyan/Data/20191201_{country_code}_dl.csv')\n",
    "\n",
    "    # Calculate H3 index\n",
    "    resolution = 7\n",
    "    df['h3_index'] = df.apply(lambda row: h3.latlng_to_cell(row['lat'], row['lng'], resolution), axis=1)\n",
    "\n",
    "    # Group by H3 index to get the number of points and unique users\n",
    "    h3_agg = df.groupby('h3_index').agg(\n",
    "        points_count=('cuebiq_id', 'count'),\n",
    "        users_count=('cuebiq_id', 'nunique')\n",
    "    ).reset_index()\n",
    "\n",
    "    # Filter rows where users_count > 10\n",
    "    h3_agg = h3_agg[h3_agg['users_count'] > 10]\n",
    "\n",
    "    # Plot histogram for points_count\n",
    "    ax = axes[i, 0]\n",
    "    n, bins, patches = ax.hist(h3_agg['points_count'], bins=30, density=False, color=color, edgecolor='black', alpha=0.7)\n",
    "\n",
    "    # Fit a normal distribution to the data\n",
    "    mu, std = norm.fit(h3_agg['points_count'])\n",
    "\n",
    "    # Plot the PDF\n",
    "    xmin, xmax = ax.get_xlim()\n",
    "    x = np.linspace(xmin, xmax, 100)\n",
    "    p = norm.pdf(x, mu, std)\n",
    "    ax.plot(x, p, 'k', linewidth=2, label=f'N({mu:.2f}, {std:.2f})')\n",
    "\n",
    "    ax.set_title(f'{country_code} - Distribution of Points Count per H3 Index')\n",
    "    ax.set_xlabel('Points Count')\n",
    "    ax.set_ylabel('Frequency')\n",
    "    ax.legend()\n",
    "    ax.grid(True)\n",
    "\n",
    "    # Plot histogram for users_count\n",
    "    ax = axes[i, 1]\n",
    "    ax.hist(h3_agg['users_count'], bins=30, color=color, edgecolor='black', alpha=0.7)\n",
    "    ax.set_title(f'{country_code} - Distribution of Users Count per H3 Index')\n",
    "    ax.set_xlabel('Users Count')\n",
    "    ax.set_ylabel('Frequency')\n",
    "    ax.grid(True)\n",
    "\n",
    "plt.tight_layout()\n",
    "plt.show()\n"
   ]
  },
  {
   "cell_type": "code",
   "execution_count": null,
   "id": "7ec74092-49b9-4527-9001-29bd7fef4f05",
   "metadata": {},
   "outputs": [],
   "source": [
    "import matplotlib.pyplot as plt\n",
    "import numpy as np\n",
    "import pandas as pd\n",
    "import h3\n",
    "from scipy.stats import norm\n",
    "\n",
    "# Define the countries and corresponding colors\n",
    "country_codes = ['MX', 'IN', 'ID', 'CO']\n",
    "colors = ['#5c6c84', '#83a0b2', '#afc8bb', '#d9ccbc']\n",
    "\n",
    "# Define the x-axis limits for points_count and users_count\n",
    "xmax_points = [2500, 2500, 2500, 2500]\n",
    "xmax_users = [300, 300, 300, 300]\n",
    "\n",
    "fig, axes = plt.subplots(4, 2, figsize=(15, 20))\n",
    "\n",
    "for i, (country_code, color) in enumerate(zip(country_codes, colors)):\n",
    "    # Load data for each country\n",
    "    df = pd.read_csv(f'/home/jovyan/Data/20191201_{country_code}_dl.csv')\n",
    "\n",
    "    # Calculate H3 index\n",
    "    resolution = 7\n",
    "    df['h3_index'] = df.apply(lambda row: h3.latlng_to_cell(row['lat'], row['lng'], resolution), axis=1)\n",
    "\n",
    "    # Group by H3 index to get the number of points and unique users\n",
    "    h3_agg = df.groupby('h3_index').agg(\n",
    "        points_count=('cuebiq_id', 'count'),\n",
    "        users_count=('cuebiq_id', 'nunique')\n",
    "    ).reset_index()\n",
    "\n",
    "    # Filter rows where users_count > 10\n",
    "    h3_agg = h3_agg[h3_agg['users_count'] > 10]\n",
    "\n",
    "    # Plot histogram for points_count\n",
    "    ax = axes[i, 0]\n",
    "    n, bins, patches = ax.hist(h3_agg['points_count'], bins=500, density=False, color=color, edgecolor='black', alpha=0.7)\n",
    "    \n",
    "    xmin, xmax = 0, xmax_points[i]  # Set the x-axis limits to zoom in\n",
    "    ax.set_xlim(xmin, xmax)\n",
    "    ax.set_title(f'{country_code} - Distribution of Points Count per H3 Index')\n",
    "    ax.set_xlabel('Points Count')\n",
    "    ax.set_ylabel('Frequency')\n",
    "    ax.grid(True)\n",
    "\n",
    "    # Plot histogram for users_count\n",
    "    ax = axes[i, 1]\n",
    "    ax.hist(h3_agg['users_count'], bins=500, color=color, edgecolor='black', alpha=0.7)\n",
    "    ax.set_xlim(0, xmax_users[i])  # Set the x-axis limits to zoom in\n",
    "    ax.set_title(f'{country_code} - Distribution of Users Count per H3 Index')\n",
    "    ax.set_xlabel('Users Count')\n",
    "    ax.set_ylabel('Frequency')\n",
    "    ax.grid(True)\n",
    "\n",
    "plt.tight_layout()\n",
    "plt.savefig(f'/home/jovyan/Data/20191201_dl_plots_1.png', dpi=300)  # Save the figure with high resolution\n",
    "plt.show()\n"
   ]
  },
  {
   "cell_type": "code",
   "execution_count": null,
   "id": "48b6ae79-990f-4a86-b3c2-102669de0a7e",
   "metadata": {},
   "outputs": [],
   "source": []
  },
  {
   "cell_type": "code",
   "execution_count": null,
   "id": "29c8b21c-7336-43ee-ad9d-78f1d7b5c73b",
   "metadata": {},
   "outputs": [],
   "source": []
  },
  {
   "cell_type": "markdown",
   "id": "85d706df-c752-429e-9f9d-c0ea0127d909",
   "metadata": {},
   "source": [
    "# Tj"
   ]
  },
  {
   "cell_type": "code",
   "execution_count": null,
   "id": "cd45dd55-f519-4a5f-bc9b-489d909d2fdc",
   "metadata": {},
   "outputs": [],
   "source": [
    "df['trajectory_wkt'][0]"
   ]
  },
  {
   "cell_type": "code",
   "execution_count": null,
   "id": "42fa3c65-2a8b-4f4d-85bb-8f273e993e16",
   "metadata": {},
   "outputs": [],
   "source": [
    "# Parse the WKT strings into geometries\n",
    "df['geometry'] = df['trajectory_wkt'].apply(wkt.loads)\n",
    "gdf = gpd.GeoDataFrame(df, geometry='geometry')\n",
    "\n",
    "# Plotting\n",
    "fig, ax = plt.subplots(1, 1, figsize=(10, 10))\n",
    "gdf.plot(ax=ax, color='blue')\n",
    "\n",
    "# Customize the plot\n",
    "plt.title('Trajectory Data')\n",
    "plt.xlabel('Longitude')\n",
    "plt.ylabel('Latitude')\n",
    "plt.grid(True)\n",
    "plt.show()"
   ]
  },
  {
   "cell_type": "code",
   "execution_count": null,
   "id": "99aa0af2-a702-48be-b8d0-1ab9855ef415",
   "metadata": {},
   "outputs": [],
   "source": []
  }
 ],
 "metadata": {
  "kernelspec": {
   "display_name": "Python 3 (ipykernel)",
   "language": "python",
   "name": "python3"
  },
  "language_info": {
   "codemirror_mode": {
    "name": "ipython",
    "version": 3
   },
   "file_extension": ".py",
   "mimetype": "text/x-python",
   "name": "python",
   "nbconvert_exporter": "python",
   "pygments_lexer": "ipython3",
   "version": "3.9.15"
  }
 },
 "nbformat": 4,
 "nbformat_minor": 5
}
