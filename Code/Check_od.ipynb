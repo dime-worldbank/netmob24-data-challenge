{
 "cells": [
  {
   "cell_type": "code",
   "execution_count": null,
   "id": "b8358f72-98b8-431a-9163-0b9b29538d7b",
   "metadata": {},
   "outputs": [],
   "source": [
    "import io\n",
    "import os\n",
    "import numpy as np\n",
    "import pandas as pd\n",
    "import matplotlib.pyplot as plt\n",
    "from datetime import datetime"
   ]
  },
  {
   "cell_type": "markdown",
   "id": "ef2b5eaa-7407-40e4-ab70-52d7d443fb17",
   "metadata": {},
   "source": [
    "### All file in a folder"
   ]
  },
  {
   "cell_type": "code",
   "execution_count": null,
   "id": "f095a3fe-4873-499b-aacf-eee8377e6330",
   "metadata": {
    "scrolled": true,
    "tags": []
   },
   "outputs": [],
   "source": [
    "folder_path = '/home/jovyan/Data/2020OD/del_3h/IN'\n",
    "\n",
    "file_list = [f for f in os.listdir(folder_path) if os.path.isfile(os.path.join(folder_path, f))]\n",
    "df_list = []\n",
    "\n",
    "# Loop through the list of files and read each file into a DataFrame\n",
    "for file_name in file_list:\n",
    "    file_path = os.path.join(folder_path, file_name)\n",
    "    df = pd.read_csv(file_path) \n",
    "    df_list.append(df)\n",
    "\n",
    "# Concatenate all DataFrames into a single DataFrame\n",
    "combined_df = pd.concat(df_list, ignore_index=True)\n",
    "combined_df"
   ]
  },
  {
   "cell_type": "code",
   "execution_count": null,
   "id": "6dd7fae2-c64d-487f-afd4-b27cdbc09c0f",
   "metadata": {},
   "outputs": [],
   "source": [
    "combined_df['trip_count'].sum()"
   ]
  },
  {
   "cell_type": "code",
   "execution_count": null,
   "id": "b76f2765-9b06-421f-907e-c5f0538688a9",
   "metadata": {},
   "outputs": [],
   "source": [
    "combined_df['local_date'] = pd.to_datetime(combined_df['local_date']).dt.strftime('%Y%m%d')\n",
    "combined_df"
   ]
  },
  {
   "cell_type": "markdown",
   "id": "f485ca30-e913-41c2-9be5-e4404b8b340a",
   "metadata": {
    "tags": []
   },
   "source": [
    "### Select files"
   ]
  },
  {
   "cell_type": "code",
   "execution_count": null,
   "id": "a9bb7e7d-5331-4e91-aea5-f1649c8339a6",
   "metadata": {
    "scrolled": true,
    "tags": []
   },
   "outputs": [],
   "source": [
    "file1 = '/home/jovyan/Data/2020OD/del_3h/od_in_agg5_3h_1.csv'\n",
    "df1 = pd.read_csv(file1)\n",
    "# df1['local_date'] = df1['local_date'].astype(int)\n",
    "df1"
   ]
  },
  {
   "cell_type": "code",
   "execution_count": null,
   "id": "f256e68f-c7e9-47b4-ac26-2d07c148446e",
   "metadata": {
    "scrolled": true,
    "tags": []
   },
   "outputs": [],
   "source": [
    "# len(final_df.loc[final_df['local_date'] == 20190203])\n",
    "# sub_set1 = df1.loc[(df1['local_date'] >= 20190601) & (df1['local_date'] <= 20190631)]\n",
    "# sub_set1"
   ]
  },
  {
   "cell_type": "code",
   "execution_count": null,
   "id": "61136c10-9efa-4285-be2c-30dedb4c8cd4",
   "metadata": {
    "scrolled": true,
    "tags": []
   },
   "outputs": [],
   "source": [
    "file2 = '/home/jovyan/Data/TJ/3h/od_mx2_agg3_3h.csv'\n",
    "df2 = pd.read_csv(file2)\n",
    "df2['local_date'] = df2['local_date'].astype(int)\n",
    "df2"
   ]
  },
  {
   "cell_type": "code",
   "execution_count": null,
   "id": "6499039b-3141-4034-9fe0-68fd4a082cc4",
   "metadata": {
    "scrolled": true,
    "tags": []
   },
   "outputs": [],
   "source": [
    "combined_df = pd.concat([df1, df2], ignore_index=True)\n",
    "combined_df"
   ]
  },
  {
   "cell_type": "markdown",
   "id": "53ef6426-d1ef-45f9-b923-0f387b222653",
   "metadata": {
    "tags": []
   },
   "source": [
    "## Check duplicates"
   ]
  },
  {
   "cell_type": "code",
   "execution_count": null,
   "id": "bac37aae-c4fc-4d3b-bace-267a3886800e",
   "metadata": {
    "scrolled": true,
    "tags": []
   },
   "outputs": [],
   "source": [
    "# combined_df['start_geohash3'] = combined_df['start_geohash3'].astype(str)\n",
    "# combined_df['end_geohash3'] = combined_df['end_geohash3'].astype(str)\n",
    "\n",
    "combined_df['start_geohash5'] = combined_df['start_geohash5'].astype(str)\n",
    "combined_df['end_geohash5'] = combined_df['end_geohash5'].astype(str)\n",
    "\n",
    "combined_df['local_date'] = combined_df['local_date'].astype(int)\n",
    "combined_df['trip_count'] = combined_df['trip_count'].astype(int)\n",
    "combined_df['m_duration_min'] = combined_df['m_duration_min'].astype(float)\n",
    "combined_df['mdn_duration_min'] = combined_df['mdn_duration_min'].astype(float)\n",
    "combined_df['sd_duration_min'] = combined_df['sd_duration_min'].astype(float)\n",
    "combined_df['m_length_m'] = combined_df['m_length_m'].astype(float)\n",
    "combined_df['mdn_length_m'] = combined_df['mdn_length_m'].astype(float)\n",
    "combined_df['sd_length_m'] = combined_df['sd_length_m'].astype(float)\n",
    "combined_df['m_points_no'] = combined_df['m_points_no'].astype(float)\n",
    "combined_df['mdn_points_no'] = combined_df['mdn_points_no'].astype(float)\n",
    "combined_df['sd_points_no'] = combined_df['sd_points_no'].astype(float)\n",
    "combined_df['local_time'] = combined_df['local_time'].astype(str)\n",
    "\n",
    "# Round float columns to 6 decimal places\n",
    "float_columns = ['m_duration_min', 'mdn_duration_min', 'sd_duration_min',\n",
    "                 'm_length_m', 'mdn_length_m', 'sd_length_m',\n",
    "                 'm_points_no', 'mdn_points_no', 'sd_points_no']\n",
    "\n",
    "combined_df[float_columns] = combined_df[float_columns].round(6)\n",
    "\n",
    "combined_df = combined_df.drop_duplicates()\n",
    "\n",
    "combined_df = combined_df.sort_values('local_time').reset_index(drop = True)\n",
    "combined_df"
   ]
  },
  {
   "cell_type": "markdown",
   "id": "2ff6f971-730a-4978-9bb4-f26112f0f592",
   "metadata": {},
   "source": [
    "## Check missing dates"
   ]
  },
  {
   "cell_type": "code",
   "execution_count": null,
   "id": "7d83b580-eed8-4cca-8055-781108b3a68c",
   "metadata": {},
   "outputs": [],
   "source": [
    "unique_values_count = combined_df[\"local_date\"].unique()\n",
    "all_dates = pd.date_range(start='2019-01-01', end='2019-12-31').strftime('%Y%m%d').astype(int)\n",
    "all_dates = np.array(all_dates)\n",
    "missing_dates = np.setdiff1d(all_dates, unique_values_count)\n",
    "\n",
    "missing_dates"
   ]
  },
  {
   "cell_type": "markdown",
   "id": "99d25b42-cd1c-4d6c-a256-a803700db257",
   "metadata": {},
   "source": [
    "## Check for hours per day (for 3h)"
   ]
  },
  {
   "cell_type": "code",
   "execution_count": null,
   "id": "5b577800-8524-45ac-852c-7230d63cceb9",
   "metadata": {
    "scrolled": true,
    "tags": []
   },
   "outputs": [],
   "source": [
    "# Convert local_date to datetime objects\n",
    "combined_df['local_date'] = pd.to_datetime(combined_df['local_date'], format='%Y%m%d')\n",
    "\n",
    "# Function to parse the local_time column and extract the start hour\n",
    "def parse_start_hour(time_str):\n",
    "    try:\n",
    "        start_time_str, _ = time_str.split(' - ')\n",
    "        start_time = datetime.strptime(start_time_str, '%Y%m%d %H:%M:%S')\n",
    "        return start_time.hour\n",
    "    except ValueError:\n",
    "        return None\n",
    "\n",
    "combined_df['start_hour'] = combined_df['local_time'].map(parse_start_hour)\n",
    "\n",
    "# Required hours to check\n",
    "required_hours = set([0, 3, 6, 9, 12, 15, 18, 21])\n",
    "\n",
    "# Group by local_date and check missing hours\n",
    "missing_hours = {}\n",
    "\n",
    "for date, group in combined_df.groupby('local_date'):\n",
    "    present_hours = set(group['start_hour'])\n",
    "    missing = required_hours - present_hours\n",
    "    if missing:\n",
    "        missing_hours[date] = sorted(list(missing))\n",
    "\n",
    "# Convert missing hours dictionary to DataFrame for better readability\n",
    "missing_hours_df = pd.DataFrame(list(missing_hours.items()), columns=['Date', 'Missing Hours'])\n",
    "\n",
    "# Display the missing hours\n",
    "print(\"Missing hours for each date:\")\n",
    "print(missing_hours_df)"
   ]
  },
  {
   "cell_type": "markdown",
   "id": "343950ce-2e55-4d5e-a002-6cea7a5c932d",
   "metadata": {},
   "source": [
    "## Check with figure"
   ]
  },
  {
   "cell_type": "code",
   "execution_count": null,
   "id": "773469c3-98b2-40e6-9550-5cb19cb57209",
   "metadata": {},
   "outputs": [],
   "source": [
    "daily_counts = combined_df['local_date'].value_counts().sort_index()\n",
    "\n",
    "# Generate custom xticks starting from the first date and then incrementing by 7 days\n",
    "start_date = daily_counts.index.min()\n",
    "end_date = daily_counts.index.max()\n",
    "custom_xticks = pd.date_range(start=start_date, end=end_date, freq='7D')\n",
    "\n",
    "# Plot the results\n",
    "plt.figure(figsize=(10, 6))\n",
    "daily_counts.plot(kind='bar')\n",
    "plt.title('Number of Rows for Each Day')\n",
    "plt.xlabel('Date')\n",
    "plt.ylabel('Number of Rows')\n",
    "plt.xticks(ticks=range(len(daily_counts)), labels=daily_counts.index.strftime('%Y-%m-%d'), rotation=90)\n",
    "plt.gca().set_xticks([i for i, date in enumerate(daily_counts.index) if date in custom_xticks])\n",
    "plt.tight_layout()\n",
    "plt.show()"
   ]
  },
  {
   "cell_type": "markdown",
   "id": "ee239e99-835e-4428-8611-b62598bc8060",
   "metadata": {},
   "source": [
    "## Check Minimum and Maximum"
   ]
  },
  {
   "cell_type": "code",
   "execution_count": null,
   "id": "3f3fffcf-b3fb-4c96-987f-4f472ba906be",
   "metadata": {
    "scrolled": true,
    "tags": []
   },
   "outputs": [],
   "source": [
    "max_15_counts = daily_counts.nlargest(50)\n",
    "max_15_counts"
   ]
  },
  {
   "cell_type": "code",
   "execution_count": null,
   "id": "f84ce05a-2d0e-4c49-9ca0-c4bc7bcd63d3",
   "metadata": {},
   "outputs": [],
   "source": [
    "min_5_counts = daily_counts.nsmallest(15)\n",
    "min_5_counts"
   ]
  },
  {
   "cell_type": "code",
   "execution_count": null,
   "id": "eaeeab0f-dee8-420a-8de6-5a494b63f0fe",
   "metadata": {},
   "outputs": [],
   "source": []
  },
  {
   "cell_type": "markdown",
   "id": "4c6396ba-9ce5-49c5-88bd-56af49fa2481",
   "metadata": {},
   "source": [
    "## Check for certain date  "
   ]
  },
  {
   "cell_type": "code",
   "execution_count": null,
   "id": "ea05256e-2d45-45ee-ab5e-c347c8b4ca0d",
   "metadata": {
    "scrolled": true,
    "tags": []
   },
   "outputs": [],
   "source": [
    "# filtered_df = combined_df.loc[combined_df['local_date'] == 20190303]\n",
    "combined_df.loc[combined_df['local_date'] == 20190606] "
   ]
  },
  {
   "cell_type": "code",
   "execution_count": null,
   "id": "a7dc2fe4-80f0-43be-a58a-677bcf3eeba6",
   "metadata": {},
   "outputs": [],
   "source": []
  },
  {
   "cell_type": "markdown",
   "id": "a5c513b9-7f69-4c07-a734-c9a17370519d",
   "metadata": {},
   "source": [
    "## Clean up and Export"
   ]
  },
  {
   "cell_type": "code",
   "execution_count": null,
   "id": "1f5c9895-d01b-43cd-9cfe-6dd5ba00a0e8",
   "metadata": {
    "scrolled": true,
    "tags": []
   },
   "outputs": [],
   "source": [
    "combined_df"
   ]
  },
  {
   "cell_type": "code",
   "execution_count": null,
   "id": "7057c94f-028e-4bd8-9326-ce52808be00c",
   "metadata": {
    "scrolled": true,
    "tags": []
   },
   "outputs": [],
   "source": [
    "combined_df = combined_df.drop(['start_hour'], axis=1)\n",
    "combined_df['local_date'] = combined_df['local_date'].dt.strftime('%Y%m%d').astype(int)\n",
    "combined_df = combined_df.sort_values('local_time').reset_index(drop=True)\n",
    "combined_df"
   ]
  },
  {
   "cell_type": "code",
   "execution_count": null,
   "id": "2ea5bfc5-27f0-4ad6-9787-72e18cf79324",
   "metadata": {},
   "outputs": [],
   "source": [
    "# Save the combined DataFrame to a new CSV file\n",
    "folder_path = '/home/jovyan/Data/TJ/3h/od5_mx'\n",
    "combined_df.to_csv(folder_path + '/od_mx_agg5_3h_final.csv', index=False)"
   ]
  },
  {
   "cell_type": "code",
   "execution_count": null,
   "id": "b0cd72fa-5bd1-4abd-934a-9c22aa5eb2dd",
   "metadata": {},
   "outputs": [],
   "source": []
  },
  {
   "cell_type": "code",
   "execution_count": null,
   "id": "ee6a3e39-2d57-470f-bdc7-b333a55810df",
   "metadata": {},
   "outputs": [],
   "source": []
  },
  {
   "cell_type": "markdown",
   "id": "35e11ba0-212a-4186-8e16-162cd901661a",
   "metadata": {},
   "source": [
    "## Get total number"
   ]
  },
  {
   "cell_type": "code",
   "execution_count": null,
   "id": "5c0e57e2-df98-4b58-accf-cf6f83e07e67",
   "metadata": {},
   "outputs": [],
   "source": [
    "country_code = 'CO'\n",
    "year = 2019 \n",
    "\n",
    "file_weekgh = f'/home/jovyan/Data/Week/combined/od_week_gh5_{country_code.lower()}_{year}_all.csv'\n",
    "df_weekgh = pd.read_csv(file_weekgh)\n",
    "df_weekgh['trip_count'].sum()"
   ]
  },
  {
   "cell_type": "code",
   "execution_count": null,
   "id": "82fef561-4670-47a9-8e94-d29440d1c5bb",
   "metadata": {},
   "outputs": [],
   "source": [
    "file_weekh3 = f'/home/jovyan/Data/Week/combined/od_week_h37_{country_code.lower()}_{year}_all.csv'\n",
    "df_weekh3 = pd.read_csv(file_weekh3)\n",
    "df_weekh3['trip_count'].sum()"
   ]
  },
  {
   "cell_type": "code",
   "execution_count": null,
   "id": "2ed3c499-10ac-490d-9cc8-e31dbfa474ba",
   "metadata": {},
   "outputs": [],
   "source": [
    "file_monthh3 = f'/home/jovyan/Data/Month/combined/od_month_h37_{country_code.lower()}_{year}_all.csv'\n",
    "df_monthh3 = pd.read_csv(file_monthh3)\n",
    "df_monthh3['trip_count'].sum()"
   ]
  },
  {
   "cell_type": "code",
   "execution_count": null,
   "id": "72709f8e-22dd-402e-a902-764542e58035",
   "metadata": {},
   "outputs": [],
   "source": [
    "file_monthgh5 = f'/home/jovyan/Data/Month/combined/od_month_gh5_{country_code.lower()}_{year}_all.csv'\n",
    "df_monthgh5 = pd.read_csv(file_monthgh5)\n",
    "df_monthgh5['trip_count'].sum()"
   ]
  },
  {
   "cell_type": "code",
   "execution_count": null,
   "id": "58fee5ea-2012-441c-aead-0db218b18b0f",
   "metadata": {},
   "outputs": [],
   "source": []
  },
  {
   "cell_type": "code",
   "execution_count": null,
   "id": "3c9c62c8-28c5-4ed2-b354-0145bcf60555",
   "metadata": {},
   "outputs": [],
   "source": []
  },
  {
   "cell_type": "code",
   "execution_count": null,
   "id": "45a9d195-42c4-4a0b-b3af-30bfbecdbe68",
   "metadata": {},
   "outputs": [],
   "source": []
  },
  {
   "cell_type": "code",
   "execution_count": null,
   "id": "cd3f2fd9-7750-4ac5-8e40-13c4830130ec",
   "metadata": {},
   "outputs": [],
   "source": []
  },
  {
   "cell_type": "code",
   "execution_count": null,
   "id": "7737c1f3-c71e-456f-9701-177cc1060e3c",
   "metadata": {},
   "outputs": [],
   "source": [
    "import os\n",
    "import pandas as pd"
   ]
  },
  {
   "cell_type": "code",
   "execution_count": null,
   "id": "a3bb7510-82e4-41bf-bef0-c2dbda9bf225",
   "metadata": {},
   "outputs": [],
   "source": [
    "base_path_month = '/home/jovyan/Data/Month/combined/'\n",
    "data_month = []"
   ]
  },
  {
   "cell_type": "code",
   "execution_count": null,
   "id": "59bbae0d-aa33-4cb0-bb38-a6aff1cc0940",
   "metadata": {
    "scrolled": true,
    "tags": []
   },
   "outputs": [],
   "source": [
    "# Walk through the directory and only consider .csv files\n",
    "for root, dirs, files in os.walk(base_path_month):\n",
    "    for file in files:\n",
    "        if file.endswith('.csv'):\n",
    "            # Construct the full file path\n",
    "            file_path = os.path.join(root, file)\n",
    "            \n",
    "            # Extract temporal resolution, spatial resolution, country code, and year from the file path\n",
    "            temporal_resolution = file.split('_')[1]  # Extracted from file name, e.g., month\n",
    "            spatial_resolution = file.split('_')[2]  # Extracted from file name, e.g., H37 or GH5\n",
    "            country_code = file.split('_')[3]  # Extract country code from the file name\n",
    "            year = file.split('_')[4]  # Extract year from the file name\n",
    "            \n",
    "            # Read the CSV file into a DataFrame\n",
    "            df = pd.read_csv(file_path)\n",
    "            \n",
    "            # Calculate the total trip count\n",
    "            total_trip_count = df['trip_count'].sum()\n",
    "            \n",
    "            # Append the results to the list\n",
    "            data_month.append({\n",
    "                'file_name': file,\n",
    "                'trip_count': total_trip_count,\n",
    "                'file_path': file_path,\n",
    "                'temporal_resolution': temporal_resolution,\n",
    "                'spatial_resolution': spatial_resolution,\n",
    "                'country_code': country_code,\n",
    "                'year': year\n",
    "            })\n",
    "\n",
    "# Convert the list to a DataFrame\n",
    "result_df_month = pd.DataFrame(data_month)\n",
    "result_df_month"
   ]
  },
  {
   "cell_type": "code",
   "execution_count": null,
   "id": "689a678e-30e5-44eb-889f-340028665d1a",
   "metadata": {},
   "outputs": [],
   "source": [
    "base_path_week = '/home/jovyan/Data/Week/combined/'\n",
    "data_week = []"
   ]
  },
  {
   "cell_type": "code",
   "execution_count": null,
   "id": "88df8a4f-5a1a-40dc-b1ec-732007a1b051",
   "metadata": {
    "scrolled": true,
    "tags": []
   },
   "outputs": [],
   "source": [
    "# Walk through the directory and only consider .csv files\n",
    "for root, dirs, files in os.walk(base_path_week):\n",
    "    for file in files:\n",
    "        if file.endswith('.csv'):\n",
    "            # Construct the full file path\n",
    "            file_path = os.path.join(root, file)\n",
    "            \n",
    "            # Extract temporal resolution, spatial resolution, country code, and year from the file path\n",
    "            temporal_resolution = file.split('_')[1]  # Extracted from file name, e.g., month\n",
    "            spatial_resolution = file.split('_')[2]  # Extracted from file name, e.g., H37 or GH5\n",
    "            country_code = file.split('_')[3]  # Extract country code from the file name\n",
    "            year = file.split('_')[4]  # Extract year from the file name\n",
    "            \n",
    "            # Read the CSV file into a DataFrame\n",
    "            df = pd.read_csv(file_path)\n",
    "            \n",
    "            # Calculate the total trip count\n",
    "            total_trip_count = df['trip_count'].sum()\n",
    "            \n",
    "            # Append the results to the list\n",
    "            data_week.append({\n",
    "                'file_name': file,\n",
    "                'trip_count': total_trip_count,\n",
    "                'file_path': file_path,\n",
    "                'temporal_resolution': temporal_resolution,\n",
    "                'spatial_resolution': spatial_resolution,\n",
    "                'country_code': country_code,\n",
    "                'year': year\n",
    "            })\n",
    "\n",
    "# Convert the list to a DataFrame\n",
    "result_df_week = pd.DataFrame(data_week)\n",
    "result_df_week"
   ]
  },
  {
   "cell_type": "code",
   "execution_count": null,
   "id": "55a90137-90ea-4ecd-9e0e-c84b3ac7068f",
   "metadata": {
    "scrolled": true,
    "tags": []
   },
   "outputs": [],
   "source": [
    "combined_df = pd.concat([result_df_week, result_df_month], ignore_index=True)\n",
    "combined_df"
   ]
  },
  {
   "cell_type": "code",
   "execution_count": null,
   "id": "371a4a83-6a75-49ab-9ee8-4761eb5009af",
   "metadata": {},
   "outputs": [],
   "source": [
    "combined_df.to_csv('/home/jovyan/Netmob24_datachallenge/Code/OD_location_wm.csv', index=False)"
   ]
  },
  {
   "cell_type": "code",
   "execution_count": null,
   "id": "27999926-9661-449b-930f-311a457bf7af",
   "metadata": {},
   "outputs": [],
   "source": []
  }
 ],
 "metadata": {
  "kernelspec": {
   "display_name": "Python 3 (ipykernel)",
   "language": "python",
   "name": "python3"
  },
  "language_info": {
   "codemirror_mode": {
    "name": "ipython",
    "version": 3
   },
   "file_extension": ".py",
   "mimetype": "text/x-python",
   "name": "python",
   "nbconvert_exporter": "python",
   "pygments_lexer": "ipython3",
   "version": "3.10.17"
  }
 },
 "nbformat": 4,
 "nbformat_minor": 5
}
