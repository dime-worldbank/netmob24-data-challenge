{
 "cells": [
  {
   "cell_type": "code",
   "execution_count": null,
   "id": "b8358f72-98b8-431a-9163-0b9b29538d7b",
   "metadata": {},
   "outputs": [],
   "source": [
    "import pandas as pd\n",
    "import io\n",
    "import os\n",
    "import numpy as np\n",
    "import matplotlib.pyplot as plt\n",
    "from datetime import datetime"
   ]
  },
  {
   "cell_type": "code",
   "execution_count": null,
   "id": "a9bb7e7d-5331-4e91-aea5-f1649c8339a6",
   "metadata": {
    "scrolled": true,
    "tags": []
   },
   "outputs": [],
   "source": [
    "file1 = '/home/jovyan/Data/daily_pd5/Cleaned/pd_MX_2019_agg5_daily.csv'\n",
    "df1 = pd.read_csv(file1)\n",
    "df1 = df1.drop(columns=['grt', 'day', 'month'])\n",
    "df1.columns = ['geohash_5', 'no_of_points', 'no_of_unique_users', 'local_date']\n",
    "# df1.columns = ['geohash_5', 'no_of_points', 'no_of_unique_users', 'local_time', 'local_date']\n",
    "df1 = df1[df1['local_date'].apply(lambda x: str(x).isdigit())]\n",
    "df1['local_date'] = df1['local_date'].astype(int)\n",
    "combined_df=df1\n",
    "\n",
    "df1"
   ]
  },
  {
   "cell_type": "code",
   "execution_count": null,
   "id": "d699357c-fd48-4c62-ac08-6af7de2a0da6",
   "metadata": {
    "scrolled": true,
    "tags": []
   },
   "outputs": [],
   "source": [
    "file2 = '/home/jovyan/Data/pd3/pd_mx2_2019_agg5_3h.csv'\n",
    "df2 = pd.read_csv(file2)\n",
    "# df1.columns = ['geohash_3', 'no_of_points', 'no_of_unique_users', 'local_date']\n",
    "df2 = df2[df2['local_date'].apply(lambda x: str(x).isdigit())]\n",
    "df2['local_date'] = df2['local_date'].astype(int)\n",
    "df2"
   ]
  },
  {
   "cell_type": "code",
   "execution_count": null,
   "id": "214602ca-577e-4772-8a81-2dc7933ec0ce",
   "metadata": {
    "scrolled": true,
    "tags": []
   },
   "outputs": [],
   "source": [
    "combined_df = pd.concat([df1, df2], ignore_index=True)\n",
    "combined_df"
   ]
  },
  {
   "cell_type": "code",
   "execution_count": null,
   "id": "bc2d5a23-cdaa-4ee4-8b46-c0a30c62118a",
   "metadata": {
    "scrolled": true,
    "tags": []
   },
   "outputs": [],
   "source": [
    "# Parse the original datetime string and adjust the time\n",
    "df1['local_time'] = pd.to_datetime(df1['local_time'], format='%Y%m%d %H:%M:%S')\n",
    "df1['local_time'] = df1['local_time'].dt.strftime('%Y%m%d %H:%M:%S') + ' - ' + (df1['local_time'] + pd.Timedelta(hours=3)).dt.strftime('%H:%M:%S')\n",
    "\n",
    "df1"
   ]
  },
  {
   "cell_type": "code",
   "execution_count": null,
   "id": "8083c6ce-a2ac-47bc-82d0-c4969cc40908",
   "metadata": {
    "scrolled": true,
    "tags": []
   },
   "outputs": [],
   "source": [
    "# import os\n",
    "# import pandas as pd\n",
    "\n",
    "# # Specify the folder containing the files\n",
    "# folder_path = '/home/jovyan/Data/Fixing'\n",
    "\n",
    "# # Get a list of all files in the folder\n",
    "# file_list = [f for f in os.listdir(folder_path) if os.path.isfile(os.path.join(folder_path, f))]\n",
    "\n",
    "# # Initialize an empty DataFrame\n",
    "# combined_df = pd.DataFrame()\n",
    "\n",
    "# # Define the new column names\n",
    "# new_columns = ['geohash_3', 'no_of_points', 'no_of_unique_users', 'local_date']\n",
    "\n",
    "# # Loop through all files and append their content to the combined DataFrame\n",
    "# for file in file_list:\n",
    "#     file_path = os.path.join(folder_path, file)\n",
    "#     df = pd.read_csv(file_path)\n",
    "#     df.columns = new_columns  # Rename columns\n",
    "#     combined_df = pd.concat([combined_df, df], ignore_index=True)\n",
    "\n",
    "# combined_df"
   ]
  },
  {
   "cell_type": "markdown",
   "id": "502e95cf-2c62-469d-9a8e-17db3f990e6b",
   "metadata": {},
   "source": [
    "# Check duplicates"
   ]
  },
  {
   "cell_type": "code",
   "execution_count": null,
   "id": "229e9e7b-8246-4702-b5c3-bf69c7e8a088",
   "metadata": {
    "scrolled": true,
    "tags": []
   },
   "outputs": [],
   "source": [
    "# combined_df['geohash_3'] = combined_df['geohash_3'].astype(str)\n",
    "combined_df['geohash_5'] = combined_df['geohash_5'].astype(str)\n",
    "\n",
    "combined_df['no_of_points'] = combined_df['no_of_points'].astype(int)\n",
    "combined_df['no_of_unique_users'] = combined_df['no_of_unique_users'].astype(int)\n",
    "# combined_df['local_time'] = combined_df['local_time'].astype(str)\n",
    "combined_df['local_date'] = combined_df['local_date'].astype(int)\n",
    "\n",
    "combined_df = combined_df.drop_duplicates()\n",
    "combined_df"
   ]
  },
  {
   "cell_type": "markdown",
   "id": "d8f04c9c-c0b8-49f7-8cf6-6c3fd05c72d9",
   "metadata": {},
   "source": [
    "# Check missing dates"
   ]
  },
  {
   "cell_type": "code",
   "execution_count": null,
   "id": "16f822b5-74f5-407b-a24d-f1c41a063bb1",
   "metadata": {},
   "outputs": [],
   "source": [
    "unique_values_count = combined_df[\"local_date\"].unique()\n",
    "all_dates = pd.date_range(start='2019-01-01', end='2019-12-31').strftime('%Y%m%d').astype(int)\n",
    "all_dates = np.array(all_dates)\n",
    "missing_dates = np.setdiff1d(all_dates, unique_values_count)\n",
    "\n",
    "missing_dates"
   ]
  },
  {
   "cell_type": "markdown",
   "id": "8953dd26-1415-431d-9136-62e260ed3577",
   "metadata": {},
   "source": [
    "# Check for hours per day (for 3h)"
   ]
  },
  {
   "cell_type": "code",
   "execution_count": null,
   "id": "9ce68067-bb18-4420-9120-71c7dc900e46",
   "metadata": {
    "scrolled": true,
    "tags": []
   },
   "outputs": [],
   "source": [
    "# Convert local_date to datetime objects\n",
    "combined_df['local_date'] = pd.to_datetime(combined_df['local_date'], format='%Y%m%d')\n",
    "\n",
    "# Function to parse the local_time column and extract the start hour\n",
    "def parse_start_hour(time_str):\n",
    "    try:\n",
    "        start_time_str, _ = time_str.split(' - ')\n",
    "        start_time = datetime.strptime(start_time_str, '%Y%m%d %H:%M:%S')\n",
    "        return start_time.hour\n",
    "    except ValueError:\n",
    "        return None\n",
    "\n",
    "combined_df['start_hour'] = combined_df['local_time'].map(parse_start_hour)\n",
    "\n",
    "# Required hours to check\n",
    "required_hours = set([0, 3, 6, 9, 12, 15, 18, 21])\n",
    "\n",
    "# Group by local_date and check missing hours\n",
    "missing_hours = {}\n",
    "\n",
    "for date, group in combined_df.groupby('local_date'):\n",
    "    present_hours = set(group['start_hour'])\n",
    "    missing = required_hours - present_hours\n",
    "    if missing:\n",
    "        missing_hours[date] = sorted(list(missing))\n",
    "\n",
    "# Convert missing hours dictionary to DataFrame for better readability\n",
    "missing_hours_df = pd.DataFrame(list(missing_hours.items()), columns=['Date', 'Missing Hours'])\n",
    "\n",
    "# Display the missing hours\n",
    "print(\"Missing hours for each date:\")\n",
    "print(missing_hours_df)\n"
   ]
  },
  {
   "cell_type": "markdown",
   "id": "012c7b4a-4979-4be3-a7da-85c669eeb622",
   "metadata": {},
   "source": [
    "# Check with figure"
   ]
  },
  {
   "cell_type": "code",
   "execution_count": null,
   "id": "f0b89e57-75a3-4976-9ee7-9ce074a41c6e",
   "metadata": {},
   "outputs": [],
   "source": [
    "daily_counts = combined_df['local_date'].value_counts().sort_index()\n",
    "\n",
    "# Generate custom xticks starting from the first date and then incrementing by 7 days\n",
    "start_date = daily_counts.index.min()\n",
    "end_date = daily_counts.index.max()\n",
    "custom_xticks = pd.date_range(start=start_date, end=end_date, freq='7D')\n",
    "\n",
    "# Plot the results\n",
    "plt.figure(figsize=(10, 6))\n",
    "daily_counts.plot(kind='bar')\n",
    "plt.title('Number of Rows for Each Day')\n",
    "plt.xlabel('Date')\n",
    "plt.ylabel('Number of Rows')\n",
    "# plt.xticks(ticks=range(len(daily_counts)), labels=daily_counts.index.strftime('%Y-%m-%d'), rotation=90)\n",
    "plt.gca().set_xticks([i for i, date in enumerate(daily_counts.index) if date in custom_xticks])\n",
    "plt.tight_layout()\n",
    "plt.show()"
   ]
  },
  {
   "cell_type": "markdown",
   "id": "13a2665d-d9c5-463e-8731-bfcb9e680145",
   "metadata": {},
   "source": [
    "# Check Minimum and Maximum"
   ]
  },
  {
   "cell_type": "code",
   "execution_count": null,
   "id": "2bc5e834-6e39-48b3-a551-3a74251bc8d4",
   "metadata": {},
   "outputs": [],
   "source": [
    "max_15_counts = daily_counts.nlargest(15)\n",
    "max_15_counts"
   ]
  },
  {
   "cell_type": "code",
   "execution_count": null,
   "id": "8e630796-d018-42df-9ee4-b4d77ad7afff",
   "metadata": {},
   "outputs": [],
   "source": [
    "min_5_counts = daily_counts.nsmallest(15)\n",
    "min_5_counts"
   ]
  },
  {
   "cell_type": "markdown",
   "id": "3f5e09b0-2092-4467-a119-d6b54cdb1e21",
   "metadata": {},
   "source": [
    "# Export"
   ]
  },
  {
   "cell_type": "code",
   "execution_count": null,
   "id": "9119c31d-8ae4-4544-9f1b-35f2427168ea",
   "metadata": {
    "scrolled": true,
    "tags": []
   },
   "outputs": [],
   "source": [
    "# Clean up\n",
    "combined_df['local_date'] = combined_df['local_date'].dt.strftime('%Y%m%d').astype(int)\n",
    "combined_df = combined_df.sort_values('local_date').reset_index(drop = True)\n",
    "combined_df"
   ]
  },
  {
   "cell_type": "code",
   "execution_count": null,
   "id": "81c17da9-2fb1-4ff1-ae0b-1461fe7fb7f0",
   "metadata": {
    "scrolled": true,
    "tags": []
   },
   "outputs": [],
   "source": [
    "combined_df"
   ]
  },
  {
   "cell_type": "code",
   "execution_count": null,
   "id": "2ea5bfc5-27f0-4ad6-9787-72e18cf79324",
   "metadata": {},
   "outputs": [],
   "source": [
    "# Save the combined DataFrame to a new CSV file\n",
    "folder_path = '/home/jovyan/Data/daily_pd5/Cleaned/'\n",
    "combined_df.to_csv(folder_path + 'pd_IN_2019_agg5_daily.csv', index=False)"
   ]
  },
  {
   "cell_type": "code",
   "execution_count": null,
   "id": "57d044f5-28c0-4eb5-99e0-c471afa9ce2f",
   "metadata": {},
   "outputs": [],
   "source": []
  },
  {
   "cell_type": "code",
   "execution_count": null,
   "id": "8922330f-52f2-432b-a299-8ff088024686",
   "metadata": {},
   "outputs": [],
   "source": []
  },
  {
   "cell_type": "code",
   "execution_count": null,
   "id": "98a55d73-23db-4944-ae9c-d3aeb8cd5ebf",
   "metadata": {},
   "outputs": [],
   "source": []
  },
  {
   "cell_type": "code",
   "execution_count": null,
   "id": "e90b2511-b0d7-4bff-a939-60bc9d8e153d",
   "metadata": {},
   "outputs": [],
   "source": []
  },
  {
   "cell_type": "code",
   "execution_count": null,
   "id": "bafc848d-3236-4829-89c6-b1b6c79d166d",
   "metadata": {},
   "outputs": [],
   "source": []
  },
  {
   "cell_type": "code",
   "execution_count": null,
   "id": "e0d6f6d3-e48a-4409-a3bd-bee9dc73bc19",
   "metadata": {},
   "outputs": [],
   "source": []
  },
  {
   "cell_type": "code",
   "execution_count": null,
   "id": "4f57e961-3f67-4f09-a288-d98773480c55",
   "metadata": {},
   "outputs": [],
   "source": []
  },
  {
   "cell_type": "markdown",
   "id": "b9fa7c0d-24e2-49bd-b80e-dc9d866579d3",
   "metadata": {},
   "source": [
    "# Check All Number (for R Kept Figure)"
   ]
  },
  {
   "cell_type": "code",
   "execution_count": null,
   "id": "7b2e7ffa-f191-44ad-940b-646caac892d3",
   "metadata": {},
   "outputs": [],
   "source": [
    "%reload_ext sql\n",
    "%config SqlMagic.autocommit=False\n",
    "%config SqlMagic.autolimit=0\n",
    "%config SqlMagic.autopandas=True\n",
    "%config SqlMagic.displaylimit=200"
   ]
  },
  {
   "cell_type": "code",
   "execution_count": null,
   "id": "dc9c79fb-ee07-4708-abe3-b6e30d85a778",
   "metadata": {},
   "outputs": [],
   "source": [
    "%sql trino://localhost:9090/cuebiq/"
   ]
  },
  {
   "cell_type": "code",
   "execution_count": null,
   "id": "843e856b-e952-4cd0-9581-077bb9f71bde",
   "metadata": {},
   "outputs": [],
   "source": [
    "import os\n",
    "import time\n",
    "# import geohash\n",
    "import logging\n",
    "import pandas as pd\n",
    "from pathlib import Path\n",
    "from datetime import datetime, timedelta\n",
    "from sqlalchemy import create_engine"
   ]
  },
  {
   "cell_type": "code",
   "execution_count": null,
   "id": "371a4a83-6a75-49ab-9ee8-4761eb5009af",
   "metadata": {},
   "outputs": [],
   "source": [
    "# SQL engine\n",
    "from trino.dbapi import connect \n",
    "from sqlalchemy import create_engine\n",
    "import pandas as pd\n",
    "import time\n",
    "\n",
    "class TrinoEngine():\n",
    "    def __init__(self):\n",
    "        conn = connect(\n",
    "            host=\"localhost\",\n",
    "            port=9090,\n",
    "            catalog=\"cuebiq\"\n",
    "        )\n",
    "        self.cur = conn.cursor()\n",
    "        self.engine = create_engine(\"trino://localhost:9090/cuebiq/\")\n",
    "    \n",
    "    def execute_statement(self, query:str) -> list:\n",
    "        \"\"\"\n",
    "        Create and drop statements.\n",
    "        \"\"\"\n",
    "        self.cur.execute(query)\n",
    "        return self.cur.fetchall()\n",
    "    \n",
    "    def read_sql(self, query:str) -> pd.DataFrame: \n",
    "        \"\"\"\n",
    "        Select and insert into operations.\n",
    "        \"\"\"\n",
    "        return pd.read_sql(query, self.engine)\n",
    "\n",
    "sql_engine = TrinoEngine()"
   ]
  },
  {
   "cell_type": "code",
   "execution_count": null,
   "id": "30eb982a-cb55-4ad0-969d-b20b5aba89f0",
   "metadata": {},
   "outputs": [],
   "source": [
    "schema_name = {'cda': 'cuebiq.paas_cda_pe_v3'}\n",
    "pe_dl_table = f\"{schema_name['cda']}.device_location_uplevelled\""
   ]
  },
  {
   "cell_type": "code",
   "execution_count": null,
   "id": "37710dee-ec7e-4056-8942-2f397964fbcc",
   "metadata": {},
   "outputs": [],
   "source": [
    "# Set up logging\n",
    "logging.basicConfig(level=logging.INFO, format='%(asctime)s - %(levelname)s - %(message)s')"
   ]
  },
  {
   "cell_type": "code",
   "execution_count": null,
   "id": "fd6256f4-c2e0-47e1-bf4d-d2eaad037ef5",
   "metadata": {},
   "outputs": [],
   "source": [
    "# country_code = 'MX'\n",
    "# country_code = 'IN'\n",
    "# country_code = 'ID'\n",
    "country_code = 'CO'"
   ]
  },
  {
   "cell_type": "code",
   "execution_count": null,
   "id": "71d950df-32a0-4cb3-b87a-ffbc41dea951",
   "metadata": {},
   "outputs": [],
   "source": [
    "pe_dl = sql_engine.read_sql(\n",
    "    f\"\"\"\n",
    "    SELECT \n",
    "        COUNT(*) AS total_no_of_points,\n",
    "        COUNT(DISTINCT(cuebiq_id)) AS total_no_of_unique_users\n",
    "    FROM {pe_dl_table}\n",
    "    WHERE \n",
    "        country_code = '{country_code}' \n",
    "        AND event_zoned_datetime IS NOT NULL\n",
    "        AND TRY(date_parse(substr(event_zoned_datetime, 1, 19), '%Y-%m-%dT%H:%i:%s')) IS NOT NULL\n",
    "        -- AND DATE(TRY(date_parse(substr(event_zoned_datetime, 1, 19), '%Y-%m-%dT%H:%i:%s'))) BETWEEN date_parse('20191101', '%Y%m%d') AND date_parse('20191231', '%Y%m%d')\n",
    "        AND DATE(TRY(date_parse(substr(event_zoned_datetime, 1, 19), '%Y-%m-%dT%H:%i:%s'))) BETWEEN date_parse('20200101', '%Y%m%d') AND date_parse('20201231', '%Y%m%d')\n",
    "        AND lat <> 0\n",
    "        AND lng <> 0\n",
    "    \"\"\"\n",
    ")\n",
    "pe_dl"
   ]
  },
  {
   "cell_type": "markdown",
   "id": "79be4f5b-165d-4277-8f78-0b3ef4ec4e0e",
   "metadata": {},
   "source": [
    " 2019 (total_no_of_points total_no_of_unique_users)  2020  \n",
    "CO: 126379332, 193424, 338744689, 201672\n"
   ]
  },
  {
   "cell_type": "code",
   "execution_count": null,
   "id": "36109374-0914-49c5-89e1-612e89e58e3f",
   "metadata": {},
   "outputs": [],
   "source": []
  },
  {
   "cell_type": "code",
   "execution_count": null,
   "id": "d4db5791-d903-4065-8c4c-e37af33046b8",
   "metadata": {},
   "outputs": [],
   "source": []
  },
  {
   "cell_type": "code",
   "execution_count": null,
   "id": "4022d766-ba6e-45eb-b02b-67b81c887661",
   "metadata": {},
   "outputs": [],
   "source": []
  },
  {
   "cell_type": "code",
   "execution_count": null,
   "id": "3c1f77bb-8b40-458b-a42d-0e5661eaf009",
   "metadata": {},
   "outputs": [],
   "source": []
  },
  {
   "cell_type": "code",
   "execution_count": null,
   "id": "d0c6cd30-84fb-4914-bd2a-4c6bd4577283",
   "metadata": {},
   "outputs": [],
   "source": []
  }
 ],
 "metadata": {
  "kernelspec": {
   "display_name": "Python 3 (ipykernel)",
   "language": "python",
   "name": "python3"
  },
  "language_info": {
   "codemirror_mode": {
    "name": "ipython",
    "version": 3
   },
   "file_extension": ".py",
   "mimetype": "text/x-python",
   "name": "python",
   "nbconvert_exporter": "python",
   "pygments_lexer": "ipython3",
   "version": "3.10.17"
  }
 },
 "nbformat": 4,
 "nbformat_minor": 5
}
