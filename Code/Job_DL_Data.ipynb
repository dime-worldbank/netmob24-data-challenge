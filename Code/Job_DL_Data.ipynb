{
 "cells": [
  {
   "cell_type": "markdown",
   "id": "2ff9e4df-146c-4120-a8f9-220b7d551c96",
   "metadata": {},
   "source": [
    "Download dl data"
   ]
  },
  {
   "cell_type": "code",
   "execution_count": 8,
   "id": "7d5aa75d-6b26-48f8-b783-44b0e42e4549",
   "metadata": {},
   "outputs": [],
   "source": [
    "import gc\n",
    "import os\n",
    "import time\n",
    "import pandas as pd\n",
    "from sqlalchemy import create_engine\n",
    "from datetime import datetime, timedelta"
   ]
  },
  {
   "cell_type": "code",
   "execution_count": 9,
   "id": "b8071db6-5131-4ce1-96d4-2f3bb05c2607",
   "metadata": {},
   "outputs": [],
   "source": [
    "# SQL engine\n",
    "from trino.dbapi import connect \n",
    "from sqlalchemy import create_engine\n",
    "import pandas as pd\n",
    "import time\n",
    "\n",
    "class TrinoEngine():\n",
    "    def __init__(self):\n",
    "        conn = connect(\n",
    "            host=\"localhost\",\n",
    "            port=9090,\n",
    "            catalog=\"cuebiq\"\n",
    "        )\n",
    "        self.cur = conn.cursor()\n",
    "        self.engine = create_engine(\"trino://localhost:9090/cuebiq/\")\n",
    "    \n",
    "    def execute_statement(self, query:str) -> list:\n",
    "        \"\"\"\n",
    "        Create and drop statements.\n",
    "        \"\"\"\n",
    "        self.cur.execute(query)\n",
    "        return self.cur.fetchall()\n",
    "    \n",
    "    def read_sql(self, query:str) -> pd.DataFrame: \n",
    "        \"\"\"\n",
    "        Select and insert into operations.\n",
    "        \"\"\"\n",
    "        return pd.read_sql(query, self.engine)\n",
    "\n",
    "sql_engine = TrinoEngine()"
   ]
  },
  {
   "cell_type": "code",
   "execution_count": 10,
   "id": "d4658058-9886-417f-b56c-8b09190e1f5a",
   "metadata": {},
   "outputs": [],
   "source": [
    "schema_name = {'cda': 'cuebiq.paas_cda_pe_v3'}\n",
    "\n",
    "# dl_table = f\"{schema_name['cda']}.device_location\"  \n",
    "pe_dl_table = f\"{schema_name['cda']}.device_location_uplevelled\"\n",
    "\n",
    "tj_table = f\"{schema_name['cda']}.trajectory\"     \n",
    "pe_tj_table = f\"{schema_name['cda']}.trajectory_uplevelled\"\n",
    "\n",
    "# stop_table = f\"{schema['cda']}.stop\" \n",
    "pe_stop_table = f\"{schema_name['cda']}.stop_uplevelled\"\n",
    "\n",
    "visit_table = f\"{schema_name['cda']}.visit \" "
   ]
  },
  {
   "cell_type": "code",
   "execution_count": null,
   "id": "913d69d4-3c14-4d67-bf0b-a56a38ec2e22",
   "metadata": {},
   "outputs": [],
   "source": [
    "pwd"
   ]
  },
  {
   "cell_type": "code",
   "execution_count": 12,
   "id": "8e518c37-7b3a-4a1a-8db5-ee3d4664aac4",
   "metadata": {},
   "outputs": [
    {
     "name": "stdout",
     "output_type": "stream",
     "text": [
      "Total time taken: 466.7766478061676 seconds\n"
     ]
    }
   ],
   "source": [
    "country_code = 'ID'\n",
    "start_date = 20190101\n",
    "end_date = 20190102\n",
    "\n",
    "# Convert integer dates to datetime objects\n",
    "start_date_dt = datetime.strptime(str(start_date), '%Y%m%d')\n",
    "end_date_dt = datetime.strptime(str(end_date), '%Y%m%d')\n",
    "\n",
    "# Start timing\n",
    "start_time = time.time()\n",
    "\n",
    "current_date = start_date_dt\n",
    "while current_date <= end_date_dt:\n",
    "    formatted_date = current_date.strftime('%Y%m%d')\n",
    "    \n",
    "    query = f\"\"\"\n",
    "        SELECT \n",
    "            -- *,\n",
    "            cuebiq_id, \n",
    "            event_zoned_datetime, \n",
    "            processing_date,\n",
    "            timezoneoffset_secs,\n",
    "            lat,\n",
    "            lng, \n",
    "            speed_ms, \n",
    "            \n",
    "            -- Extract the date and time part and adjust by the timezone offset \n",
    "            date_parse(substr(event_zoned_datetime, 1, 19), '%Y-%m-%dT%H:%i:%s') +\n",
    "            interval '1' second * timezoneoffset_secs AS event_datetime_utc\n",
    "            \n",
    "        FROM {pe_dl_table}\n",
    "        WHERE \n",
    "            processing_date = {formatted_date} \n",
    "            AND country_code = '{country_code}' \n",
    "            AND event_zoned_datetime IS NOT NULL\n",
    "    \"\"\"\n",
    "    \n",
    "    pe_dl_table_df = sql_engine.read_sql(query)\n",
    "    \n",
    "    file_path = f'/home/jovyan/Data/DL/{country_code}/{formatted_date}_{country_code}_pe_dl.csv'\n",
    "\n",
    "    try:\n",
    "        # Attempt to save the DataFrame to the CSV file\n",
    "        pe_dl_table_df.to_csv(file_path, index=False)\n",
    "    except OSError as e:\n",
    "        # If there is an OSError (e.g., directory does not exist), create the directory\n",
    "        if not os.path.exists(os.path.dirname(file_path)):\n",
    "            os.makedirs(os.path.dirname(file_path), exist_ok=True)\n",
    "            # Retry saving the DataFrame to the CSV file\n",
    "            pe_dl_table_df.to_csv(file_path, index=False)\n",
    "        else:\n",
    "            # If the error is not related to the directory not existing, re-raise the exception\n",
    "            raise e\n",
    "        \n",
    "    # pe_dl_table_df.to_csv(f'/home/jovyan/Data/DL/{country_code}/{formatted_date}_{country_code}_pe_dl.csv', index=False)\n",
    "    \n",
    "    # Delete the DataFrame to free up memory\n",
    "    del pe_dl_table_df\n",
    "    # Force garbage collection\n",
    "    gc.collect()\n",
    "    \n",
    "    current_date += timedelta(days=1)\n",
    "\n",
    "# End timing\n",
    "end_time = time.time()\n",
    "\n",
    "# Calculate and print the total time taken\n",
    "total_time = end_time - start_time\n",
    "print(f\"Total time taken: {total_time} seconds\")\n"
   ]
  },
  {
   "cell_type": "code",
   "execution_count": null,
   "id": "468bb634-eb8c-4608-aef9-61ce2d915df4",
   "metadata": {},
   "outputs": [],
   "source": []
  },
  {
   "cell_type": "code",
   "execution_count": null,
   "id": "761a534b-6da5-4c3a-98e8-d0a4104b5a08",
   "metadata": {},
   "outputs": [],
   "source": []
  },
  {
   "cell_type": "code",
   "execution_count": null,
   "id": "e0dfe27c-2e94-4f9b-b468-5b0e9781a262",
   "metadata": {},
   "outputs": [],
   "source": []
  },
  {
   "cell_type": "code",
   "execution_count": null,
   "id": "f9162fde-690a-480c-8238-040bd905d926",
   "metadata": {},
   "outputs": [],
   "source": [
    "# from datetime import datetime, timedelta\n",
    "\n",
    "# country_code = 'MX'\n",
    "# start_date = 20190101\n",
    "# end_date = 20190131\n",
    "\n",
    "# # Convert integer dates to datetime objects\n",
    "# start_date = datetime.strptime(str(start_date), '%Y%m%d')\n",
    "# end_date = datetime.strptime(str(end_date), '%Y%m%d')\n",
    "\n",
    "# # Iterate through each day\n",
    "# current_date = start_date\n",
    "# while current_date <= end_date:\n",
    "#     print(current_date.strftime('%Y%m%d'))\n",
    "#     current_date += timedelta(days=1)"
   ]
  },
  {
   "cell_type": "code",
   "execution_count": null,
   "id": "0d8205f0-0500-4fcf-9070-edb42522616c",
   "metadata": {},
   "outputs": [],
   "source": []
  },
  {
   "cell_type": "code",
   "execution_count": null,
   "id": "50a1ace2-e79e-4bc2-a0a7-a9614bbbf02f",
   "metadata": {},
   "outputs": [],
   "source": []
  },
  {
   "cell_type": "code",
   "execution_count": null,
   "id": "146f8902-2bf8-4668-ab34-7264eeed1ebf",
   "metadata": {},
   "outputs": [],
   "source": []
  },
  {
   "cell_type": "code",
   "execution_count": null,
   "id": "f837c139-d597-413d-b580-432ae9119b8b",
   "metadata": {},
   "outputs": [],
   "source": []
  }
 ],
 "metadata": {
  "kernelspec": {
   "display_name": "Python 3 (ipykernel)",
   "language": "python",
   "name": "python3"
  },
  "language_info": {
   "codemirror_mode": {
    "name": "ipython",
    "version": 3
   },
   "file_extension": ".py",
   "mimetype": "text/x-python",
   "name": "python",
   "nbconvert_exporter": "python",
   "pygments_lexer": "ipython3",
   "version": "3.9.15"
  }
 },
 "nbformat": 4,
 "nbformat_minor": 5
}
