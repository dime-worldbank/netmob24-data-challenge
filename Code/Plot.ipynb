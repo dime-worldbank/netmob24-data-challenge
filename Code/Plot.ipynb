{
 "cells": [
  {
   "cell_type": "code",
   "execution_count": null,
   "id": "fa66d028-0b44-4cd9-9600-b93ea2f47e39",
   "metadata": {},
   "outputs": [],
   "source": [
    "import time\n",
    "import pandas as pd\n",
    "import matplotlib.pyplot as plt\n",
    "import matplotlib.dates as mdates"
   ]
  },
  {
   "cell_type": "markdown",
   "id": "2f1fceae-6512-4d6c-9de8-9f71d3330d88",
   "metadata": {},
   "source": [
    "# Line Chart - Overall stats"
   ]
  },
  {
   "cell_type": "markdown",
   "id": "542053a3-984a-4f61-a4ee-fe54792339d5",
   "metadata": {},
   "source": [
    "## Device Location"
   ]
  },
  {
   "cell_type": "code",
   "execution_count": null,
   "id": "c3681276-0e88-418a-8562-6e90c38214ba",
   "metadata": {},
   "outputs": [],
   "source": [
    "import pandas as pd\n",
    "import matplotlib.pyplot as plt\n",
    "import matplotlib.dates as mdates\n",
    "\n",
    "def plot_data(column_name, y_label, title):\n",
    "    country_codes = ['MX', 'IN', 'ID', 'CO']  # List of country codes\n",
    "    colors = ['#5c6c84', '#83a0b2', '#afc8bb', '#d9ccbc']  # Define colors for each country code\n",
    "\n",
    "    # Reading the data files for each country and assigning them directly to a list\n",
    "    dfs = [pd.read_csv(f'/home/jovyan/Data/2019_{country}_pe_dl.csv') for country in country_codes]\n",
    "\n",
    "    # Convert 'event_datetime_utc' to datetime for plotting\n",
    "    for df in dfs:\n",
    "        df['event_date_utc'] = pd.to_datetime(df['event_date_utc'])\n",
    "\n",
    "    # Create the plot with a specific figure size\n",
    "    plt.figure(figsize=(16, 6))\n",
    "\n",
    "    # Loop through each dataframe and plot the specified column with labels and colors\n",
    "    for df, country_code, color in zip(dfs, country_codes, colors):\n",
    "        plt.plot(df['event_date_utc'], df[column_name], label=country_code, color=color)\n",
    "        \n",
    "    # Adding labels and title\n",
    "    plt.xlabel('Event Date')\n",
    "    plt.ylabel(y_label)\n",
    "    plt.title(title)\n",
    "\n",
    "    # Set the x-axis major locator and formatter for dates\n",
    "    plt.gca().xaxis.set_major_locator(mdates.MonthLocator(interval=1))  # Every month\n",
    "    plt.gca().xaxis.set_major_formatter(mdates.DateFormatter('%Y-%m'))  # Year-month format\n",
    "\n",
    "    # Rotate x-axis labels for better readability\n",
    "    plt.xticks(rotation=45)\n",
    "\n",
    "    plt.legend()  # Set legend to show the country codes\n",
    "\n",
    "    plt.grid(True)  # Enable grid and adjust layout to prevent clipping\n",
    "    plt.tight_layout()\n",
    "    \n",
    "    filename = f\"/home/jovyan/Data/{title.replace(' ', '_')}.png\"  # Save the figure with 'Observations' in the filename\n",
    "    plt.savefig(filename)\n",
    "\n",
    "    plt.show()  # Display the plot"
   ]
  },
  {
   "cell_type": "code",
   "execution_count": null,
   "id": "f80b1a38-b176-4d90-98cb-ba19c1146cb9",
   "metadata": {},
   "outputs": [],
   "source": [
    "plot_data('Total_Observations', 'Total_Observations', 'pe_dl Observations Over Time')"
   ]
  },
  {
   "cell_type": "code",
   "execution_count": null,
   "id": "3430789b-2a91-4bb1-9f1b-24038df6ece8",
   "metadata": {},
   "outputs": [],
   "source": [
    "plot_data('Total_Unique_Users', 'Total_Unique_Users', 'pe_dl Unique Users Over Time')"
   ]
  },
  {
   "cell_type": "code",
   "execution_count": null,
   "id": "f67b7352-4d93-4dc8-8ec6-377f6021be43",
   "metadata": {},
   "outputs": [],
   "source": []
  },
  {
   "cell_type": "code",
   "execution_count": null,
   "id": "593905a4-f758-4458-9949-c8cecb05db86",
   "metadata": {},
   "outputs": [],
   "source": []
  },
  {
   "cell_type": "markdown",
   "id": "ef0649ca-d37e-419f-94af-8dc23a864d77",
   "metadata": {},
   "source": [
    "## stop"
   ]
  },
  {
   "cell_type": "code",
   "execution_count": null,
   "id": "cd4ebba3-9e0f-4380-b870-a3d3b74c20b5",
   "metadata": {},
   "outputs": [],
   "source": [
    "import pandas as pd\n",
    "import matplotlib.pyplot as plt\n",
    "import matplotlib.dates as mdates\n",
    "\n",
    "def plot_data(column_name, y_label, title):\n",
    "    country_codes = ['MX', 'IN', 'ID', 'CO']  # List of country codes\n",
    "    colors = ['#5c6c84', '#83a0b2', '#afc8bb', '#d9ccbc']  # Define colors for each country code\n",
    "\n",
    "    # Reading the data files for each country and assigning them directly to a list\n",
    "    dfs = [pd.read_csv(f'/home/jovyan/Data/2019_{country}_pe_stop.csv') for country in country_codes]\n",
    "\n",
    "    # Convert 'event_datetime_utc' to datetime for plotting\n",
    "    for df in dfs:\n",
    "        df['event_date_utc'] = pd.to_datetime(df['event_date_utc'])\n",
    "\n",
    "    # Create the plot with a specific figure size\n",
    "    plt.figure(figsize=(16, 6))\n",
    "\n",
    "    # Loop through each dataframe and plot the specified column with labels and colors\n",
    "    for df, country_code, color in zip(dfs, country_codes, colors):\n",
    "        plt.plot(df['event_date_utc'], df[column_name], label=country_code, color=color)\n",
    "        \n",
    "    # Adding labels and title\n",
    "    plt.xlabel('Event Date')\n",
    "    plt.ylabel(y_label)\n",
    "    plt.title(title)\n",
    "\n",
    "    # Set the x-axis major locator and formatter for dates\n",
    "    plt.gca().xaxis.set_major_locator(mdates.MonthLocator(interval=1))  # Every month\n",
    "    plt.gca().xaxis.set_major_formatter(mdates.DateFormatter('%Y-%m'))  # Year-month format\n",
    "\n",
    "    # Rotate x-axis labels for better readability\n",
    "    plt.xticks(rotation=45)\n",
    "\n",
    "    plt.legend()  # Set legend to show the country codes\n",
    "\n",
    "    plt.grid(True)  # Enable grid and adjust layout to prevent clipping\n",
    "    plt.tight_layout()\n",
    "    \n",
    "    filename = f\"/home/jovyan/Data/{title.replace(' ', '_')}.png\"  # Save the figure with 'Observations' in the filename\n",
    "    # plt.savefig(filename)\n",
    "\n",
    "    plt.show()  # Display the plot"
   ]
  },
  {
   "cell_type": "code",
   "execution_count": null,
   "id": "512f0af1-1881-4d57-8880-f52bce482678",
   "metadata": {},
   "outputs": [],
   "source": [
    "plot_data('Observations', 'Observations', 'stop Observations by Country (2019)')"
   ]
  },
  {
   "cell_type": "code",
   "execution_count": null,
   "id": "874fd420-7520-4b8a-aafd-f3c65b40d3f2",
   "metadata": {},
   "outputs": [],
   "source": [
    "plot_data('Unique_Users', 'Unique Users', 'stop Unique Users by Country (2019)')"
   ]
  },
  {
   "cell_type": "code",
   "execution_count": null,
   "id": "4a88196d-9705-48ba-a119-443a8f5e5ea9",
   "metadata": {},
   "outputs": [],
   "source": []
  },
  {
   "cell_type": "markdown",
   "id": "8c7acb02-1fc2-4ed8-af2d-64179738df29",
   "metadata": {},
   "source": [
    "## tj"
   ]
  },
  {
   "cell_type": "code",
   "execution_count": null,
   "id": "02ae0985-b67e-4e8a-b3ae-301bf9b3437c",
   "metadata": {},
   "outputs": [],
   "source": [
    "import pandas as pd\n",
    "import matplotlib.pyplot as plt\n",
    "import matplotlib.dates as mdates\n",
    "\n",
    "def plot_data(column_name, y_label, title):\n",
    "    country_codes = ['MX', 'IN', 'ID', 'CO']  # List of country codes\n",
    "    colors = ['#5c6c84', '#83a0b2', '#afc8bb', '#d9ccbc']  # Define colors for each country code\n",
    "\n",
    "    # Reading the data files for each country and assigning them directly to a list\n",
    "    dfs = [pd.read_csv(f'/home/jovyan/Data/2019_{country}_tj.csv') for country in country_codes]\n",
    "\n",
    "    # Convert 'event_date' to datetime for plotting, specifying the format\n",
    "    for df in dfs:\n",
    "        df['event_date'] = pd.to_datetime(df['event_date'], format='%Y%m%d')\n",
    "\n",
    "    # Create the plot with a specific figure size\n",
    "    plt.figure(figsize=(16, 6))\n",
    "\n",
    "    # Loop through each dataframe and plot the specified column with labels and colors\n",
    "    for df, country_code, color in zip(dfs, country_codes, colors):\n",
    "        plt.plot(df['event_date'], df[column_name], label=country_code, color=color)\n",
    "\n",
    "    # # with auto color\n",
    "    # for df, country_code in zip(dfs, country_codes):\n",
    "    #     plt.plot(df['event_date'], df['Observations'], label=country_code)\n",
    "        \n",
    "    # Adding labels and title\n",
    "    plt.xlabel('Event Date')\n",
    "    plt.ylabel(y_label)\n",
    "    plt.title(title)\n",
    "\n",
    "    # Set the x-axis major locator and formatter for dates\n",
    "    plt.gca().xaxis.set_major_locator(mdates.MonthLocator(interval=1))  # Every month\n",
    "    plt.gca().xaxis.set_major_formatter(mdates.DateFormatter('%Y-%m'))  # Year-month format\n",
    "\n",
    "    # Rotate x-axis labels for better readability\n",
    "    plt.xticks(rotation=45)\n",
    "\n",
    "    # Set legend to show the country codes\n",
    "    plt.legend()\n",
    "\n",
    "    # Enable grid and adjust layout to prevent clipping\n",
    "    plt.grid(True)\n",
    "    plt.tight_layout()\n",
    "    \n",
    "    filename = f\"/home/jovyan/Data/{title.replace(' ', '_')}.png\"  # Save the figure with 'Observations' in the filename\n",
    "    # plt.savefig(filename)\n",
    "\n",
    "    plt.show()# Display the plot"
   ]
  },
  {
   "cell_type": "code",
   "execution_count": null,
   "id": "4f733e50-2a52-4246-8364-fa1c1788bf28",
   "metadata": {},
   "outputs": [],
   "source": [
    "# Call the function with 'Observations' data\n",
    "plot_data('Observations', 'Observations', 'tj Observations by Country (2019)')"
   ]
  },
  {
   "cell_type": "code",
   "execution_count": null,
   "id": "8424d95b-d29b-4ffc-8a91-61bf3d635a12",
   "metadata": {},
   "outputs": [],
   "source": [
    "# Call the function with 'Unique_Users' data\n",
    "plot_data('Unique_Users', 'Unique Users', 'tj Unique Users by Country (2019)')"
   ]
  },
  {
   "cell_type": "code",
   "execution_count": null,
   "id": "eb1c5444-5cfd-4c78-b997-628e94124f4f",
   "metadata": {},
   "outputs": [],
   "source": []
  },
  {
   "cell_type": "markdown",
   "id": "ae800dc0-6c29-49a8-a7bb-da884b114dd3",
   "metadata": {},
   "source": [
    "## Smaller time range"
   ]
  },
  {
   "cell_type": "code",
   "execution_count": null,
   "id": "1ea333d6-d022-41ef-82e9-992cce339030",
   "metadata": {},
   "outputs": [],
   "source": [
    "import pandas as pd\n",
    "import matplotlib.pyplot as plt\n",
    "import matplotlib.dates as mdates\n",
    "\n",
    "def plot_data(column_name, y_label, title, start_date, end_date):\n",
    "    country_codes = ['MX', 'IN', 'ID', 'CO']  # List of country codes\n",
    "    colors = ['#5c6c84', '#83a0b2', '#afc8bb', '#d9ccbc']  # Define colors for each country code\n",
    "\n",
    "    # Reading the data files for each country and assigning them directly to a list\n",
    "    dfs = [pd.read_csv(f'/home/jovyan/Data/2019_{country}_tj.csv') for country in country_codes]\n",
    "\n",
    "    # Convert 'event_date' to datetime for plotting, specifying the format\n",
    "    for df in dfs:\n",
    "        df['event_date'] = pd.to_datetime(df['event_date'], format='%Y%m%d')\n",
    "\n",
    "    # Create the plot with a specific figure size\n",
    "    plt.figure(figsize=(16, 6))\n",
    "\n",
    "    # Loop through each dataframe and plot the specified column with labels and colors\n",
    "    for df, country_code, color in zip(dfs, country_codes, colors):\n",
    "        plt.plot(df['event_date'], df[column_name], label=country_code, color=color)\n",
    "\n",
    "    # Adding labels and title\n",
    "    plt.xlabel('Event Date')\n",
    "    plt.ylabel(y_label)\n",
    "    plt.title(title)\n",
    "\n",
    "    # Set the x-axis major locator and formatter for dates\n",
    "    plt.gca().xaxis.set_major_locator(mdates.DayLocator(interval=1))  # Every day for the specified range\n",
    "    plt.gca().xaxis.set_major_formatter(mdates.DateFormatter('%Y-%m-%d'))  # Year-month-day format\n",
    "\n",
    "    # Convert input dates to datetime objects\n",
    "    start_datetime = pd.to_datetime(start_date)\n",
    "    end_datetime = pd.to_datetime(end_date)\n",
    "\n",
    "    # Set limits for the x-axis to show only the specified date range\n",
    "    plt.gca().set_xlim(start_datetime, end_datetime)\n",
    "\n",
    "    # Rotate x-axis labels for better readability\n",
    "    plt.xticks(rotation=45)\n",
    "\n",
    "    # Set legend to show the country codes\n",
    "    plt.legend()\n",
    "\n",
    "    # Enable grid and adjust layout to prevent clipping\n",
    "    plt.grid(True)\n",
    "    plt.tight_layout()\n",
    "\n",
    "    # Display the plot\n",
    "    plt.show()"
   ]
  },
  {
   "cell_type": "code",
   "execution_count": null,
   "id": "72b25daf-326d-4c8b-900d-1e3c022ec84d",
   "metadata": {},
   "outputs": [],
   "source": [
    "plot_data('Observations', 'Observations', 'Observations by Country (Specified Range)', '2019-10-01', '2019-10-31')"
   ]
  },
  {
   "cell_type": "code",
   "execution_count": null,
   "id": "cc7f81b4-2155-449d-bf37-5ac99dd64914",
   "metadata": {},
   "outputs": [],
   "source": []
  },
  {
   "cell_type": "markdown",
   "id": "2aa914f5-5f77-49a5-97d1-3f446171a43d",
   "metadata": {},
   "source": [
    "# Map？"
   ]
  },
  {
   "cell_type": "code",
   "execution_count": null,
   "id": "c503e686-6f2e-4ad6-966b-f29616f35853",
   "metadata": {},
   "outputs": [],
   "source": [
    "# SQL engine\n",
    "from trino.dbapi import connect \n",
    "from sqlalchemy import create_engine\n",
    "import pandas as pd\n",
    "import time\n",
    "\n",
    "class TrinoEngine():\n",
    "    def __init__(self):\n",
    "        conn = connect(\n",
    "            host=\"localhost\",\n",
    "            port=9090,\n",
    "            catalog=\"cuebiq\"\n",
    "        )\n",
    "        self.cur = conn.cursor()\n",
    "        self.engine = create_engine(\"trino://localhost:9090/cuebiq/\")\n",
    "    \n",
    "    def execute_statement(self, query:str) -> list:\n",
    "        \"\"\"\n",
    "        Create and drop statements.\n",
    "        \"\"\"\n",
    "        self.cur.execute(query)\n",
    "        return self.cur.fetchall()\n",
    "    \n",
    "    def read_sql(self, query:str) -> pd.DataFrame: \n",
    "        \"\"\"\n",
    "        Select and insert into operations.\n",
    "        \"\"\"\n",
    "        return pd.read_sql(query, self.engine)\n",
    "\n",
    "sql_engine = TrinoEngine()"
   ]
  },
  {
   "cell_type": "code",
   "execution_count": null,
   "id": "d7528038-8cff-48a2-a33e-dd5619584bc8",
   "metadata": {},
   "outputs": [],
   "source": [
    "schema_name = {'cda': 'cuebiq.paas_cda_pe_v3'}\n",
    "\n",
    "# dl_table = f\"{schema_name['cda']}.device_location\"  \n",
    "pe_dl_table = f\"{schema_name['cda']}.device_location_uplevelled\"\n",
    "\n",
    "tj_table = f\"{schema_name['cda']}.trajectory\"     \n",
    "pe_tj_table = f\"{schema_name['cda']}.trajectory_uplevelled\"\n",
    "\n",
    "# stop_table = f\"{schema['cda']}.stop\" \n",
    "pe_stop_table = f\"{schema_name['cda']}.stop_uplevelled\"\n",
    "\n",
    "visit_table = f\"{schema_name['cda']}.visit \" \n"
   ]
  },
  {
   "cell_type": "code",
   "execution_count": null,
   "id": "38ad9c44-0d70-4d93-9fe4-f2bf5bfdde61",
   "metadata": {
    "scrolled": true,
    "tags": []
   },
   "outputs": [],
   "source": [
    "start_time = time.time()\n",
    "\n",
    "df = sql_engine.read_sql(\n",
    "    f\"\"\"\n",
    "    SELECT *\n",
    "    FROM {pe_tj_table}\n",
    "    WHERE \n",
    "        event_date = 20191201\n",
    "        AND start_country = 'CO'\n",
    "        AND end_country = 'CO'\n",
    "        -- AND cuebiq_id % 1000 = 0\n",
    "    -- LIMIT 5\n",
    "    \"\"\"\n",
    ")\n",
    "\n",
    "end_time = time.time() # Stop the timer\n",
    "execution_time = end_time - start_time # Calculate the total time taken\n",
    "print(f\"Query executed in: {execution_time:.2f} seconds\")\n",
    "\n",
    "df"
   ]
  },
  {
   "cell_type": "code",
   "execution_count": null,
   "id": "e28dc373-dcdf-4381-86b0-27b653efdf63",
   "metadata": {
    "scrolled": true,
    "tags": []
   },
   "outputs": [],
   "source": [
    "df.columns"
   ]
  },
  {
   "cell_type": "code",
   "execution_count": null,
   "id": "c646e9d0-4cd7-48ec-b641-c75a89df523e",
   "metadata": {},
   "outputs": [],
   "source": [
    "df['trajectory_wkt'][0]"
   ]
  },
  {
   "cell_type": "code",
   "execution_count": null,
   "id": "0b300718-faea-40fa-8743-a9ef13be5b00",
   "metadata": {},
   "outputs": [],
   "source": [
    "!python -m pip uninstall h3 --yes"
   ]
  },
  {
   "cell_type": "code",
   "execution_count": null,
   "id": "5d9536c9-acba-4000-b76c-c031ccd5bfd1",
   "metadata": {
    "tags": []
   },
   "outputs": [],
   "source": [
    "pip install h3 h3pandas geopy\n",
    "pip install python-geohash"
   ]
  },
  {
   "cell_type": "code",
   "execution_count": null,
   "id": "601151cf-641a-4ccc-b0d3-d6b1b6510c00",
   "metadata": {},
   "outputs": [],
   "source": [
    "# import h3\n",
    "import geohash\n",
    "# import h3pandas\n",
    "import pandas as pd\n",
    "import geopy.geocoders\n",
    "import geopandas as gpd\n",
    "from shapely import wkt\n",
    "import matplotlib.pyplot as plt\n",
    "from shapely.geometry import LineString\n",
    "from shapely.geometry import Polygon"
   ]
  },
  {
   "cell_type": "code",
   "execution_count": null,
   "id": "17dd2762-10ab-4c31-adb6-e50328253fae",
   "metadata": {},
   "outputs": [],
   "source": [
    "# Parse the WKT strings into geometries\n",
    "df['geometry'] = df['trajectory_wkt'].apply(wkt.loads)\n",
    "gdf = gpd.GeoDataFrame(df, geometry='geometry')\n",
    "\n",
    "# Plotting\n",
    "fig, ax = plt.subplots(1, 1, figsize=(10, 10))\n",
    "gdf.plot(ax=ax, color='blue')\n",
    "\n",
    "# Customize the plot\n",
    "plt.title('Trajectory Data')\n",
    "plt.xlabel('Longitude')\n",
    "plt.ylabel('Latitude')\n",
    "plt.grid(True)\n",
    "plt.show()"
   ]
  },
  {
   "cell_type": "markdown",
   "id": "0aeaa4bd-e920-423e-a847-ca3cc030622c",
   "metadata": {},
   "source": [
    "## Convert the trajectory points to H3 hexagons"
   ]
  },
  {
   "cell_type": "code",
   "execution_count": null,
   "id": "ce8afd08-33f6-4a9b-91ad-a566d80d51a7",
   "metadata": {},
   "outputs": [],
   "source": [
    "def to_h3(lat, lng, resolution=9):\n",
    "    return h3.geo_to_h3(lat, lng, resolution)\n",
    "\n",
    "gdf['start_h3'] = gdf.apply(lambda row: to_h3(row.geometry.coords[0][1], row.geometry.coords[0][0]), axis=1)\n",
    "gdf['end_h3'] = gdf.apply(lambda row: to_h3(row.geometry.coords[-1][1], row.geometry.coords[-1][0]), axis=1)\n",
    "\n",
    "# Get the boundary of the hexagons\n",
    "def h3_to_polygon(h3_index):\n",
    "    boundary = h3.h3_to_geo_boundary(h3_index)\n",
    "    return Polygon(boundary)\n",
    "\n",
    "gdf['start_hex'] = gdf['start_h3'].apply(h3_to_polygon)\n",
    "gdf['end_hex'] = gdf['end_h3'].apply(h3_to_polygon)\n",
    "\n",
    "# Convert hexagon boundaries to GeoDataFrame\n",
    "start_hex_gdf = gpd.GeoDataFrame(gdf, geometry='start_hex')\n",
    "end_hex_gdf = gpd.GeoDataFrame(gdf, geometry='end_hex')\n",
    "\n",
    "# Plotting\n",
    "fig, ax = plt.subplots(1, 1, figsize=(10, 10))\n",
    "\n",
    "# Plot the hexagons\n",
    "start_hex_gdf.plot(ax=ax, color='red', alpha=0.5, edgecolor='black')\n",
    "end_hex_gdf.plot(ax=ax, color='blue', alpha=0.5, edgecolor='black')\n",
    "\n",
    "# Plot the trajectories\n",
    "gdf.plot(ax=ax, color='green')\n",
    "\n",
    "# Customize the plot\n",
    "plt.title('Trajectory Data on H3 Grid')\n",
    "plt.xlabel('Longitude')\n",
    "plt.ylabel('Latitude')\n",
    "plt.grid(True)\n",
    "plt.show()"
   ]
  },
  {
   "cell_type": "markdown",
   "id": "0ce2f94c-5e85-4f8a-b6ba-dd0db9733281",
   "metadata": {},
   "source": [
    "## Convert the trajectory points to Geohash"
   ]
  },
  {
   "cell_type": "code",
   "execution_count": null,
   "id": "7ccf619b-9954-4fb8-a675-8c8aaa681aef",
   "metadata": {},
   "outputs": [],
   "source": [
    "# Parse the WKT strings into geometries\n",
    "df['geometry'] = df['trajectory_wkt'].apply(wkt.loads)\n",
    "gdf = gpd.GeoDataFrame(df, geometry='geometry')\n",
    "\n",
    "# Convert the trajectory points to geohashes\n",
    "def to_geohash(lat, lng, precision=5):\n",
    "    return geohash.encode(lat, lng, precision)\n",
    "\n",
    "gdf['start_geohash'] = gdf.apply(lambda row: to_geohash(row.geometry.coords[0][1], row.geometry.coords[0][0]), axis=1)\n",
    "gdf['end_geohash'] = gdf.apply(lambda row: to_geohash(row.geometry.coords[-1][1], row.geometry.coords[-1][0]), axis=1)\n",
    "\n",
    "# Get the boundary of the geohashes\n",
    "def geohash_to_polygon(gh):\n",
    "    lat, lng, lat_err, lng_err = geohash.decode_exactly(gh)\n",
    "    lat_min = lat - lat_err\n",
    "    lat_max = lat + lat_err\n",
    "    lng_min = lng - lng_err\n",
    "    lng_max = lng + lng_err\n",
    "    return Polygon([(lng_min, lat_min), (lng_min, lat_max), (lng_max, lat_max), (lng_max, lat_min)])\n",
    "\n",
    "gdf['start_geohash_polygon'] = gdf['start_geohash'].apply(geohash_to_polygon)\n",
    "gdf['end_geohash_polygon'] = gdf['end_geohash'].apply(geohash_to_polygon)\n",
    "\n",
    "# Convert geohash boundaries to GeoDataFrame\n",
    "start_geohash_gdf = gpd.GeoDataFrame(gdf, geometry='start_geohash_polygon')\n",
    "end_geohash_gdf = gpd.GeoDataFrame(gdf, geometry='end_geohash_polygon')\n"
   ]
  },
  {
   "cell_type": "code",
   "execution_count": null,
   "id": "efa226e7-f684-4f42-853a-ba1c625c05d0",
   "metadata": {},
   "outputs": [],
   "source": [
    "# Plotting\n",
    "fig, ax = plt.subplots(1, 1, figsize=(10, 10))\n",
    "\n",
    "# Plot the geohash areas\n",
    "start_geohash_gdf.plot(ax=ax, color='red', alpha=0.5, edgecolor='black')\n",
    "end_geohash_gdf.plot(ax=ax, color='blue', alpha=0.5, edgecolor='black')\n",
    "\n",
    "# Plot the trajectories\n",
    "gdf.plot(ax=ax, color='green')\n",
    "\n",
    "# Customize the plot\n",
    "plt.title('Trajectory Data on Geohash Grid')\n",
    "plt.xlabel('Longitude')\n",
    "plt.ylabel('Latitude')\n",
    "plt.grid(True)\n",
    "plt.show()"
   ]
  },
  {
   "cell_type": "code",
   "execution_count": null,
   "id": "a6ef9768-58b1-4689-aa5c-26c291ef449a",
   "metadata": {},
   "outputs": [],
   "source": []
  },
  {
   "cell_type": "code",
   "execution_count": null,
   "id": "f85bffb6-b486-48b9-9acf-2d6185c50616",
   "metadata": {},
   "outputs": [],
   "source": []
  },
  {
   "cell_type": "code",
   "execution_count": null,
   "id": "22cdf4d0-c40f-4012-ac3a-7427edb01059",
   "metadata": {},
   "outputs": [],
   "source": []
  },
  {
   "cell_type": "code",
   "execution_count": null,
   "id": "b89f793f-c917-457d-8698-2d14401a50b6",
   "metadata": {},
   "outputs": [],
   "source": []
  },
  {
   "cell_type": "code",
   "execution_count": null,
   "id": "54efe786-8f75-4b2f-b192-354dac0c2dd1",
   "metadata": {},
   "outputs": [],
   "source": []
  },
  {
   "cell_type": "code",
   "execution_count": null,
   "id": "27592898-69f6-4349-a13a-412c7dbebe9e",
   "metadata": {},
   "outputs": [],
   "source": []
  },
  {
   "cell_type": "code",
   "execution_count": null,
   "id": "a746b579-d83c-47bc-913e-acf79cbb53ec",
   "metadata": {},
   "outputs": [],
   "source": []
  }
 ],
 "metadata": {
  "kernelspec": {
   "display_name": "Python 3 (ipykernel)",
   "language": "python",
   "name": "python3"
  },
  "language_info": {
   "codemirror_mode": {
    "name": "ipython",
    "version": 3
   },
   "file_extension": ".py",
   "mimetype": "text/x-python",
   "name": "python",
   "nbconvert_exporter": "python",
   "pygments_lexer": "ipython3",
   "version": "3.9.15"
  }
 },
 "nbformat": 4,
 "nbformat_minor": 5
}
