{
 "cells": [
  {
   "cell_type": "code",
   "execution_count": null,
   "id": "9ddf6932-2716-48a8-8c6e-34ea7b332ad4",
   "metadata": {},
   "outputs": [],
   "source": [
    "# Import libraries\n",
    "import glob\n",
    "import pandas as pd\n",
    "import geopandas as gpd\n",
    "\n",
    "import numpy as np\n",
    "import matplotlib.pyplot as plt\n",
    "from matplotlib.ticker import AutoMinorLocator\n",
    "import sys\n",
    "import matplotlib\n",
    "import scienceplots\n",
    "import matplotlib.colors as mcolors\n",
    "from matplotlib.offsetbox import AnchoredText\n",
    "plt.style.use('science')\n",
    "\n",
    "%matplotlib inline\n",
    "\n",
    "import libgeohash as gh\n",
    "from shapely.geometry.polygon import Polygon\n",
    "from shapely.geometry import Point\n",
    "\n",
    "import contextily as cx\n",
    "import xyzservices.providers as xyz"
   ]
  },
  {
   "cell_type": "code",
   "execution_count": null,
   "id": "904bf95d-8db1-4d60-a961-3ba92e357f70",
   "metadata": {},
   "outputs": [],
   "source": [
    "def getPolygon (geoHash):\n",
    "    auxGeoHash = gh.bbox(geoHash)\n",
    "    p = Polygon([\n",
    "    Point([auxGeoHash['w'],auxGeoHash['n']]),\n",
    "    Point([auxGeoHash['e'],auxGeoHash['n']]),\n",
    "    Point([auxGeoHash['e'],auxGeoHash['s']]),\n",
    "    Point([auxGeoHash['w'],auxGeoHash['s']])\n",
    "    ])\n",
    "    return p\n"
   ]
  },
  {
   "cell_type": "code",
   "execution_count": null,
   "id": "136c87a4-01b1-4847-af11-6d88fcea9f48",
   "metadata": {},
   "outputs": [],
   "source": [
    "#geohash_5,no_of_points,no_of_unique_users,local_time,local_date\n",
    "#20191231 21:00:00 - 24:00:00,20191231\n",
    "\n",
    "def generateDate (day, month, year):\n",
    "    \n",
    "    strDate = str(year)\n",
    "    if int(month) < 10:\n",
    "        strDate += \"0\"+str(month)\n",
    "    else:\n",
    "        strDate += str(month)\n",
    "    if int(day) < 10:\n",
    "        strDate += \"0\"+str(day)\n",
    "    else:\n",
    "        strDate += str(day)\n",
    "        \n",
    "    return strDate \n",
    "\n",
    "def generateRank (interval,local_time):\n",
    "\n",
    "    dict_local_time = {0:'00:00:00 - 03:00:00',\n",
    "                      1:'03:00:00 - 06:00:00',\n",
    "                      2:'06:00:00 - 09:00:00',\n",
    "                      3:'09:00:00 - 12:00:00',\n",
    "                      4:'12:00:00 - 15:00:00',\n",
    "                      5:'15:00:00 - 18:00:00',\n",
    "                      6:'18:00:00 - 21:00:00',\n",
    "                      7:'21:00:00 - 00:00:00'}\n",
    "    \n",
    "    return local_time + \" \" + dict_local_time[int(interval)] "
   ]
  },
  {
   "cell_type": "code",
   "execution_count": null,
   "id": "adaacfc0-5428-49ea-8d18-01777acfa76d",
   "metadata": {},
   "outputs": [],
   "source": []
  },
  {
   "cell_type": "markdown",
   "id": "75fa4339-2e96-4fbc-b768-1fec0520ce01",
   "metadata": {},
   "source": [
    "# AGG 5"
   ]
  },
  {
   "cell_type": "code",
   "execution_count": null,
   "id": "2a4fa65a-eb7a-4017-8269-7387354991c7",
   "metadata": {},
   "outputs": [],
   "source": [
    "country_code = 'MX'\n",
    "country_name = 'Mexico'\n",
    "year = '2020'\n",
    "agg_level = '5'"
   ]
  },
  {
   "cell_type": "code",
   "execution_count": null,
   "id": "fab018a9-312e-4a80-a33c-43913d09fa1a",
   "metadata": {},
   "outputs": [],
   "source": [
    "# Get CSV files list from a folder\n",
    "path = \"../data/popDensity/{}/{}\".format(country_code,year)\n",
    "csv_files = glob.glob(path + \"/{}_daily_agg5_hour_*.csv_kanonnimized.csv\".format(country_code))\n",
    "i = 1\n",
    "for file in csv_files:\n",
    "    print(i, file)\n",
    "    i+=1 \n",
    "# Read each CSV file into DataFrame\n",
    "# This creates a list of dataframes\n",
    "df_list = (pd.read_csv(file) for file in csv_files)\n",
    "\n",
    "# Concatenate all DataFrames\n",
    "big_df   = pd.concat(df_list, ignore_index=True)\n",
    "\n",
    "big_df['local_date'] = big_df.apply(lambda x: generateDate(x['day'],x['month'],year),axis = 1)\n",
    "big_df['local_time'] = big_df.apply(lambda x: generateRank(x['grt'],x['local_date']),axis = 1)\n",
    "big_df = big_df.drop(columns=['grt', 'day', 'month'])\n",
    "big_df = big_df[['geohash5','no_of_points','no_of_unique_users', 'local_time', 'local_date']]\n",
    "big_df.columns = ['geohash_5','no_of_points','no_of_unique_users', 'local_time', 'local_date']\n",
    "big_df.sort_values(by=['local_time'], ascending=True, inplace= True)\n",
    "big_df.head()"
   ]
  },
  {
   "cell_type": "code",
   "execution_count": null,
   "id": "331d3dd9-dd56-4b8d-b545-1802d60abb3a",
   "metadata": {},
   "outputs": [],
   "source": [
    "big_df.to_csv(path+\"/pd_{}_{}_3h_agg{}.csv\".format(str.lower(country_code),year,agg_level,year), index=False )\n",
    "print (\"Saved on: \" + path+\"/pd_{}_{}_3h_agg{}.csv\".format(str.lower(country_code),agg_level,year))"
   ]
  },
  {
   "cell_type": "markdown",
   "id": "f9d6d102-5a13-4101-b73e-4e284e85675e",
   "metadata": {},
   "source": [
    "## Plot"
   ]
  },
  {
   "cell_type": "code",
   "execution_count": null,
   "id": "a9e51eea-0ef7-4e5a-ab3e-0a20cddfc766",
   "metadata": {},
   "outputs": [],
   "source": [
    "grouped = big_df[[\"geohash_5\",\"no_of_unique_users\",\"no_of_points\"]].groupby('geohash_5')\n",
    "average_popDensity = grouped.mean().reset_index()\n",
    "average_popDensity['no_of_unique_users'] = average_popDensity['no_of_unique_users'].astype(int)\n",
    "average_popDensity['no_of_points'] = average_popDensity['no_of_points'].astype(int)\n",
    "\n",
    "average_popDensity.to_csv(path+\"/{}_popDensity_agg{}_{}_avg.csv\".format(country_code,agg_level,year), index=False )\n",
    "print (\"Saved on: \" + path+\"/{}_popDensity_agg{}_{}_avg.csv\".format(country_code,agg_level,year))\n"
   ]
  },
  {
   "cell_type": "code",
   "execution_count": null,
   "id": "884ef873-c64d-466a-8450-9a55c5eb7869",
   "metadata": {},
   "outputs": [],
   "source": [
    "average_popDensity['geometry'] = average_popDensity['geohash_5'].apply(getPolygon)\n",
    "average_popDensity_gdf = gpd.GeoDataFrame(\n",
    "    average_popDensity, geometry=average_popDensity.geometry, crs=\"EPSG:4326\"\n",
    ")\n",
    "average_popDensity_gdf.head()"
   ]
  },
  {
   "cell_type": "code",
   "execution_count": null,
   "id": "63d9dc4f-33c0-44c2-9ea3-6d5176fac3c8",
   "metadata": {},
   "outputs": [],
   "source": [
    "fig, ax = plt.subplots( )\n",
    "n_bins = 50\n",
    "ax.hist(average_popDensity_gdf[['no_of_unique_users']].values, bins=n_bins, color=mcolors.CSS4_COLORS['lightsteelblue'])\n",
    "ax.set_xlabel('Average number of unique devices ({} {}, Geohash {})'.format(country_name,year,agg_level)) \n",
    "\n",
    "ax.set_ylabel('Frequency') \n",
    "plt.savefig(\"../outputs/{}_avg_devices_3h_agg{}_{}.png\".format(country_code,agg_level,year))"
   ]
  },
  {
   "cell_type": "code",
   "execution_count": null,
   "id": "e9240b28-7c24-4dbc-bad3-4e83fb49ec92",
   "metadata": {},
   "outputs": [],
   "source": [
    "fig, ax = plt.subplots( )\n",
    "n_bins = 50\n",
    "ax.hist(average_popDensity_gdf[['no_of_points']].values, bins=n_bins, color=mcolors.CSS4_COLORS['lightsteelblue'])\n",
    "ax.set_xlabel('Average number of points ({} {}, Geohash {})'.format(country_name,year,agg_level)) \n",
    "ax.set_ylabel('Frequency') \n",
    "plt.savefig(\"../outputs/{}_avg_points_3h_agg{}_{}.png\".format(country_code,agg_level,year))"
   ]
  },
  {
   "cell_type": "markdown",
   "id": "3e42c4e2-82c5-48d4-a3a1-4f46e317126e",
   "metadata": {},
   "source": [
    "## Timeseries"
   ]
  },
  {
   "cell_type": "code",
   "execution_count": null,
   "id": "c4b4a680-144d-4078-8076-7f9f4b060236",
   "metadata": {},
   "outputs": [],
   "source": [
    "grouped_time = big_df[[\"local_time\",\"no_of_unique_users\",\"no_of_points\"]].groupby('local_time')\n",
    "average_popDensity = grouped_time.sum().reset_index()\n",
    "average_popDensity['no_of_unique_users'] = average_popDensity['no_of_unique_users'].astype(int)\n",
    "average_popDensity['no_of_points'] = average_popDensity['no_of_points'].astype(int)\n",
    "average_popDensity['time'] = pd.to_datetime(average_popDensity['local_time'].str.slice(0,18))\n",
    "average_popDensity = average_popDensity.drop('local_time', axis=1)\n",
    "average_popDensity = average_popDensity.set_index('time')\n",
    "average_popDensity.head()"
   ]
  },
  {
   "cell_type": "code",
   "execution_count": null,
   "id": "b470f2df-4815-489c-a2a1-c91d87a3fdd2",
   "metadata": {},
   "outputs": [],
   "source": [
    "fig, ax = plt.subplots( )\n",
    "ax.plot(average_popDensity.index,average_popDensity[['no_of_unique_users']].values,  color=mcolors.CSS4_COLORS['lightsteelblue'])\n",
    "\n",
    "ax.set_ylabel('Number of unique devices'.format(country_name,year,agg_level)) \n",
    "\n",
    "ax.set_xlabel('Time') \n",
    "plt.savefig(\"../outputs/{}_devices_over_time_3h_agg{}_{}.png\".format(country_code,agg_level,year))"
   ]
  },
  {
   "cell_type": "code",
   "execution_count": null,
   "id": "b35c8833-50cd-4d35-88dc-12994280620b",
   "metadata": {},
   "outputs": [],
   "source": [
    "fig, ax = plt.subplots( )\n",
    "ax.plot(average_popDensity.index,average_popDensity[['no_of_points']].values,  color=mcolors.CSS4_COLORS['lightsteelblue'])\n",
    "\n",
    "ax.set_ylabel('Number of points'.format(country_name,year,agg_level)) \n",
    "\n",
    "ax.set_xlabel('Time') \n",
    "plt.savefig(\"../outputs/{}_points_over_time_3h_agg{}_{}.png\".format(country_code,agg_level,year))"
   ]
  },
  {
   "cell_type": "code",
   "execution_count": null,
   "id": "ae594919-bbf0-493e-ba80-3b49446a452b",
   "metadata": {},
   "outputs": [],
   "source": [
    "## Maps"
   ]
  },
  {
   "cell_type": "code",
   "execution_count": null,
   "id": "7542adc6-96e3-42cd-8450-6ecc2f82bd81",
   "metadata": {},
   "outputs": [],
   "source": [
    "ax = average_popDensity_gdf.plot(color=\"red\",edgecolor=\"black\",markersize=50,figsize=(15, 15))\n",
    "cx.add_basemap(ax, crs=average_popDensity_gdf.crs.to_string(), source=cx.providers.OpenStreetMap.Mapnik)\n",
    "ax.set_xlabel('Longitude') \n",
    "ax.set_ylabel('Latitude') \n",
    "\n",
    "\n",
    "average_popDensity_gdf.plot(\n",
    "    ax=ax,\n",
    "    cmap='viridis_r',\n",
    "    column=\"no_of_unique_users\",\n",
    "    legend=True,\n",
    "    legend_kwds={\"label\": \"Number of average unique devices\", \"orientation\": \"horizontal\"},\n",
    "    \n",
    ")\n",
    "#plt.subplots_adjust(bottom=0.5)\n",
    "text = AnchoredText('Average number of unique devices in {} {} for 3 hours interval using Geohash {}'.format(country_name,year,agg_level),loc=1, prop={'size': 10}, frameon=True)\n",
    "ax.add_artist(text)\n",
    "\n",
    "\n",
    "\n",
    "plt.savefig(\"../outputs/map_{}_avg_devices_3h_agg{}_{}.png\".format(country_code,year,agg_level),bbox_inches='tight',dpi=300)"
   ]
  },
  {
   "cell_type": "code",
   "execution_count": null,
   "id": "6426fa25-7511-4be7-bc74-6d29eb268fa5",
   "metadata": {},
   "outputs": [],
   "source": [
    "ax = average_popDensity_gdf.plot(color=\"red\",edgecolor=\"black\",markersize=50,figsize=(15, 15))\n",
    "cx.add_basemap(ax, crs=average_popDensity_gdf.crs.to_string(), source=cx.providers.OpenStreetMap.Mapnik)\n",
    "ax.set_xlabel('Longitude') \n",
    "ax.set_ylabel('Latitude') \n",
    "\n",
    "\n",
    "average_popDensity_gdf.plot(\n",
    "    ax=ax,\n",
    "    cmap='viridis_r',\n",
    "    column=\"no_of_points\",\n",
    "    legend=True,\n",
    "    legend_kwds={\"label\": \"Average number of points\", \"orientation\": \"horizontal\"},\n",
    "    \n",
    ")\n",
    "#plt.subplots_adjust(bottom=0.5)\n",
    "text = AnchoredText('Average number of points in {} {} for 3 hours interval using Geohash {}'.format(country_name,year,agg_level),loc=1, prop={'size': 10}, frameon=True)\n",
    "ax.add_artist(text)\n",
    "\n",
    "plt.savefig(\"../outputs/map_{}_avg_points_3h_agg{}_{}.png\".format(country_code,year,agg_level),bbox_inches='tight',dpi=300)\n"
   ]
  },
  {
   "cell_type": "markdown",
   "id": "21373f9f-996f-4603-af38-dbc1fdab2375",
   "metadata": {},
   "source": [
    "## AGG 3"
   ]
  },
  {
   "cell_type": "code",
   "execution_count": null,
   "id": "a312beb9-3b16-4f57-9598-00bf7ad8041b",
   "metadata": {},
   "outputs": [],
   "source": [
    "country_code = 'MX'\n",
    "country_name = 'Mexico'\n",
    "year = '2020'\n",
    "agg_level = '3'\n",
    "threshold = 10"
   ]
  },
  {
   "cell_type": "code",
   "execution_count": null,
   "id": "a6d25664-8ee0-4a47-b27d-c93b0f7c473a",
   "metadata": {},
   "outputs": [],
   "source": [
    "# Get CSV files list from a folder\n",
    "path = \"../data/popDensity/{}/{}/original\".format(country_code,year)\n",
    "csv_files = glob.glob(path + \"/{}_daily_agg5_hour_*.csv\".format(country_code))\n",
    "i = 1\n",
    "for file in csv_files:\n",
    "    print(i, file)\n",
    "    i+=1 \n",
    "      \n",
    "# Read each CSV file into DataFrame\n",
    "# This creates a list of dataframes\n",
    "df_list = (pd.read_csv(file) for file in csv_files)\n",
    "\n",
    "# Concatenate all DataFrames\n",
    "big_df_agg3   = pd.concat(df_list, ignore_index=True)\n",
    "\n",
    "big_df_agg3['local_date'] = big_df_agg3.apply(lambda x: generateDate(x['day'],x['month'],year),axis = 1)\n",
    "big_df_agg3['local_time'] = big_df_agg3.apply(lambda x: generateRank(x['grt'],x['local_date']),axis = 1)\n",
    "big_df_agg3 = big_df_agg3.drop(columns=['grt', 'day', 'month'])\n",
    "big_df_agg3 = big_df_agg3[['geohash5','no_of_points','no_of_unique_users', 'local_time', 'local_date']]\n",
    "big_df_agg3.columns = ['geohash_5','no_of_points','no_of_unique_users', 'local_time', 'local_date']\n",
    "big_df_agg3.sort_values(by=['local_time'], ascending=True, inplace= True)"
   ]
  },
  {
   "cell_type": "code",
   "execution_count": null,
   "id": "c461930f-e74d-498d-a04d-8ece500216b5",
   "metadata": {},
   "outputs": [],
   "source": [
    "#geohash_5\tno_of_points\tno_of_unique_users\tlocal_time\tlocal_date\n",
    "big_df_agg3['geohash_3'] = big_df_agg3['geohash_5'].str.slice(0,3)\n",
    "big_df_agg3 = big_df_agg3.drop('geohash_5', axis=1)\n",
    "grp_big_df_agg3 = big_df_agg3.groupby(['local_time','local_date','geohash_3']).sum()\n",
    "grp_big_df_agg3.reset_index(inplace=True)\n",
    "print (\"Before k-anonimity {}\".format(grp_big_df_agg3.shape[0]))\n",
    "grp_big_df_agg3 = grp_big_df_agg3[ grp_big_df_agg3['no_of_unique_users'] >= threshold ]\n",
    "print (\"After k-anonimity {}\".format(grp_big_df_agg3.shape[0]))\n",
    "big_df_agg3.head()"
   ]
  },
  {
   "cell_type": "code",
   "execution_count": null,
   "id": "df092182-44cc-496d-a279-1ff8c42882be",
   "metadata": {},
   "outputs": [],
   "source": [
    "grp_big_df_agg3.to_csv(path+\"/pd_{}_{}_3h_agg{}.csv\".format(str.lower(country_code),year,agg_level,year), index=False )\n",
    "print (\"Saved on: \" + path+\"/pd_{}_{}_3h_agg{}.csv\".format(str.lower(country_code),agg_level,year))"
   ]
  },
  {
   "cell_type": "markdown",
   "id": "28580fc6-1916-49d6-aa23-d75018b3606b",
   "metadata": {},
   "source": [
    "## Plot"
   ]
  },
  {
   "cell_type": "code",
   "execution_count": null,
   "id": "efa49f12-896e-41a5-9332-6e97f32902dc",
   "metadata": {},
   "outputs": [],
   "source": [
    "grouped = grp_big_df_agg3[[\"geohash_3\",\"no_of_unique_users\",\"no_of_points\"]].groupby('geohash_3')\n",
    "average_popDensity = grouped.mean().reset_index()\n",
    "average_popDensity['no_of_unique_users'] = average_popDensity['no_of_unique_users'].astype(int)\n",
    "\n",
    "average_popDensity.to_csv(path+\"/{}_popDensity_agg{}_{}_avg.csv\".format(country_code,agg_level,year), index=False )\n",
    "print (\"Saved on: \" + path+\"/{}_popDensity_agg{}_{}_avg.csv\".format(country_code,agg_level,year))\n"
   ]
  },
  {
   "cell_type": "code",
   "execution_count": null,
   "id": "f339e0d2-ceee-4caf-bf4e-9896313f82ce",
   "metadata": {},
   "outputs": [],
   "source": [
    "average_popDensity['geometry'] = average_popDensity['geohash_3'].apply(getPolygon)\n",
    "average_popDensity_gdf = gpd.GeoDataFrame(\n",
    "    average_popDensity, geometry=average_popDensity.geometry, crs=\"EPSG:4326\"\n",
    ")\n",
    "average_popDensity_gdf.head()"
   ]
  },
  {
   "cell_type": "code",
   "execution_count": null,
   "id": "68bd0590-dee9-4f20-a87f-95b516f540b0",
   "metadata": {},
   "outputs": [],
   "source": [
    "fig, ax = plt.subplots( )\n",
    "n_bins = 50\n",
    "ax.hist(average_popDensity_gdf[['no_of_unique_users']].values, bins=n_bins, color=mcolors.CSS4_COLORS['lightsteelblue'])\n",
    "ax.set_xlabel('Average number of unique devices ({} {}, Geohash {})'.format(country_name,year,agg_level)) \n",
    "ax.set_ylabel('Frequency') \n",
    "plt.savefig(\"../outputs/{}_avg_devices_3h_agg{}_{}.png\".format(country_code,agg_level,year))"
   ]
  },
  {
   "cell_type": "code",
   "execution_count": null,
   "id": "d4f8c79c-e976-4f40-8351-d3d94aa21522",
   "metadata": {},
   "outputs": [],
   "source": [
    "fig, ax = plt.subplots( )\n",
    "n_bins = 50\n",
    "ax.hist(average_popDensity_gdf[['no_of_points']].values, bins=n_bins, color=mcolors.CSS4_COLORS['lightsteelblue'])\n",
    "ax.set_xlabel('Average number of points ({} {}, Geohash {})'.format(country_name,year,agg_level)) \n",
    "ax.set_ylabel('Frequency') \n",
    "plt.savefig(\"../outputs/{}_avg_points_3h_agg{}_{}.png\".format(country_code,agg_level,year))"
   ]
  },
  {
   "cell_type": "markdown",
   "id": "c0a490fe-b5cd-4eff-9064-4f90c1795129",
   "metadata": {},
   "source": [
    "## Timeseries"
   ]
  },
  {
   "cell_type": "code",
   "execution_count": null,
   "id": "171650ca-1e1c-47a6-b6b5-54c3ba1e82b1",
   "metadata": {},
   "outputs": [],
   "source": [
    "grp_big_df_agg3 = big_df[[\"local_time\",\"no_of_unique_users\",\"no_of_points\"]].groupby('local_time')\n",
    "average_popDensity = grp_big_df_agg3.sum().reset_index()\n",
    "average_popDensity['no_of_unique_users'] = average_popDensity['no_of_unique_users'].astype(int)\n",
    "average_popDensity['no_of_points'] = average_popDensity['no_of_points'].astype(int)\n",
    "average_popDensity['time'] = pd.to_datetime(average_popDensity['local_time'].str.slice(0,18))\n",
    "average_popDensity = average_popDensity.drop('local_time', axis=1)\n",
    "average_popDensity = average_popDensity.set_index('time')\n",
    "average_popDensity.head()"
   ]
  },
  {
   "cell_type": "code",
   "execution_count": null,
   "id": "18b0fc08-7122-4bbf-ab80-7dd9fe49eb8c",
   "metadata": {},
   "outputs": [],
   "source": [
    "fig, ax = plt.subplots( )\n",
    "ax.plot(average_popDensity.index,average_popDensity[['no_of_unique_users']].values,  color=mcolors.CSS4_COLORS['lightsteelblue'])\n",
    "\n",
    "ax.set_ylabel('Number of unique devices'.format(country_name,year,agg_level)) \n",
    "\n",
    "ax.set_xlabel('Time') \n",
    "plt.savefig(\"../outputs/{}_devices_over_time_3h_agg{}_{}.png\".format(country_code,agg_level,year))"
   ]
  },
  {
   "cell_type": "code",
   "execution_count": null,
   "id": "5ef11994-9cad-4f9b-8579-05da780f5f0c",
   "metadata": {},
   "outputs": [],
   "source": [
    "fig, ax = plt.subplots( )\n",
    "ax.plot(average_popDensity.index,average_popDensity[['no_of_points']].values,  color=mcolors.CSS4_COLORS['lightsteelblue'])\n",
    "\n",
    "ax.set_ylabel('Number of points'.format(country_name,year,agg_level)) \n",
    "\n",
    "ax.set_xlabel('Time') \n",
    "plt.savefig(\"../outputs/{}_points_over_time_3h_agg{}_{}.png\".format(country_code,agg_level,year))"
   ]
  },
  {
   "cell_type": "markdown",
   "id": "b9e0f0a7-73ee-477f-a231-f92223cb44f5",
   "metadata": {},
   "source": [
    "## Maps"
   ]
  },
  {
   "cell_type": "code",
   "execution_count": null,
   "id": "4b064dea-2811-41ff-97d3-3defb69fec9d",
   "metadata": {},
   "outputs": [],
   "source": [
    "ax = average_popDensity_gdf.plot(color=\"red\",edgecolor=\"black\",markersize=50,figsize=(15, 15))\n",
    "cx.add_basemap(ax, crs=average_popDensity_gdf.crs.to_string(), source=cx.providers.OpenStreetMap.Mapnik)\n",
    "ax.set_xlabel('Longitude') \n",
    "ax.set_ylabel('Latitude') \n",
    "\n",
    "\n",
    "average_popDensity_gdf.plot(\n",
    "    ax=ax,\n",
    "    cmap='viridis_r',\n",
    "    column=\"no_of_unique_users\",\n",
    "    legend=True,\n",
    "    legend_kwds={\"label\": \"Number of average unique devices\", \"orientation\": \"horizontal\"},\n",
    "    \n",
    ")\n",
    "#plt.subplots_adjust(bottom=0.5)\n",
    "text = AnchoredText('Average number of unique devices in {} {} for 3 hours interval using Geohash {}'.format(country_name,year,agg_level),loc=1, prop={'size': 10}, frameon=True)\n",
    "ax.add_artist(text)\n",
    "\n",
    "\n",
    "\n",
    "plt.savefig(\"../outputs/map_{}_avg_devices_3h_agg{}_{}.png\".format(country_code,year,agg_level),bbox_inches='tight',dpi=300)"
   ]
  },
  {
   "cell_type": "code",
   "execution_count": null,
   "id": "89da1344-8529-49b3-97a1-ab44373aed50",
   "metadata": {},
   "outputs": [],
   "source": [
    "ax = average_popDensity_gdf.plot(color=\"red\",edgecolor=\"black\",markersize=50,figsize=(15, 15))\n",
    "cx.add_basemap(ax, crs=average_popDensity_gdf.crs.to_string(), source=cx.providers.OpenStreetMap.Mapnik)\n",
    "ax.set_xlabel('Longitude') \n",
    "ax.set_ylabel('Latitude') \n",
    "\n",
    "\n",
    "average_popDensity_gdf.plot(\n",
    "    ax=ax,\n",
    "    cmap='viridis_r',\n",
    "    column=\"no_of_points\",\n",
    "    legend=True,\n",
    "    legend_kwds={\"label\": \"Average number of points\", \"orientation\": \"horizontal\"},\n",
    "    \n",
    ")\n",
    "#plt.subplots_adjust(bottom=0.5)\n",
    "text = AnchoredText('Average number of points in {} {} for 3 hours interval using Geohash {}'.format(country_name,year,agg_level),loc=1, prop={'size': 10}, frameon=True)\n",
    "ax.add_artist(text)\n",
    "\n",
    "plt.savefig(\"../outputs/map_{}_avg_points_3h_agg{}_{}.png\".format(country_code,year,agg_level),bbox_inches='tight',dpi=300)\n"
   ]
  },
  {
   "cell_type": "code",
   "execution_count": null,
   "id": "29a83293-068c-4215-a889-247b1c8295da",
   "metadata": {},
   "outputs": [],
   "source": []
  }
 ],
 "metadata": {
  "kernelspec": {
   "display_name": "Python 3 (ipykernel)",
   "language": "python",
   "name": "python3"
  },
  "language_info": {
   "codemirror_mode": {
    "name": "ipython",
    "version": 3
   },
   "file_extension": ".py",
   "mimetype": "text/x-python",
   "name": "python",
   "nbconvert_exporter": "python",
   "pygments_lexer": "ipython3",
   "version": "3.10.17"
  }
 },
 "nbformat": 4,
 "nbformat_minor": 5
}
