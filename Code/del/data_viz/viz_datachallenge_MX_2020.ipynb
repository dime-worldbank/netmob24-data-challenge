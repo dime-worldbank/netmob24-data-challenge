{
 "cells": [
  {
   "cell_type": "code",
   "execution_count": 1,
   "id": "9ddf6932-2716-48a8-8c6e-34ea7b332ad4",
   "metadata": {},
   "outputs": [
    {
     "name": "stderr",
     "output_type": "stream",
     "text": [
      "/Users/mnunez/opt/anaconda3/envs/graphwork/lib/python3.9/site-packages/geopandas/_compat.py:123: UserWarning: The Shapely GEOS version (3.9.1-CAPI-1.14.2) is incompatible with the GEOS version PyGEOS was compiled with (3.10.4-CAPI-1.16.2). Conversions between both will be slow.\n",
      "  warnings.warn(\n"
     ]
    }
   ],
   "source": [
    "# Import libraries\n",
    "import glob\n",
    "import pandas as pd\n",
    "import geopandas as gpd\n",
    "\n",
    "import numpy as np\n",
    "import matplotlib.pyplot as plt\n",
    "from matplotlib.ticker import AutoMinorLocator\n",
    "import sys\n",
    "import matplotlib\n",
    "import scienceplots\n",
    "import matplotlib.colors as mcolors\n",
    "from matplotlib.offsetbox import AnchoredText\n",
    "plt.style.use('science')\n",
    "\n",
    "%matplotlib inline\n",
    "\n",
    "import libgeohash as gh\n",
    "from shapely.geometry.polygon import Polygon\n",
    "from shapely.geometry import Point\n",
    "\n",
    "import contextily as cx\n",
    "import xyzservices.providers as xyz"
   ]
  },
  {
   "cell_type": "code",
   "execution_count": 2,
   "id": "904bf95d-8db1-4d60-a961-3ba92e357f70",
   "metadata": {},
   "outputs": [],
   "source": [
    "def getPolygon (geoHash):\n",
    "    auxGeoHash = gh.bbox(geoHash)\n",
    "    p = Polygon([\n",
    "    Point([auxGeoHash['w'],auxGeoHash['n']]),\n",
    "    Point([auxGeoHash['e'],auxGeoHash['n']]),\n",
    "    Point([auxGeoHash['e'],auxGeoHash['s']]),\n",
    "    Point([auxGeoHash['w'],auxGeoHash['s']])\n",
    "    ])\n",
    "    return p\n"
   ]
  },
  {
   "cell_type": "code",
   "execution_count": 3,
   "id": "136c87a4-01b1-4847-af11-6d88fcea9f48",
   "metadata": {},
   "outputs": [],
   "source": [
    "#geohash_5,no_of_points,no_of_unique_users,local_time,local_date\n",
    "#20191231 21:00:00 - 24:00:00,20191231\n",
    "\n",
    "def generateDate (day, month, year):\n",
    "    \n",
    "    strDate = str(year)\n",
    "    if int(month) < 10:\n",
    "        strDate += \"0\"+str(month)\n",
    "    else:\n",
    "        strDate += str(month)\n",
    "    if int(day) < 10:\n",
    "        strDate += \"0\"+str(day)\n",
    "    else:\n",
    "        strDate += str(day)\n",
    "        \n",
    "    return strDate \n",
    "\n",
    "def generateRank (interval,local_time):\n",
    "\n",
    "    dict_local_time = {0:'00:00:00 - 03:00:00',\n",
    "                      1:'03:00:00 - 06:00:00',\n",
    "                      2:'06:00:00 - 09:00:00',\n",
    "                      3:'09:00:00 - 12:00:00',\n",
    "                      4:'12:00:00 - 15:00:00',\n",
    "                      5:'15:00:00 - 18:00:00',\n",
    "                      6:'18:00:00 - 21:00:00',\n",
    "                      7:'21:00:00 - 00:00:00'}\n",
    "    \n",
    "    return local_time + \" \" + dict_local_time[int(interval)] "
   ]
  },
  {
   "cell_type": "code",
   "execution_count": null,
   "id": "adaacfc0-5428-49ea-8d18-01777acfa76d",
   "metadata": {},
   "outputs": [],
   "source": []
  },
  {
   "cell_type": "markdown",
   "id": "75fa4339-2e96-4fbc-b768-1fec0520ce01",
   "metadata": {},
   "source": [
    "# AGG 5"
   ]
  },
  {
   "cell_type": "code",
   "execution_count": null,
   "id": "2a4fa65a-eb7a-4017-8269-7387354991c7",
   "metadata": {},
   "outputs": [],
   "source": [
    "country_code = 'MX'\n",
    "country_name = 'Mexico'\n",
    "year = '2020'\n",
    "agg_level = '5'"
   ]
  },
  {
   "cell_type": "code",
   "execution_count": null,
   "id": "fab018a9-312e-4a80-a33c-43913d09fa1a",
   "metadata": {},
   "outputs": [],
   "source": [
    "# Get CSV files list from a folder\n",
    "path = \"../data/popDensity/{}/{}\".format(country_code,year)\n",
    "csv_files = glob.glob(path + \"/{}_daily_agg5_hour_*.csv_kanonnimized.csv\".format(country_code))\n",
    "i = 1\n",
    "for file in csv_files:\n",
    "    print(i, file)\n",
    "    i+=1 \n",
    "# Read each CSV file into DataFrame\n",
    "# This creates a list of dataframes\n",
    "df_list = (pd.read_csv(file) for file in csv_files)\n",
    "\n",
    "# Concatenate all DataFrames\n",
    "big_df   = pd.concat(df_list, ignore_index=True)\n",
    "\n",
    "big_df['local_date'] = big_df.apply(lambda x: generateDate(x['day'],x['month'],year),axis = 1)\n",
    "big_df['local_time'] = big_df.apply(lambda x: generateRank(x['grt'],x['local_date']),axis = 1)\n",
    "big_df = big_df.drop(columns=['grt', 'day', 'month'])\n",
    "big_df = big_df[['geohash5','no_of_points','no_of_unique_users', 'local_time', 'local_date']]\n",
    "big_df.columns = ['geohash_5','no_of_points','no_of_unique_users', 'local_time', 'local_date']\n",
    "big_df.sort_values(by=['local_time'], ascending=True, inplace= True)\n",
    "big_df.head()"
   ]
  },
  {
   "cell_type": "code",
   "execution_count": null,
   "id": "331d3dd9-dd56-4b8d-b545-1802d60abb3a",
   "metadata": {},
   "outputs": [],
   "source": [
    "big_df.to_csv(path+\"/pd_{}_{}_3h_agg{}.csv\".format(str.lower(country_code),year,agg_level,year), index=False )\n",
    "print (\"Saved on: \" + path+\"/pd_{}_{}_3h_agg{}.csv\".format(str.lower(country_code),agg_level,year))"
   ]
  },
  {
   "cell_type": "markdown",
   "id": "f9d6d102-5a13-4101-b73e-4e284e85675e",
   "metadata": {},
   "source": [
    "## Plot"
   ]
  },
  {
   "cell_type": "code",
   "execution_count": null,
   "id": "a9e51eea-0ef7-4e5a-ab3e-0a20cddfc766",
   "metadata": {},
   "outputs": [],
   "source": [
    "grouped = big_df[[\"geohash_5\",\"no_of_unique_users\",\"no_of_points\"]].groupby('geohash_5')\n",
    "average_popDensity = grouped.mean().reset_index()\n",
    "average_popDensity['no_of_unique_users'] = average_popDensity['no_of_unique_users'].astype(int)\n",
    "average_popDensity['no_of_points'] = average_popDensity['no_of_points'].astype(int)\n",
    "\n",
    "average_popDensity.to_csv(path+\"/{}_popDensity_agg{}_{}_avg.csv\".format(country_code,agg_level,year), index=False )\n",
    "print (\"Saved on: \" + path+\"/{}_popDensity_agg{}_{}_avg.csv\".format(country_code,agg_level,year))\n"
   ]
  },
  {
   "cell_type": "code",
   "execution_count": null,
   "id": "884ef873-c64d-466a-8450-9a55c5eb7869",
   "metadata": {},
   "outputs": [],
   "source": [
    "average_popDensity['geometry'] = average_popDensity['geohash_5'].apply(getPolygon)\n",
    "average_popDensity_gdf = gpd.GeoDataFrame(\n",
    "    average_popDensity, geometry=average_popDensity.geometry, crs=\"EPSG:4326\"\n",
    ")\n",
    "average_popDensity_gdf.head()"
   ]
  },
  {
   "cell_type": "code",
   "execution_count": null,
   "id": "63d9dc4f-33c0-44c2-9ea3-6d5176fac3c8",
   "metadata": {},
   "outputs": [],
   "source": [
    "fig, ax = plt.subplots( )\n",
    "n_bins = 50\n",
    "ax.hist(average_popDensity_gdf[['no_of_unique_users']].values, bins=n_bins, color=mcolors.CSS4_COLORS['lightsteelblue'])\n",
    "ax.set_xlabel('Average number of unique devices ({} {}, Geohash {})'.format(country_name,year,agg_level)) \n",
    "\n",
    "ax.set_ylabel('Frequency') \n",
    "plt.savefig(\"../outputs/{}_avg_devices_3h_agg{}_{}.png\".format(country_code,agg_level,year))"
   ]
  },
  {
   "cell_type": "code",
   "execution_count": null,
   "id": "e9240b28-7c24-4dbc-bad3-4e83fb49ec92",
   "metadata": {},
   "outputs": [],
   "source": [
    "fig, ax = plt.subplots( )\n",
    "n_bins = 50\n",
    "ax.hist(average_popDensity_gdf[['no_of_points']].values, bins=n_bins, color=mcolors.CSS4_COLORS['lightsteelblue'])\n",
    "ax.set_xlabel('Average number of points ({} {}, Geohash {})'.format(country_name,year,agg_level)) \n",
    "ax.set_ylabel('Frequency') \n",
    "plt.savefig(\"../outputs/{}_avg_points_3h_agg{}_{}.png\".format(country_code,agg_level,year))"
   ]
  },
  {
   "cell_type": "markdown",
   "id": "3e42c4e2-82c5-48d4-a3a1-4f46e317126e",
   "metadata": {},
   "source": [
    "## Timeseries"
   ]
  },
  {
   "cell_type": "code",
   "execution_count": null,
   "id": "c4b4a680-144d-4078-8076-7f9f4b060236",
   "metadata": {},
   "outputs": [],
   "source": [
    "grouped_time = big_df[[\"local_time\",\"no_of_unique_users\",\"no_of_points\"]].groupby('local_time')\n",
    "average_popDensity = grouped_time.sum().reset_index()\n",
    "average_popDensity['no_of_unique_users'] = average_popDensity['no_of_unique_users'].astype(int)\n",
    "average_popDensity['no_of_points'] = average_popDensity['no_of_points'].astype(int)\n",
    "average_popDensity['time'] = pd.to_datetime(average_popDensity['local_time'].str.slice(0,18))\n",
    "average_popDensity = average_popDensity.drop('local_time', axis=1)\n",
    "average_popDensity = average_popDensity.set_index('time')\n",
    "average_popDensity.head()"
   ]
  },
  {
   "cell_type": "code",
   "execution_count": null,
   "id": "b470f2df-4815-489c-a2a1-c91d87a3fdd2",
   "metadata": {},
   "outputs": [],
   "source": [
    "fig, ax = plt.subplots( )\n",
    "ax.plot(average_popDensity.index,average_popDensity[['no_of_unique_users']].values,  color=mcolors.CSS4_COLORS['lightsteelblue'])\n",
    "\n",
    "ax.set_ylabel('Number of unique devices'.format(country_name,year,agg_level)) \n",
    "\n",
    "ax.set_xlabel('Time') \n",
    "plt.savefig(\"../outputs/{}_devices_over_time_3h_agg{}_{}.png\".format(country_code,agg_level,year))"
   ]
  },
  {
   "cell_type": "code",
   "execution_count": null,
   "id": "b35c8833-50cd-4d35-88dc-12994280620b",
   "metadata": {},
   "outputs": [],
   "source": [
    "fig, ax = plt.subplots( )\n",
    "ax.plot(average_popDensity.index,average_popDensity[['no_of_points']].values,  color=mcolors.CSS4_COLORS['lightsteelblue'])\n",
    "\n",
    "ax.set_ylabel('Number of points'.format(country_name,year,agg_level)) \n",
    "\n",
    "ax.set_xlabel('Time') \n",
    "plt.savefig(\"../outputs/{}_points_over_time_3h_agg{}_{}.png\".format(country_code,agg_level,year))"
   ]
  },
  {
   "cell_type": "code",
   "execution_count": null,
   "id": "ae594919-bbf0-493e-ba80-3b49446a452b",
   "metadata": {},
   "outputs": [],
   "source": [
    "## Maps"
   ]
  },
  {
   "cell_type": "code",
   "execution_count": null,
   "id": "7542adc6-96e3-42cd-8450-6ecc2f82bd81",
   "metadata": {},
   "outputs": [],
   "source": [
    "ax = average_popDensity_gdf.plot(color=\"red\",edgecolor=\"black\",markersize=50,figsize=(15, 15))\n",
    "cx.add_basemap(ax, crs=average_popDensity_gdf.crs.to_string(), source=cx.providers.OpenStreetMap.Mapnik)\n",
    "ax.set_xlabel('Longitude') \n",
    "ax.set_ylabel('Latitude') \n",
    "\n",
    "\n",
    "average_popDensity_gdf.plot(\n",
    "    ax=ax,\n",
    "    cmap='viridis_r',\n",
    "    column=\"no_of_unique_users\",\n",
    "    legend=True,\n",
    "    legend_kwds={\"label\": \"Number of average unique devices\", \"orientation\": \"horizontal\"},\n",
    "    \n",
    ")\n",
    "#plt.subplots_adjust(bottom=0.5)\n",
    "text = AnchoredText('Average number of unique devices in {} {} for 3 hours interval using Geohash {}'.format(country_name,year,agg_level),loc=1, prop={'size': 10}, frameon=True)\n",
    "ax.add_artist(text)\n",
    "\n",
    "\n",
    "\n",
    "plt.savefig(\"../outputs/map_{}_avg_devices_3h_agg{}_{}.png\".format(country_code,year,agg_level),bbox_inches='tight',dpi=300)"
   ]
  },
  {
   "cell_type": "code",
   "execution_count": null,
   "id": "6426fa25-7511-4be7-bc74-6d29eb268fa5",
   "metadata": {},
   "outputs": [],
   "source": [
    "ax = average_popDensity_gdf.plot(color=\"red\",edgecolor=\"black\",markersize=50,figsize=(15, 15))\n",
    "cx.add_basemap(ax, crs=average_popDensity_gdf.crs.to_string(), source=cx.providers.OpenStreetMap.Mapnik)\n",
    "ax.set_xlabel('Longitude') \n",
    "ax.set_ylabel('Latitude') \n",
    "\n",
    "\n",
    "average_popDensity_gdf.plot(\n",
    "    ax=ax,\n",
    "    cmap='viridis_r',\n",
    "    column=\"no_of_points\",\n",
    "    legend=True,\n",
    "    legend_kwds={\"label\": \"Average number of points\", \"orientation\": \"horizontal\"},\n",
    "    \n",
    ")\n",
    "#plt.subplots_adjust(bottom=0.5)\n",
    "text = AnchoredText('Average number of points in {} {} for 3 hours interval using Geohash {}'.format(country_name,year,agg_level),loc=1, prop={'size': 10}, frameon=True)\n",
    "ax.add_artist(text)\n",
    "\n",
    "plt.savefig(\"../outputs/map_{}_avg_points_3h_agg{}_{}.png\".format(country_code,year,agg_level),bbox_inches='tight',dpi=300)\n"
   ]
  },
  {
   "cell_type": "markdown",
   "id": "21373f9f-996f-4603-af38-dbc1fdab2375",
   "metadata": {},
   "source": [
    "## AGG 3"
   ]
  },
  {
   "cell_type": "code",
   "execution_count": 4,
   "id": "a312beb9-3b16-4f57-9598-00bf7ad8041b",
   "metadata": {},
   "outputs": [],
   "source": [
    "country_code = 'MX'\n",
    "country_name = 'Mexico'\n",
    "year = '2020'\n",
    "agg_level = '3'\n",
    "threshold = 10"
   ]
  },
  {
   "cell_type": "code",
   "execution_count": 5,
   "id": "a6d25664-8ee0-4a47-b27d-c93b0f7c473a",
   "metadata": {},
   "outputs": [
    {
     "name": "stdout",
     "output_type": "stream",
     "text": [
      "1 ../data/popDensity/MX/2020/original/MX_daily_agg5_hour_feb.csv\n",
      "2 ../data/popDensity/MX/2020/original/MX_daily_agg5_hour_dec.csv\n",
      "3 ../data/popDensity/MX/2020/original/MX_daily_agg5_hour_mar.csv\n",
      "4 ../data/popDensity/MX/2020/original/MX_daily_agg5_hour_apr.csv\n",
      "5 ../data/popDensity/MX/2020/original/MX_daily_agg5_hour_jan.csv\n",
      "6 ../data/popDensity/MX/2020/original/MX_daily_agg5_hour_nov.csv\n",
      "7 ../data/popDensity/MX/2020/original/MX_daily_agg5_hour_jun.csv\n",
      "8 ../data/popDensity/MX/2020/original/MX_daily_agg5_hour_jul.csv\n",
      "9 ../data/popDensity/MX/2020/original/MX_daily_agg5_hour_oct.csv\n",
      "10 ../data/popDensity/MX/2020/original/MX_daily_agg5_hour_may.csv\n",
      "11 ../data/popDensity/MX/2020/original/MX_daily_agg5_hour_aug.csv\n",
      "12 ../data/popDensity/MX/2020/original/MX_daily_agg5_hour_set.csv\n"
     ]
    }
   ],
   "source": [
    "# Get CSV files list from a folder\n",
    "path = \"../data/popDensity/{}/{}/original\".format(country_code,year)\n",
    "csv_files = glob.glob(path + \"/{}_daily_agg5_hour_*.csv\".format(country_code))\n",
    "i = 1\n",
    "for file in csv_files:\n",
    "    print(i, file)\n",
    "    i+=1 \n",
    "      \n",
    "# Read each CSV file into DataFrame\n",
    "# This creates a list of dataframes\n",
    "df_list = (pd.read_csv(file) for file in csv_files)\n",
    "\n",
    "# Concatenate all DataFrames\n",
    "big_df_agg3   = pd.concat(df_list, ignore_index=True)\n",
    "\n",
    "big_df_agg3['local_date'] = big_df_agg3.apply(lambda x: generateDate(x['day'],x['month'],year),axis = 1)\n",
    "big_df_agg3['local_time'] = big_df_agg3.apply(lambda x: generateRank(x['grt'],x['local_date']),axis = 1)\n",
    "big_df_agg3 = big_df_agg3.drop(columns=['grt', 'day', 'month'])\n",
    "big_df_agg3 = big_df_agg3[['geohash5','no_of_points','no_of_unique_users', 'local_time', 'local_date']]\n",
    "big_df_agg3.columns = ['geohash_5','no_of_points','no_of_unique_users', 'local_time', 'local_date']\n",
    "big_df_agg3.sort_values(by=['local_time'], ascending=True, inplace= True)"
   ]
  },
  {
   "cell_type": "code",
   "execution_count": 6,
   "id": "c461930f-e74d-498d-a04d-8ece500216b5",
   "metadata": {},
   "outputs": [
    {
     "name": "stdout",
     "output_type": "stream",
     "text": [
      "Before k-anonimity 381553\n",
      "After k-anonimity 333614\n"
     ]
    },
    {
     "data": {
      "text/html": [
       "<div>\n",
       "<style scoped>\n",
       "    .dataframe tbody tr th:only-of-type {\n",
       "        vertical-align: middle;\n",
       "    }\n",
       "\n",
       "    .dataframe tbody tr th {\n",
       "        vertical-align: top;\n",
       "    }\n",
       "\n",
       "    .dataframe thead th {\n",
       "        text-align: right;\n",
       "    }\n",
       "</style>\n",
       "<table border=\"1\" class=\"dataframe\">\n",
       "  <thead>\n",
       "    <tr style=\"text-align: right;\">\n",
       "      <th></th>\n",
       "      <th>no_of_points</th>\n",
       "      <th>no_of_unique_users</th>\n",
       "      <th>local_time</th>\n",
       "      <th>local_date</th>\n",
       "      <th>geohash_3</th>\n",
       "    </tr>\n",
       "  </thead>\n",
       "  <tbody>\n",
       "    <tr>\n",
       "      <th>10390277</th>\n",
       "      <td>66</td>\n",
       "      <td>18</td>\n",
       "      <td>20200101 00:00:00 - 03:00:00</td>\n",
       "      <td>20200101</td>\n",
       "      <td>9g3</td>\n",
       "    </tr>\n",
       "    <tr>\n",
       "      <th>10401668</th>\n",
       "      <td>9</td>\n",
       "      <td>2</td>\n",
       "      <td>20200101 00:00:00 - 03:00:00</td>\n",
       "      <td>20200101</td>\n",
       "      <td>9et</td>\n",
       "    </tr>\n",
       "    <tr>\n",
       "      <th>10401669</th>\n",
       "      <td>9</td>\n",
       "      <td>4</td>\n",
       "      <td>20200101 00:00:00 - 03:00:00</td>\n",
       "      <td>20200101</td>\n",
       "      <td>9gc</td>\n",
       "    </tr>\n",
       "    <tr>\n",
       "      <th>10401674</th>\n",
       "      <td>1</td>\n",
       "      <td>1</td>\n",
       "      <td>20200101 00:00:00 - 03:00:00</td>\n",
       "      <td>20200101</td>\n",
       "      <td>9fw</td>\n",
       "    </tr>\n",
       "    <tr>\n",
       "      <th>10401675</th>\n",
       "      <td>1</td>\n",
       "      <td>1</td>\n",
       "      <td>20200101 00:00:00 - 03:00:00</td>\n",
       "      <td>20200101</td>\n",
       "      <td>9ey</td>\n",
       "    </tr>\n",
       "  </tbody>\n",
       "</table>\n",
       "</div>"
      ],
      "text/plain": [
       "          no_of_points  no_of_unique_users                    local_time  \\\n",
       "10390277            66                  18  20200101 00:00:00 - 03:00:00   \n",
       "10401668             9                   2  20200101 00:00:00 - 03:00:00   \n",
       "10401669             9                   4  20200101 00:00:00 - 03:00:00   \n",
       "10401674             1                   1  20200101 00:00:00 - 03:00:00   \n",
       "10401675             1                   1  20200101 00:00:00 - 03:00:00   \n",
       "\n",
       "         local_date geohash_3  \n",
       "10390277   20200101       9g3  \n",
       "10401668   20200101       9et  \n",
       "10401669   20200101       9gc  \n",
       "10401674   20200101       9fw  \n",
       "10401675   20200101       9ey  "
      ]
     },
     "execution_count": 6,
     "metadata": {},
     "output_type": "execute_result"
    }
   ],
   "source": [
    "#geohash_5\tno_of_points\tno_of_unique_users\tlocal_time\tlocal_date\n",
    "big_df_agg3['geohash_3'] = big_df_agg3['geohash_5'].str.slice(0,3)\n",
    "big_df_agg3 = big_df_agg3.drop('geohash_5', axis=1)\n",
    "grp_big_df_agg3 = big_df_agg3.groupby(['local_time','local_date','geohash_3']).sum()\n",
    "grp_big_df_agg3.reset_index(inplace=True)\n",
    "print (\"Before k-anonimity {}\".format(grp_big_df_agg3.shape[0]))\n",
    "grp_big_df_agg3 = grp_big_df_agg3[ grp_big_df_agg3['no_of_unique_users'] >= threshold ]\n",
    "print (\"After k-anonimity {}\".format(grp_big_df_agg3.shape[0]))\n",
    "big_df_agg3.head()"
   ]
  },
  {
   "cell_type": "code",
   "execution_count": 7,
   "id": "df092182-44cc-496d-a279-1ff8c42882be",
   "metadata": {},
   "outputs": [
    {
     "name": "stdout",
     "output_type": "stream",
     "text": [
      "Saved on: ../data/popDensity/MX/2020/original/pd_mx_3_3h_agg2020.csv\n"
     ]
    }
   ],
   "source": [
    "grp_big_df_agg3.to_csv(path+\"/pd_{}_{}_3h_agg{}.csv\".format(str.lower(country_code),year,agg_level,year), index=False )\n",
    "print (\"Saved on: \" + path+\"/pd_{}_{}_3h_agg{}.csv\".format(str.lower(country_code),agg_level,year))"
   ]
  },
  {
   "cell_type": "markdown",
   "id": "28580fc6-1916-49d6-aa23-d75018b3606b",
   "metadata": {},
   "source": [
    "## Plot"
   ]
  },
  {
   "cell_type": "code",
   "execution_count": 8,
   "id": "efa49f12-896e-41a5-9332-6e97f32902dc",
   "metadata": {},
   "outputs": [
    {
     "name": "stdout",
     "output_type": "stream",
     "text": [
      "Saved on: ../data/popDensity/MX/2020/original/MX_popDensity_agg3_2020_avg.csv\n"
     ]
    }
   ],
   "source": [
    "grouped = grp_big_df_agg3[[\"geohash_3\",\"no_of_unique_users\",\"no_of_points\"]].groupby('geohash_3')\n",
    "average_popDensity = grouped.mean().reset_index()\n",
    "average_popDensity['no_of_unique_users'] = average_popDensity['no_of_unique_users'].astype(int)\n",
    "\n",
    "average_popDensity.to_csv(path+\"/{}_popDensity_agg{}_{}_avg.csv\".format(country_code,agg_level,year), index=False )\n",
    "print (\"Saved on: \" + path+\"/{}_popDensity_agg{}_{}_avg.csv\".format(country_code,agg_level,year))\n"
   ]
  },
  {
   "cell_type": "code",
   "execution_count": 9,
   "id": "f339e0d2-ceee-4caf-bf4e-9896313f82ce",
   "metadata": {},
   "outputs": [
    {
     "data": {
      "text/html": [
       "<div>\n",
       "<style scoped>\n",
       "    .dataframe tbody tr th:only-of-type {\n",
       "        vertical-align: middle;\n",
       "    }\n",
       "\n",
       "    .dataframe tbody tr th {\n",
       "        vertical-align: top;\n",
       "    }\n",
       "\n",
       "    .dataframe thead th {\n",
       "        text-align: right;\n",
       "    }\n",
       "</style>\n",
       "<table border=\"1\" class=\"dataframe\">\n",
       "  <thead>\n",
       "    <tr style=\"text-align: right;\">\n",
       "      <th></th>\n",
       "      <th>geohash_3</th>\n",
       "      <th>no_of_unique_users</th>\n",
       "      <th>no_of_points</th>\n",
       "      <th>geometry</th>\n",
       "    </tr>\n",
       "  </thead>\n",
       "  <tbody>\n",
       "    <tr>\n",
       "      <th>0</th>\n",
       "      <td>9e3</td>\n",
       "      <td>12</td>\n",
       "      <td>66.000000</td>\n",
       "      <td>POLYGON ((-111.09375 19.68750, -109.68750 19.6...</td>\n",
       "    </tr>\n",
       "    <tr>\n",
       "      <th>1</th>\n",
       "      <td>9em</td>\n",
       "      <td>270</td>\n",
       "      <td>1574.392418</td>\n",
       "      <td>POLYGON ((-105.46875 19.68750, -104.06250 19.6...</td>\n",
       "    </tr>\n",
       "    <tr>\n",
       "      <th>2</th>\n",
       "      <td>9en</td>\n",
       "      <td>14</td>\n",
       "      <td>107.977778</td>\n",
       "      <td>POLYGON ((-104.06250 18.28125, -102.65625 18.2...</td>\n",
       "    </tr>\n",
       "    <tr>\n",
       "      <th>3</th>\n",
       "      <td>9ep</td>\n",
       "      <td>256</td>\n",
       "      <td>2056.492486</td>\n",
       "      <td>POLYGON ((-102.65625 18.28125, -101.25000 18.2...</td>\n",
       "    </tr>\n",
       "    <tr>\n",
       "      <th>4</th>\n",
       "      <td>9eq</td>\n",
       "      <td>760</td>\n",
       "      <td>3743.171790</td>\n",
       "      <td>POLYGON ((-104.06250 19.68750, -102.65625 19.6...</td>\n",
       "    </tr>\n",
       "  </tbody>\n",
       "</table>\n",
       "</div>"
      ],
      "text/plain": [
       "  geohash_3  no_of_unique_users  no_of_points  \\\n",
       "0       9e3                  12     66.000000   \n",
       "1       9em                 270   1574.392418   \n",
       "2       9en                  14    107.977778   \n",
       "3       9ep                 256   2056.492486   \n",
       "4       9eq                 760   3743.171790   \n",
       "\n",
       "                                            geometry  \n",
       "0  POLYGON ((-111.09375 19.68750, -109.68750 19.6...  \n",
       "1  POLYGON ((-105.46875 19.68750, -104.06250 19.6...  \n",
       "2  POLYGON ((-104.06250 18.28125, -102.65625 18.2...  \n",
       "3  POLYGON ((-102.65625 18.28125, -101.25000 18.2...  \n",
       "4  POLYGON ((-104.06250 19.68750, -102.65625 19.6...  "
      ]
     },
     "execution_count": 9,
     "metadata": {},
     "output_type": "execute_result"
    }
   ],
   "source": [
    "average_popDensity['geometry'] = average_popDensity['geohash_3'].apply(getPolygon)\n",
    "average_popDensity_gdf = gpd.GeoDataFrame(\n",
    "    average_popDensity, geometry=average_popDensity.geometry, crs=\"EPSG:4326\"\n",
    ")\n",
    "average_popDensity_gdf.head()"
   ]
  },
  {
   "cell_type": "code",
   "execution_count": 10,
   "id": "68bd0590-dee9-4f20-a87f-95b516f540b0",
   "metadata": {},
   "outputs": [
    {
     "data": {
      "image/png": "[encoded data removed]",
      "text/plain": [
       "<Figure size 432x288 with 1 Axes>"
      ]
     },
     "metadata": {
      "needs_background": "light"
     },
     "output_type": "display_data"
    }
   ],
   "source": [
    "fig, ax = plt.subplots( )\n",
    "n_bins = 50\n",
    "ax.hist(average_popDensity_gdf[['no_of_unique_users']].values, bins=n_bins, color=mcolors.CSS4_COLORS['lightsteelblue'])\n",
    "ax.set_xlabel('Average number of unique devices ({} {}, Geohash {})'.format(country_name,year,agg_level)) \n",
    "ax.set_ylabel('Frequency') \n",
    "plt.savefig(\"../outputs/{}_avg_devices_3h_agg{}_{}.png\".format(country_code,agg_level,year))"
   ]
  },
  {
   "cell_type": "code",
   "execution_count": 11,
   "id": "d4f8c79c-e976-4f40-8351-d3d94aa21522",
   "metadata": {},
   "outputs": [
    {
     "data": {
      "image/png": "[encoded data removed]",
      "text/plain": [
       "<Figure size 432x288 with 1 Axes>"
      ]
     },
     "metadata": {
      "needs_background": "light"
     },
     "output_type": "display_data"
    }
   ],
   "source": [
    "fig, ax = plt.subplots( )\n",
    "n_bins = 50\n",
    "ax.hist(average_popDensity_gdf[['no_of_points']].values, bins=n_bins, color=mcolors.CSS4_COLORS['lightsteelblue'])\n",
    "ax.set_xlabel('Average number of points ({} {}, Geohash {})'.format(country_name,year,agg_level)) \n",
    "ax.set_ylabel('Frequency') \n",
    "plt.savefig(\"../outputs/{}_avg_points_3h_agg{}_{}.png\".format(country_code,agg_level,year))"
   ]
  },
  {
   "cell_type": "markdown",
   "id": "c0a490fe-b5cd-4eff-9064-4f90c1795129",
   "metadata": {},
   "source": [
    "## Timeseries"
   ]
  },
  {
   "cell_type": "code",
   "execution_count": 12,
   "id": "171650ca-1e1c-47a6-b6b5-54c3ba1e82b1",
   "metadata": {},
   "outputs": [
    {
     "ename": "NameError",
     "evalue": "name 'big_df' is not defined",
     "output_type": "error",
     "traceback": [
      "\u001b[0;31m---------------------------------------------------------------------------\u001b[0m",
      "\u001b[0;31mNameError\u001b[0m                                 Traceback (most recent call last)",
      "\u001b[0;32m/var/folders/yg/xbhg1r_x2c1f2gy33r4lmy0w0000gn/T/ipykernel_31789/3355502180.py\u001b[0m in \u001b[0;36m<module>\u001b[0;34m\u001b[0m\n\u001b[0;32m----> 1\u001b[0;31m \u001b[0mgrp_big_df_agg3\u001b[0m \u001b[0;34m=\u001b[0m \u001b[0mbig_df\u001b[0m\u001b[0;34m[\u001b[0m\u001b[0;34m[\u001b[0m\u001b[0;34m\"local_time\"\u001b[0m\u001b[0;34m,\u001b[0m\u001b[0;34m\"no_of_unique_users\"\u001b[0m\u001b[0;34m,\u001b[0m\u001b[0;34m\"no_of_points\"\u001b[0m\u001b[0;34m]\u001b[0m\u001b[0;34m]\u001b[0m\u001b[0;34m.\u001b[0m\u001b[0mgroupby\u001b[0m\u001b[0;34m(\u001b[0m\u001b[0;34m'local_time'\u001b[0m\u001b[0;34m)\u001b[0m\u001b[0;34m\u001b[0m\u001b[0;34m\u001b[0m\u001b[0m\n\u001b[0m\u001b[1;32m      2\u001b[0m \u001b[0maverage_popDensity\u001b[0m \u001b[0;34m=\u001b[0m \u001b[0mgrp_big_df_agg3\u001b[0m\u001b[0;34m.\u001b[0m\u001b[0msum\u001b[0m\u001b[0;34m(\u001b[0m\u001b[0;34m)\u001b[0m\u001b[0;34m.\u001b[0m\u001b[0mreset_index\u001b[0m\u001b[0;34m(\u001b[0m\u001b[0;34m)\u001b[0m\u001b[0;34m\u001b[0m\u001b[0;34m\u001b[0m\u001b[0m\n\u001b[1;32m      3\u001b[0m \u001b[0maverage_popDensity\u001b[0m\u001b[0;34m[\u001b[0m\u001b[0;34m'no_of_unique_users'\u001b[0m\u001b[0;34m]\u001b[0m \u001b[0;34m=\u001b[0m \u001b[0maverage_popDensity\u001b[0m\u001b[0;34m[\u001b[0m\u001b[0;34m'no_of_unique_users'\u001b[0m\u001b[0;34m]\u001b[0m\u001b[0;34m.\u001b[0m\u001b[0mastype\u001b[0m\u001b[0;34m(\u001b[0m\u001b[0mint\u001b[0m\u001b[0;34m)\u001b[0m\u001b[0;34m\u001b[0m\u001b[0;34m\u001b[0m\u001b[0m\n\u001b[1;32m      4\u001b[0m \u001b[0maverage_popDensity\u001b[0m\u001b[0;34m[\u001b[0m\u001b[0;34m'no_of_points'\u001b[0m\u001b[0;34m]\u001b[0m \u001b[0;34m=\u001b[0m \u001b[0maverage_popDensity\u001b[0m\u001b[0;34m[\u001b[0m\u001b[0;34m'no_of_points'\u001b[0m\u001b[0;34m]\u001b[0m\u001b[0;34m.\u001b[0m\u001b[0mastype\u001b[0m\u001b[0;34m(\u001b[0m\u001b[0mint\u001b[0m\u001b[0;34m)\u001b[0m\u001b[0;34m\u001b[0m\u001b[0;34m\u001b[0m\u001b[0m\n\u001b[1;32m      5\u001b[0m \u001b[0maverage_popDensity\u001b[0m\u001b[0;34m[\u001b[0m\u001b[0;34m'time'\u001b[0m\u001b[0;34m]\u001b[0m \u001b[0;34m=\u001b[0m \u001b[0mpd\u001b[0m\u001b[0;34m.\u001b[0m\u001b[0mto_datetime\u001b[0m\u001b[0;34m(\u001b[0m\u001b[0maverage_popDensity\u001b[0m\u001b[0;34m[\u001b[0m\u001b[0;34m'local_time'\u001b[0m\u001b[0;34m]\u001b[0m\u001b[0;34m.\u001b[0m\u001b[0mstr\u001b[0m\u001b[0;34m.\u001b[0m\u001b[0mslice\u001b[0m\u001b[0;34m(\u001b[0m\u001b[0;36m0\u001b[0m\u001b[0;34m,\u001b[0m\u001b[0;36m18\u001b[0m\u001b[0;34m)\u001b[0m\u001b[0;34m)\u001b[0m\u001b[0;34m\u001b[0m\u001b[0;34m\u001b[0m\u001b[0m\n",
      "\u001b[0;31mNameError\u001b[0m: name 'big_df' is not defined"
     ]
    }
   ],
   "source": [
    "grp_big_df_agg3 = big_df[[\"local_time\",\"no_of_unique_users\",\"no_of_points\"]].groupby('local_time')\n",
    "average_popDensity = grp_big_df_agg3.sum().reset_index()\n",
    "average_popDensity['no_of_unique_users'] = average_popDensity['no_of_unique_users'].astype(int)\n",
    "average_popDensity['no_of_points'] = average_popDensity['no_of_points'].astype(int)\n",
    "average_popDensity['time'] = pd.to_datetime(average_popDensity['local_time'].str.slice(0,18))\n",
    "average_popDensity = average_popDensity.drop('local_time', axis=1)\n",
    "average_popDensity = average_popDensity.set_index('time')\n",
    "average_popDensity.head()"
   ]
  },
  {
   "cell_type": "code",
   "execution_count": null,
   "id": "18b0fc08-7122-4bbf-ab80-7dd9fe49eb8c",
   "metadata": {},
   "outputs": [],
   "source": [
    "fig, ax = plt.subplots( )\n",
    "ax.plot(average_popDensity.index,average_popDensity[['no_of_unique_users']].values,  color=mcolors.CSS4_COLORS['lightsteelblue'])\n",
    "\n",
    "ax.set_ylabel('Number of unique devices'.format(country_name,year,agg_level)) \n",
    "\n",
    "ax.set_xlabel('Time') \n",
    "plt.savefig(\"../outputs/{}_devices_over_time_3h_agg{}_{}.png\".format(country_code,agg_level,year))"
   ]
  },
  {
   "cell_type": "code",
   "execution_count": null,
   "id": "5ef11994-9cad-4f9b-8579-05da780f5f0c",
   "metadata": {},
   "outputs": [],
   "source": [
    "fig, ax = plt.subplots( )\n",
    "ax.plot(average_popDensity.index,average_popDensity[['no_of_points']].values,  color=mcolors.CSS4_COLORS['lightsteelblue'])\n",
    "\n",
    "ax.set_ylabel('Number of points'.format(country_name,year,agg_level)) \n",
    "\n",
    "ax.set_xlabel('Time') \n",
    "plt.savefig(\"../outputs/{}_points_over_time_3h_agg{}_{}.png\".format(country_code,agg_level,year))"
   ]
  },
  {
   "cell_type": "markdown",
   "id": "b9e0f0a7-73ee-477f-a231-f92223cb44f5",
   "metadata": {},
   "source": [
    "## Maps"
   ]
  },
  {
   "cell_type": "code",
   "execution_count": null,
   "id": "4b064dea-2811-41ff-97d3-3defb69fec9d",
   "metadata": {},
   "outputs": [],
   "source": [
    "ax = average_popDensity_gdf.plot(color=\"red\",edgecolor=\"black\",markersize=50,figsize=(15, 15))\n",
    "cx.add_basemap(ax, crs=average_popDensity_gdf.crs.to_string(), source=cx.providers.OpenStreetMap.Mapnik)\n",
    "ax.set_xlabel('Longitude') \n",
    "ax.set_ylabel('Latitude') \n",
    "\n",
    "\n",
    "average_popDensity_gdf.plot(\n",
    "    ax=ax,\n",
    "    cmap='viridis_r',\n",
    "    column=\"no_of_unique_users\",\n",
    "    legend=True,\n",
    "    legend_kwds={\"label\": \"Number of average unique devices\", \"orientation\": \"horizontal\"},\n",
    "    \n",
    ")\n",
    "#plt.subplots_adjust(bottom=0.5)\n",
    "text = AnchoredText('Average number of unique devices in {} {} for 3 hours interval using Geohash {}'.format(country_name,year,agg_level),loc=1, prop={'size': 10}, frameon=True)\n",
    "ax.add_artist(text)\n",
    "\n",
    "\n",
    "\n",
    "plt.savefig(\"../outputs/map_{}_avg_devices_3h_agg{}_{}.png\".format(country_code,year,agg_level),bbox_inches='tight',dpi=300)"
   ]
  },
  {
   "cell_type": "code",
   "execution_count": null,
   "id": "89da1344-8529-49b3-97a1-ab44373aed50",
   "metadata": {},
   "outputs": [],
   "source": [
    "ax = average_popDensity_gdf.plot(color=\"red\",edgecolor=\"black\",markersize=50,figsize=(15, 15))\n",
    "cx.add_basemap(ax, crs=average_popDensity_gdf.crs.to_string(), source=cx.providers.OpenStreetMap.Mapnik)\n",
    "ax.set_xlabel('Longitude') \n",
    "ax.set_ylabel('Latitude') \n",
    "\n",
    "\n",
    "average_popDensity_gdf.plot(\n",
    "    ax=ax,\n",
    "    cmap='viridis_r',\n",
    "    column=\"no_of_points\",\n",
    "    legend=True,\n",
    "    legend_kwds={\"label\": \"Average number of points\", \"orientation\": \"horizontal\"},\n",
    "    \n",
    ")\n",
    "#plt.subplots_adjust(bottom=0.5)\n",
    "text = AnchoredText('Average number of points in {} {} for 3 hours interval using Geohash {}'.format(country_name,year,agg_level),loc=1, prop={'size': 10}, frameon=True)\n",
    "ax.add_artist(text)\n",
    "\n",
    "plt.savefig(\"../outputs/map_{}_avg_points_3h_agg{}_{}.png\".format(country_code,year,agg_level),bbox_inches='tight',dpi=300)\n"
   ]
  },
  {
   "cell_type": "code",
   "execution_count": null,
   "id": "29a83293-068c-4215-a889-247b1c8295da",
   "metadata": {},
   "outputs": [],
   "source": []
  }
 ],
 "metadata": {
  "kernelspec": {
   "display_name": "graphwork",
   "language": "python",
   "name": "graphwork"
  },
  "language_info": {
   "codemirror_mode": {
    "name": "ipython",
    "version": 3
   },
   "file_extension": ".py",
   "mimetype": "text/x-python",
   "name": "python",
   "nbconvert_exporter": "python",
   "pygments_lexer": "ipython3",
   "version": "3.9.6"
  }
 },
 "nbformat": 4,
 "nbformat_minor": 5
}
