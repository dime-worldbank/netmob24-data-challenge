{
 "cells": [
  {
   "cell_type": "markdown",
   "id": "09a07a3b-2771-4fbd-9596-0549ed3a0ada",
   "metadata": {},
   "source": [
    "Combine Pop density per country, worked for CO\n",
    "pd_co_2020_agg3:   \n",
    "missing data: 20200104, 20200130, 20200429, 20200612\n",
    "\n",
    "Should be working for MX, ID, IN"
   ]
  },
  {
   "cell_type": "code",
   "execution_count": 1,
   "id": "cbd7a717-f4be-46e8-8a86-202004a600b5",
   "metadata": {
    "tags": []
   },
   "outputs": [],
   "source": [
    "import os\n",
    "import time\n",
    "import logging\n",
    "import datetime\n",
    "import pandas as pd\n",
    "from trino.dbapi import connect \n",
    "from sqlalchemy import create_engine\n",
    "from datetime import timedelta\n",
    "# Configure logging\n",
    "logging.basicConfig(level=logging.INFO, format='%(asctime)s - %(levelname)s - %(message)s')"
   ]
  },
  {
   "cell_type": "code",
   "execution_count": 2,
   "id": "b39e5b63-1e2f-454c-8b53-2356eb1bd97c",
   "metadata": {},
   "outputs": [],
   "source": [
    "%reload_ext sql\n",
    "%config SqlMagic.autocommit=False\n",
    "%config SqlMagic.autolimit=0\n",
    "%config SqlMagic.autopandas=True\n",
    "%config SqlMagic.displaylimit=200"
   ]
  },
  {
   "cell_type": "code",
   "execution_count": 3,
   "id": "a99877bc-dc65-49dc-a700-3a9326e2db4d",
   "metadata": {},
   "outputs": [
    {
     "data": {
      "text/plain": [
       "'Connected: @cuebiq/'"
      ]
     },
     "execution_count": 3,
     "metadata": {},
     "output_type": "execute_result"
    }
   ],
   "source": [
    "%sql trino://localhost:9090/cuebiq/"
   ]
  },
  {
   "cell_type": "code",
   "execution_count": 5,
   "id": "9f5059cb-c4f5-4e0b-a8d2-44e15abf8b6c",
   "metadata": {},
   "outputs": [],
   "source": [
    "class TrinoEngine():\n",
    "    def __init__(self):\n",
    "        conn = connect(\n",
    "            host=\"localhost\",\n",
    "            port=9090,\n",
    "            catalog=\"cuebiq\"\n",
    "        )\n",
    "        self.cur = conn.cursor()\n",
    "        self.engine = create_engine(\"trino://localhost:9090/cuebiq/\")\n",
    "    \n",
    "    def execute_statement(self, query:str) -> list:\n",
    "        \"\"\"\n",
    "        Create and drop statements.\n",
    "        \"\"\"\n",
    "        self.cur.execute(query)\n",
    "        return self.cur.fetchall()\n",
    "    \n",
    "    def read_sql(self, query:str) -> pd.DataFrame: \n",
    "        \"\"\"\n",
    "        Select and insert into operations.\n",
    "        \"\"\"\n",
    "        return pd.read_sql(query, self.engine)\n",
    "\n",
    "sql_engine = TrinoEngine()"
   ]
  },
  {
   "cell_type": "code",
   "execution_count": 17,
   "id": "33695ea0-c039-4b0b-871e-213cb6c18215",
   "metadata": {
    "scrolled": true,
    "tags": []
   },
   "outputs": [
    {
     "data": {
      "text/plain": [
       "1"
      ]
     },
     "execution_count": 17,
     "metadata": {},
     "output_type": "execute_result"
    }
   ],
   "source": [
    "# Define the country\n",
    "country_abbreviation = \"CO\".lower()  \n",
    "\n",
    "# Define the date range\n",
    "start_date = datetime.date(2020, 6, 12)\n",
    "end_date = datetime.date(2020, 6, 12)\n",
    "\n",
    "# Generate the list of dates\n",
    "date_list = [(start_date + datetime.timedelta(days=x)).strftime('%Y%m%d') \n",
    "             for x in range((end_date - start_date).days + 1)]\n",
    "\n",
    "# print(date_list)\n",
    "len(date_list)"
   ]
  },
  {
   "cell_type": "code",
   "execution_count": 18,
   "id": "4a0d10f2-a743-49f0-9f12-31aab162333c",
   "metadata": {},
   "outputs": [
    {
     "name": "stderr",
     "output_type": "stream",
     "text": [
      "2024-06-24 15:47:26,385 - INFO - Creating master table: pd_co_2020_agg3\n"
     ]
    }
   ],
   "source": [
    "# Create master table\n",
    "output_catalog = 'dedicated'\n",
    "output_schema_name = \"pop_density20\"\n",
    "master_table = f\"pd_{country_abbreviation}_2020_agg3\"\n",
    "con = create_engine(f\"trino://localhost:9090/dedicated/{output_schema_name}\")\n",
    "\n",
    "# Create the master table in the presence_data schema\n",
    "create_table_query = f\"\"\"\n",
    "CREATE TABLE IF NOT EXISTS {master_table}(\n",
    "    geohash_3 varchar,\n",
    "    no_of_points bigint,\n",
    "    no_of_unique_users bigint,\n",
    "    local_date varchar\n",
    ")\n",
    "WITH (\n",
    "    format = 'TEXTFILE'\n",
    ")\n",
    "\"\"\"\n",
    "\n",
    "with con.connect() as connection:\n",
    "    logging.info(f\"Creating master table: {master_table}\")\n",
    "    connection.execute(create_table_query)"
   ]
  },
  {
   "cell_type": "code",
   "execution_count": 19,
   "id": "1fdcebbe-4aea-4e48-b179-92c5a269a3f8",
   "metadata": {
    "scrolled": true,
    "tags": []
   },
   "outputs": [
    {
     "name": "stderr",
     "output_type": "stream",
     "text": [
      "2024-06-24 15:47:26,878 - INFO - Processing data for date: 20200612\n",
      "2024-06-24 15:47:28,396 - INFO - Successfully inserted data for date: 20200612\n",
      "2024-06-24 15:47:28,397 - INFO - Data combined and inserted successfully.\n"
     ]
    }
   ],
   "source": [
    "# Loop through each date and insert the data into the master table\n",
    "for date in date_list:\n",
    "    logging.info(f\"Processing data for date: {date}\")\n",
    "    query = f\"\"\"\n",
    "    INSERT INTO {output_catalog}.{output_schema_name}.{master_table} (geohash_3, no_of_points, no_of_unique_users, local_date)\n",
    "        SELECT *\n",
    "        FROM {output_catalog}.{output_schema_name}.pd_{country_abbreviation}_{date}_agg3\n",
    "    \"\"\"\n",
    "    \n",
    "    try:\n",
    "        sql_engine.read_sql(query)\n",
    "        logging.info(f\"Successfully inserted data for date: {date}\")\n",
    "    except Exception as e:\n",
    "        logging.error(f\"Error inserting data for date: {date} - {e}\")\n",
    "\n",
    "logging.info(\"Data combined and inserted successfully.\")"
   ]
  },
  {
   "cell_type": "code",
   "execution_count": null,
   "id": "156c3582-7cbf-4097-9275-20cfc80b0e65",
   "metadata": {},
   "outputs": [],
   "source": []
  },
  {
   "cell_type": "code",
   "execution_count": null,
   "id": "18fddb95-00b4-484f-8ef0-a3a1a77221a4",
   "metadata": {},
   "outputs": [],
   "source": []
  },
  {
   "cell_type": "code",
   "execution_count": null,
   "id": "128509f6-a6f2-4d90-9624-b559deb91c15",
   "metadata": {},
   "outputs": [],
   "source": []
  },
  {
   "cell_type": "code",
   "execution_count": null,
   "id": "bf996a95-5eb0-4d24-91a9-8dc747cb9f4a",
   "metadata": {},
   "outputs": [],
   "source": []
  },
  {
   "cell_type": "code",
   "execution_count": null,
   "id": "4d1a93c4-73e1-4d54-af47-44f7d45bc8a1",
   "metadata": {},
   "outputs": [],
   "source": []
  },
  {
   "cell_type": "code",
   "execution_count": null,
   "id": "f5b0cba9-9414-4964-bbe7-0f1c1bd92b93",
   "metadata": {},
   "outputs": [],
   "source": []
  },
  {
   "cell_type": "code",
   "execution_count": null,
   "id": "8f9078bb-b22d-4077-ab5c-a51fdc0deeef",
   "metadata": {},
   "outputs": [],
   "source": []
  },
  {
   "cell_type": "code",
   "execution_count": null,
   "id": "fe68393d-fe38-4b6c-a7ad-d5e006eead67",
   "metadata": {},
   "outputs": [],
   "source": []
  },
  {
   "cell_type": "code",
   "execution_count": null,
   "id": "9f2d6797-eef7-457b-bc1a-9118c26b471c",
   "metadata": {},
   "outputs": [],
   "source": []
  },
  {
   "cell_type": "code",
   "execution_count": null,
   "id": "6156fbad-fe0e-49e0-a1cd-9fb208ac23cf",
   "metadata": {},
   "outputs": [],
   "source": []
  }
 ],
 "metadata": {
  "kernelspec": {
   "display_name": "Python 3 (ipykernel)",
   "language": "python",
   "name": "python3"
  },
  "language_info": {
   "codemirror_mode": {
    "name": "ipython",
    "version": 3
   },
   "file_extension": ".py",
   "mimetype": "text/x-python",
   "name": "python",
   "nbconvert_exporter": "python",
   "pygments_lexer": "ipython3",
   "version": "3.9.15"
  }
 },
 "nbformat": 4,
 "nbformat_minor": 5
}
