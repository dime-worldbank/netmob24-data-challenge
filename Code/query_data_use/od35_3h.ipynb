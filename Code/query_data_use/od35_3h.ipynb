{
 "cells": [
  {
   "cell_type": "code",
   "execution_count": null,
   "id": "2ac80492-7321-4716-9eb6-480a39e423fa",
   "metadata": {},
   "outputs": [],
   "source": [
    "%reload_ext sql\n",
    "%config SqlMagic.autocommit=False\n",
    "%config SqlMagic.autolimit=0\n",
    "%config SqlMagic.autopandas=True\n",
    "%config SqlMagic.displaylimit=200"
   ]
  },
  {
   "cell_type": "code",
   "execution_count": null,
   "id": "32854b4e-a8fc-4f2c-af6d-0a2703447897",
   "metadata": {},
   "outputs": [],
   "source": [
    "%sql trino://localhost:9090/cuebiq/"
   ]
  },
  {
   "cell_type": "code",
   "execution_count": null,
   "id": "6a9ead77-7643-4b96-833e-1727f453930f",
   "metadata": {},
   "outputs": [],
   "source": [
    "# import geohash\n",
    "import os\n",
    "import logging\n",
    "import numpy as np\n",
    "import pandas as pd\n",
    "import matplotlib.pyplot as plt\n",
    "from sqlalchemy import create_engine\n",
    "from datetime import datetime, timedelta"
   ]
  },
  {
   "cell_type": "code",
   "execution_count": null,
   "id": "c0bd797a-04e3-4191-9761-96e660fd396d",
   "metadata": {},
   "outputs": [],
   "source": [
    "# SQL engine\n",
    "from trino.dbapi import connect \n",
    "from sqlalchemy import create_engine\n",
    "import pandas as pd\n",
    "import time\n",
    "\n",
    "class TrinoEngine():\n",
    "    def __init__(self):\n",
    "        conn = connect(\n",
    "            host=\"localhost\",\n",
    "            port=9090,\n",
    "            catalog=\"cuebiq\"\n",
    "        )\n",
    "        self.cur = conn.cursor()\n",
    "        self.engine = create_engine(\"trino://localhost:9090/cuebiq/\")\n",
    "    \n",
    "    def execute_statement(self, query:str) -> list:\n",
    "        \"\"\"\n",
    "        Create and drop statements.\n",
    "        \"\"\"\n",
    "        self.cur.execute(query)\n",
    "        return self.cur.fetchall()\n",
    "    \n",
    "    def read_sql(self, query:str) -> pd.DataFrame: \n",
    "        \"\"\"\n",
    "        Select and insert into operations.\n",
    "        \"\"\"\n",
    "        return pd.read_sql(query, self.engine)\n",
    "\n",
    "sql_engine = TrinoEngine()"
   ]
  },
  {
   "cell_type": "code",
   "execution_count": null,
   "id": "d583b13b-220f-4219-be2f-439cf2c1c8cf",
   "metadata": {},
   "outputs": [],
   "source": [
    "schema_name = {'cda': 'cuebiq.paas_cda_pe_v3'}\n",
    "pe_tj_table = f\"{schema_name['cda']}.trajectory_uplevelled\""
   ]
  },
  {
   "cell_type": "code",
   "execution_count": null,
   "id": "21f56262-6bce-45d7-8ce8-5c1b8e423558",
   "metadata": {},
   "outputs": [],
   "source": [
    "# Set up logging\n",
    "logging.basicConfig(level=logging.INFO, format='%(asctime)s - %(levelname)s - %(message)s')"
   ]
  },
  {
   "cell_type": "code",
   "execution_count": null,
   "id": "a381d9a3-5bbd-4e6f-afa4-20820383c421",
   "metadata": {},
   "outputs": [],
   "source": [
    "# for GH5\n",
    "def fetch_and_save_aggregated_data(start_date, end_date, country_code, output_csv):\n",
    "    \"\"\"\n",
    "    Fetches aggregated trajectory data from the SQL database and saves the output to a CSV file.\n",
    "\n",
    "    Parameters:\n",
    "    - start_date (int): The start date for filtering data (e.g., 20200701).\n",
    "    - end_date (int): The end date for filtering data (e.g., 20201231).\n",
    "    - country_code (str): The country code to filter the data (e.g., 'CO').\n",
    "    - output_csv (str): The file path where the CSV should be saved.\n",
    "    \"\"\"\n",
    "\n",
    "    query = f\"\"\"\n",
    "    SELECT \n",
    "        local_date,\n",
    "        start_geohash5,\n",
    "        end_geohash5,\n",
    "        grt,\n",
    "        COUNT(cuebiq_id) AS trip_count,\n",
    "        ROUND(AVG(duration_minutes), 6) AS m_duration_min,\n",
    "        ROUND(APPROX_PERCENTILE(duration_minutes, 0.5), 6) AS mdn_duration_min,\n",
    "        ROUND(STDDEV(duration_minutes), 6) AS sd_duration_min,\n",
    "        ROUND(AVG(length_meters), 6) AS m_length_m,\n",
    "        ROUND(APPROX_PERCENTILE(length_meters, 0.5), 6) AS mdn_length_m,\n",
    "        ROUND(STDDEV(length_meters), 6) AS sd_length_m,\n",
    "        ROUND(AVG(number_of_points), 6) AS m_points_no,\n",
    "        ROUND(APPROX_PERCENTILE(number_of_points, 0.5), 6) AS mdn_points_no,\n",
    "        ROUND(STDDEV(number_of_points), 6) AS sd_points_no\n",
    "    FROM (\n",
    "        SELECT \n",
    "            cuebiq_id,\n",
    "            geohash_encode(start_lat, start_lng, 5) AS start_geohash5,\n",
    "            geohash_encode(end_lat, end_lng, 5) AS end_geohash5,\n",
    "            DATE(TRY(date_parse(substr(start_zoned_datetime, 1, 19), '%Y-%m-%dT%H:%i:%s'))) AS local_date,\n",
    "            extract(HOUR FROM date_parse(substr(start_zoned_datetime, 1, 19), '%Y-%m-%dT%H:%i:%s'))/3  grt,\n",
    "            duration_minutes,\n",
    "            length_meters,\n",
    "            number_of_points\n",
    "        FROM cuebiq.paas_cda_pe_v3.trajectory_uplevelled\n",
    "        WHERE \n",
    "            event_date BETWEEN {start_date} AND {end_date}\n",
    "            AND end_country = '{country_code}' \n",
    "            AND start_country = '{country_code}'\n",
    "    ) AS subquery\n",
    "    GROUP BY \n",
    "        start_geohash5, end_geohash5, local_date, grt\n",
    "    \"\"\"\n",
    "\n",
    "    # Execute the SQL query and read the result into a DataFrame\n",
    "    df = sql_engine.read_sql(query)\n",
    "\n",
    "    # Save the DataFrame to a CSV file\n",
    "    df.to_csv(output_csv, index=False)\n",
    "\n",
    "    print(f\"Data successfully saved to {output_csv}\")\n"
   ]
  },
  {
   "cell_type": "code",
   "execution_count": null,
   "id": "d707f2c0-c256-4136-ae6d-f986892d6cd2",
   "metadata": {},
   "outputs": [],
   "source": [
    "# for GH3\n",
    "def fetch_and_save_aggregated3_data(start_date, end_date, country_code, output_csv):\n",
    "    \"\"\"\n",
    "    Fetches aggregated trajectory data from the SQL database and saves the output to a CSV file.\n",
    "\n",
    "    Parameters:\n",
    "    - start_date (int): The start date for filtering data (e.g., 20200701).\n",
    "    - end_date (int): The end date for filtering data (e.g., 20201231).\n",
    "    - country_code (str): The country code to filter the data (e.g., 'CO').\n",
    "    - output_csv (str): The file path where the CSV should be saved.\n",
    "    \"\"\"\n",
    "\n",
    "    query = f\"\"\"\n",
    "    SELECT \n",
    "        local_date,\n",
    "        start_geohash3,\n",
    "        end_geohash3,\n",
    "        grt,\n",
    "        COUNT(cuebiq_id) AS trip_count,\n",
    "        ROUND(AVG(duration_minutes), 6) AS m_duration_min,\n",
    "        ROUND(APPROX_PERCENTILE(duration_minutes, 0.5), 6) AS mdn_duration_min,\n",
    "        ROUND(STDDEV(duration_minutes), 6) AS sd_duration_min,\n",
    "        ROUND(AVG(length_meters), 6) AS m_length_m,\n",
    "        ROUND(APPROX_PERCENTILE(length_meters, 0.5), 6) AS mdn_length_m,\n",
    "        ROUND(STDDEV(length_meters), 6) AS sd_length_m,\n",
    "        ROUND(AVG(number_of_points), 6) AS m_points_no,\n",
    "        ROUND(APPROX_PERCENTILE(number_of_points, 0.5), 6) AS mdn_points_no,\n",
    "        ROUND(STDDEV(number_of_points), 6) AS sd_points_no\n",
    "    FROM (\n",
    "        SELECT \n",
    "            cuebiq_id,\n",
    "            geohash_encode(start_lat, start_lng, 3) AS start_geohash3,\n",
    "            geohash_encode(end_lat, end_lng, 3) AS end_geohash3,\n",
    "            DATE(TRY(date_parse(substr(start_zoned_datetime, 1, 19), '%Y-%m-%dT%H:%i:%s'))) AS local_date,\n",
    "            extract(HOUR FROM date_parse(substr(start_zoned_datetime, 1, 19), '%Y-%m-%dT%H:%i:%s'))/3  grt,\n",
    "            duration_minutes,\n",
    "            length_meters,\n",
    "            number_of_points\n",
    "        FROM cuebiq.paas_cda_pe_v3.trajectory_uplevelled\n",
    "        WHERE \n",
    "            event_date BETWEEN {start_date} AND {end_date}\n",
    "            AND end_country = '{country_code}' \n",
    "            AND start_country = '{country_code}'\n",
    "    ) AS subquery\n",
    "    GROUP BY \n",
    "        start_geohash3, end_geohash3, local_date, grt\n",
    "    \"\"\"\n",
    "\n",
    "    # Execute the SQL query and read the result into a DataFrame\n",
    "    df = sql_engine.read_sql(query)\n",
    "\n",
    "    # Save the DataFrame to a CSV file\n",
    "    df.to_csv(output_csv, index=False)\n",
    "\n",
    "    print(f\"Data successfully saved to {output_csv}\")\n"
   ]
  },
  {
   "cell_type": "code",
   "execution_count": null,
   "id": "95df04d1-d122-4769-8105-4987320a6d43",
   "metadata": {},
   "outputs": [],
   "source": [
    "fetch_and_save_aggregated_data(20200101, 20200131, 'IN', \n",
    "                               '/home/jovyan/Data/2020OD/del_3h/od_in_agg5_3h_1.csv')"
   ]
  },
  {
   "cell_type": "code",
   "execution_count": null,
   "id": "adc1680f-1c4d-4592-a7e9-3c20ed1c199f",
   "metadata": {},
   "outputs": [],
   "source": [
    "fetch_and_save_aggregated_data(20200201, 20200229, 'IN', \n",
    "                               '/home/jovyan/Data/2020OD/del_3h/od_in_agg5_3h_2.csv')"
   ]
  },
  {
   "cell_type": "code",
   "execution_count": null,
   "id": "3f66f545-3965-480f-bdb4-23966218d4bf",
   "metadata": {},
   "outputs": [],
   "source": [
    "fetch_and_save_aggregated_data(20200301, 20200331, 'IN', \n",
    "                               '/home/jovyan/Data/2020OD/del_3h/od_in_agg5_3h_3.csv')"
   ]
  },
  {
   "cell_type": "code",
   "execution_count": null,
   "id": "5fdbb048-a3e1-4893-a369-1b49e345be54",
   "metadata": {},
   "outputs": [],
   "source": [
    "fetch_and_save_aggregated_data(20200401, 20200430, 'IN', \n",
    "                               '/home/jovyan/Data/2020OD/del_3h/od_in_agg5_3h_4.csv')"
   ]
  },
  {
   "cell_type": "code",
   "execution_count": null,
   "id": "89681ddd-9588-40b1-9151-c35e570b7f94",
   "metadata": {},
   "outputs": [],
   "source": [
    "fetch_and_save_aggregated_data(20200501, 20200531, 'IN', \n",
    "                               '/home/jovyan/Data/2020OD/del_3h/od_in_agg5_3h_5.csv')"
   ]
  },
  {
   "cell_type": "code",
   "execution_count": null,
   "id": "a80839a2-ec51-498c-a28d-c29f6503b208",
   "metadata": {},
   "outputs": [],
   "source": [
    "fetch_and_save_aggregated_data(20200601, 20200630, 'IN', \n",
    "                               '/home/jovyan/Data/2020OD/del_3h/od_in_agg5_3h_6.csv')"
   ]
  },
  {
   "cell_type": "code",
   "execution_count": null,
   "id": "0c2cfe26-a30b-4b26-8431-733eeef73e25",
   "metadata": {},
   "outputs": [],
   "source": [
    "fetch_and_save_aggregated_data(20200701, 20200731, 'IN', \n",
    "                               '/home/jovyan/Data/2020OD/del_3h/od_in_agg5_3h_7.csv')"
   ]
  },
  {
   "cell_type": "code",
   "execution_count": null,
   "id": "cb6ab1b8-b5c9-44e7-9585-dcf26d45243b",
   "metadata": {},
   "outputs": [],
   "source": [
    "fetch_and_save_aggregated_data(20200801, 20200831, 'IN', \n",
    "                               '/home/jovyan/Data/2020OD/del_3h/od_in_agg5_3h_8.csv')"
   ]
  },
  {
   "cell_type": "code",
   "execution_count": null,
   "id": "2bc7e32a-ee7f-423c-9894-9b0866b574b7",
   "metadata": {},
   "outputs": [],
   "source": [
    "fetch_and_save_aggregated_data(20200901, 20200930, 'IN', \n",
    "                               '/home/jovyan/Data/2020OD/del_3h/od_in_agg5_3h_9.csv')"
   ]
  },
  {
   "cell_type": "code",
   "execution_count": null,
   "id": "11c98b0d-75ca-457d-b8f0-92801cda5e61",
   "metadata": {},
   "outputs": [],
   "source": [
    "fetch_and_save_aggregated_data(20201001, 20201031, 'IN', \n",
    "                               '/home/jovyan/Data/2020OD/del_3h/od_in_agg5_3h_10.csv')"
   ]
  },
  {
   "cell_type": "code",
   "execution_count": null,
   "id": "c7dc8882-92b3-4ed5-9058-f9d428bfb634",
   "metadata": {},
   "outputs": [],
   "source": [
    "fetch_and_save_aggregated_data(20201101, 20201130, 'IN', \n",
    "                               '/home/jovyan/Data/2020OD/del_3h/od_in_agg5_3h_11.csv')"
   ]
  },
  {
   "cell_type": "code",
   "execution_count": null,
   "id": "70df8fa0-0926-4973-a845-bb6b616398ad",
   "metadata": {},
   "outputs": [],
   "source": [
    "fetch_and_save_aggregated_data(20201201, 20201231, 'IN', \n",
    "                               '/home/jovyan/Data/2020OD/del_3h/od_in_agg5_3h_12.csv')"
   ]
  },
  {
   "cell_type": "code",
   "execution_count": null,
   "id": "0336310c-7c39-44c6-b435-4f6731f38edc",
   "metadata": {},
   "outputs": [],
   "source": []
  },
  {
   "cell_type": "code",
   "execution_count": null,
   "id": "ebcdcef6-14e6-49ef-a8f5-c263c27f5601",
   "metadata": {},
   "outputs": [],
   "source": [
    "fetch_and_save_aggregated3_data(20200831, 20200831, 'ID', \n",
    "                               '/home/jovyan/Data/2020OD/del_3h/od3_id_3h_8.csv')"
   ]
  },
  {
   "cell_type": "code",
   "execution_count": null,
   "id": "f688627a-4429-4d5f-90e1-fe973fb71d33",
   "metadata": {},
   "outputs": [],
   "source": []
  },
  {
   "cell_type": "code",
   "execution_count": null,
   "id": "cbfe5bf0-c4e3-4762-8313-da13575c36d2",
   "metadata": {},
   "outputs": [],
   "source": [
    "fetch_and_save_aggregated_data(20190831, 20190831, 'IN', \n",
    "                               '/home/jovyan/Data/2020OD/del_3h/od5_in_3h_19831.csv')"
   ]
  },
  {
   "cell_type": "code",
   "execution_count": null,
   "id": "be124112-b40a-4874-bfcc-d916200cb6a9",
   "metadata": {},
   "outputs": [],
   "source": []
  },
  {
   "cell_type": "code",
   "execution_count": null,
   "id": "d2345d83-c091-43a8-b4a0-6d7f0fc9fd78",
   "metadata": {},
   "outputs": [],
   "source": []
  },
  {
   "cell_type": "code",
   "execution_count": null,
   "id": "237c122f-d523-433e-8874-1e6a8e1d78da",
   "metadata": {},
   "outputs": [],
   "source": []
  },
  {
   "cell_type": "code",
   "execution_count": null,
   "id": "d94cd01e-9800-4ddd-b27e-b709025d5593",
   "metadata": {},
   "outputs": [],
   "source": []
  },
  {
   "cell_type": "code",
   "execution_count": null,
   "id": "d4071fb6-44ef-4693-b867-2d41aae93c3f",
   "metadata": {},
   "outputs": [],
   "source": []
  },
  {
   "cell_type": "code",
   "execution_count": null,
   "id": "1706f1ca-a719-4626-ad84-474a7390e2c3",
   "metadata": {},
   "outputs": [],
   "source": []
  },
  {
   "cell_type": "code",
   "execution_count": null,
   "id": "0e15b608-7cc4-47cd-ace4-d39e65aee551",
   "metadata": {},
   "outputs": [],
   "source": []
  },
  {
   "cell_type": "code",
   "execution_count": null,
   "id": "08e304e8-e2a7-49cc-9218-8d3ca5c3f8e7",
   "metadata": {
    "scrolled": true,
    "tags": []
   },
   "outputs": [],
   "source": [
    "od2 = '/home/jovyan/Data/2020OD/del_3h/od5_in_3h_19831.csv'\n",
    "df_od2 = pd.read_csv(od2)\n",
    "df_od2"
   ]
  },
  {
   "cell_type": "code",
   "execution_count": null,
   "id": "05070f33-60be-43bc-8966-24eadb8e2c0e",
   "metadata": {
    "scrolled": true,
    "tags": []
   },
   "outputs": [],
   "source": [
    "od8 = '/home/jovyan/Data/2020OD/del_3h/od5_id_3h_8.csv'\n",
    "df_od8 = pd.read_csv(od8)\n",
    "df_od8"
   ]
  },
  {
   "cell_type": "code",
   "execution_count": null,
   "id": "6ea484ac-e109-4831-a5d8-66a7b4436d29",
   "metadata": {
    "scrolled": true,
    "tags": []
   },
   "outputs": [],
   "source": [
    "final_df = pd.concat([df_od2, df_od8], ignore_index=True)\n",
    "# final_df = df_od2\n",
    "final_df"
   ]
  },
  {
   "cell_type": "code",
   "execution_count": null,
   "id": "6def7643-26f0-436a-ba6c-2fc94243e956",
   "metadata": {
    "scrolled": true,
    "tags": []
   },
   "outputs": [],
   "source": [
    "final_df['local_date'] = pd.to_datetime(final_df['local_date']).dt.strftime('%Y%m%d')\n",
    "time_intervals = {\n",
    "    0: \"00:00:00 - 03:00:00\", 1: \"03:00:00 - 06:00:00\",\n",
    "    2: \"06:00:00 - 09:00:00\", 3: \"09:00:00 - 12:00:00\",\n",
    "    4: \"12:00:00 - 15:00:00\", 5: \"15:00:00 - 18:00:00\",\n",
    "    6: \"18:00:00 - 21:00:00\", 7: \"21:00:00 - 24:00:00\"}\n",
    "final_df['local_time'] = final_df.apply(lambda row: f\"{row['local_date']} {time_intervals[row['grt']]}\", axis=1).astype(str)\n",
    "final_df = final_df.drop(['grt'], axis=1)\n",
    "\n",
    "final_df"
   ]
  },
  {
   "cell_type": "code",
   "execution_count": null,
   "id": "70e8922f-db89-4b46-b7d8-6582e14636d2",
   "metadata": {},
   "outputs": [],
   "source": [
    "final_df.to_csv('/home/jovyan/Data/2020OD/del_3h/od5_in_3h_19831.csv', index=False)"
   ]
  },
  {
   "cell_type": "code",
   "execution_count": null,
   "id": "da87c483-0e48-4d0d-a089-e4e86922f395",
   "metadata": {},
   "outputs": [],
   "source": []
  },
  {
   "cell_type": "code",
   "execution_count": null,
   "id": "8fbeaceb-625e-4d73-ae44-db16d83f6152",
   "metadata": {},
   "outputs": [],
   "source": []
  },
  {
   "cell_type": "code",
   "execution_count": null,
   "id": "e4b7afb5-1417-4c98-b8ac-1025970098de",
   "metadata": {},
   "outputs": [],
   "source": []
  },
  {
   "cell_type": "code",
   "execution_count": null,
   "id": "08695ed8-78bb-46a9-92f8-4552ebe8531d",
   "metadata": {},
   "outputs": [],
   "source": []
  },
  {
   "cell_type": "code",
   "execution_count": null,
   "id": "ded04322-a32f-4fba-9a04-6db7c12108c0",
   "metadata": {},
   "outputs": [],
   "source": []
  },
  {
   "cell_type": "code",
   "execution_count": null,
   "id": "80b834dd-f8a4-43d9-baac-28c0fe180819",
   "metadata": {
    "scrolled": true,
    "tags": []
   },
   "outputs": [],
   "source": [
    "pd_file = '/home/jovyan/Data/2020OD/del_3h/od_mx_agg5_3h.csv'\n",
    "df_od = pd.read_csv(pd_file)\n",
    "df_od"
   ]
  },
  {
   "cell_type": "code",
   "execution_count": null,
   "id": "aebb1f58-c0cd-481f-8a09-5455a78f60ec",
   "metadata": {
    "scrolled": true,
    "tags": []
   },
   "outputs": [],
   "source": [
    "df_od[df_od['local_date'] == 20200229]['trip_count'].sum()"
   ]
  },
  {
   "cell_type": "code",
   "execution_count": null,
   "id": "81e9e8f5-a20d-4e46-b62b-1b030ff2df98",
   "metadata": {},
   "outputs": [],
   "source": [
    "df_od[df_od['local_date'] == 20200228]['trip_count'].sum()"
   ]
  },
  {
   "cell_type": "code",
   "execution_count": null,
   "id": "9a90676c-4f2f-4fab-a425-1f68ece6d2f5",
   "metadata": {},
   "outputs": [],
   "source": []
  },
  {
   "cell_type": "code",
   "execution_count": null,
   "id": "80611995-7a90-49f3-9dd1-409fb8a80f76",
   "metadata": {},
   "outputs": [],
   "source": [
    "# pip install seaborn\n",
    "import pandas as pd\n",
    "import matplotlib.pyplot as plt\n",
    "import seaborn as sns\n",
    "\n",
    "# Assuming df_od is your DataFrame\n",
    "# Convert 'local_date' to datetime format\n",
    "df_od['local_date'] = pd.to_datetime(df_od['local_date'], format='%Y%m%d')\n",
    "\n",
    "# Group by 'local_date' and sum the 'trip_count'\n",
    "df_daily = df_od.groupby('local_date')['trip_count'].sum().reset_index()\n",
    "\n",
    "# Initialize the plot\n",
    "plt.figure(figsize=(14, 8))\n",
    "plt.rcParams.update({'font.size': 16})  # Increase the default font size\n",
    "\n",
    "# Plotting with seaborn\n",
    "sns.lineplot(data=df_daily, x='local_date', y='trip_count')\n",
    "\n",
    "# Customize the x-axis to show every month\n",
    "plt.gca().xaxis.set_major_locator(plt.matplotlib.dates.MonthLocator())\n",
    "plt.gca().xaxis.set_major_formatter(plt.matplotlib.dates.DateFormatter('%Y-%m'))\n",
    "\n",
    "# Adding labels and title\n",
    "plt.xlabel('Local Date')\n",
    "plt.ylabel('Trip Count')\n",
    "plt.title('Trip Count per Day')\n",
    "plt.xticks(rotation=45)\n",
    "plt.grid(True)\n",
    "\n",
    "# Show the plot\n",
    "plt.show()\n"
   ]
  },
  {
   "cell_type": "code",
   "execution_count": null,
   "id": "5125dba8-8c4b-49ae-8d11-3fea913878cd",
   "metadata": {},
   "outputs": [],
   "source": []
  },
  {
   "cell_type": "code",
   "execution_count": null,
   "id": "12e7f21e-286e-4679-9eb4-2d12a785809a",
   "metadata": {},
   "outputs": [],
   "source": []
  },
  {
   "cell_type": "code",
   "execution_count": null,
   "id": "74ada579-8e78-47cc-87ee-cb30350ed2f5",
   "metadata": {},
   "outputs": [],
   "source": []
  },
  {
   "cell_type": "markdown",
   "id": "d2f98c38-4362-4763-92fe-cc30373bba4e",
   "metadata": {},
   "source": [
    "# Check and Processing"
   ]
  },
  {
   "cell_type": "code",
   "execution_count": null,
   "id": "a0902349-e047-4031-a199-72a102d880e5",
   "metadata": {
    "scrolled": true,
    "tags": []
   },
   "outputs": [],
   "source": [
    "folder_path = '/home/jovyan/Data/2020OD/del_3h/IN'\n",
    "\n",
    "file_list = [f for f in os.listdir(folder_path) if os.path.isfile(os.path.join(folder_path, f))]\n",
    "df_list = []\n",
    "\n",
    "# Loop through the list of files and read each file into a DataFrame\n",
    "for file_name in file_list:\n",
    "    file_path = os.path.join(folder_path, file_name)\n",
    "    df = pd.read_csv(file_path) \n",
    "    df_list.append(df)\n",
    "\n",
    "# Concatenate all DataFrames into a single DataFrame\n",
    "combined_df = pd.concat(df_list, ignore_index=True)\n",
    "combined_df"
   ]
  },
  {
   "cell_type": "code",
   "execution_count": null,
   "id": "8ba55cff-8f61-4f5e-a96c-a2b84d9d7c21",
   "metadata": {
    "scrolled": true,
    "tags": []
   },
   "outputs": [],
   "source": [
    "combined_df['local_date'] = pd.to_datetime(combined_df['local_date']).dt.strftime('%Y%m%d')\n",
    "# combined_df['trip_count'].sum()\n",
    "combined_df"
   ]
  },
  {
   "cell_type": "code",
   "execution_count": null,
   "id": "ef3e9ab3-b1ef-4884-b783-487c2df88104",
   "metadata": {
    "scrolled": true,
    "tags": []
   },
   "outputs": [],
   "source": [
    "time_intervals = {\n",
    "    0: \"00:00:00 - 03:00:00\", 1: \"03:00:00 - 06:00:00\",\n",
    "    2: \"06:00:00 - 09:00:00\", 3: \"09:00:00 - 12:00:00\",\n",
    "    4: \"12:00:00 - 15:00:00\", 5: \"15:00:00 - 18:00:00\",\n",
    "    6: \"18:00:00 - 21:00:00\", 7: \"21:00:00 - 24:00:00\"}\n",
    "combined_df['local_time'] = combined_df.apply(lambda row: f\"{row['local_date']} {time_intervals[row['grt']]}\", axis=1).astype(str)\n",
    "combined_df"
   ]
  },
  {
   "cell_type": "code",
   "execution_count": null,
   "id": "da608bd0-dbbd-4647-9cff-676c5bbec682",
   "metadata": {},
   "outputs": [],
   "source": []
  },
  {
   "cell_type": "code",
   "execution_count": null,
   "id": "fe0f505c-1019-4420-af9c-1472515cf7c7",
   "metadata": {},
   "outputs": [],
   "source": []
  },
  {
   "cell_type": "markdown",
   "id": "6b1442d0-c15f-452f-8c01-2a8a86bc9e1c",
   "metadata": {},
   "source": [
    "## Check duplicates"
   ]
  },
  {
   "cell_type": "code",
   "execution_count": null,
   "id": "18ce2a4f-28fd-4feb-9ea4-e3107372625c",
   "metadata": {
    "scrolled": true,
    "tags": []
   },
   "outputs": [],
   "source": [
    "# combined_df['start_geohash3'] = combined_df['start_geohash3'].astype(str)\n",
    "# combined_df['end_geohash3'] = combined_df['end_geohash3'].astype(str)\n",
    "\n",
    "combined_df['start_geohash5'] = combined_df['start_geohash5'].astype(str)\n",
    "combined_df['end_geohash5'] = combined_df['end_geohash5'].astype(str)\n",
    "\n",
    "combined_df['local_date'] = combined_df['local_date'].astype(int)\n",
    "combined_df['trip_count'] = combined_df['trip_count'].astype(int)\n",
    "combined_df['m_duration_min'] = combined_df['m_duration_min'].astype(float)\n",
    "combined_df['mdn_duration_min'] = combined_df['mdn_duration_min'].astype(float)\n",
    "combined_df['sd_duration_min'] = combined_df['sd_duration_min'].astype(float)\n",
    "combined_df['m_length_m'] = combined_df['m_length_m'].astype(float)\n",
    "combined_df['mdn_length_m'] = combined_df['mdn_length_m'].astype(float)\n",
    "combined_df['sd_length_m'] = combined_df['sd_length_m'].astype(float)\n",
    "combined_df['m_points_no'] = combined_df['m_points_no'].astype(float)\n",
    "combined_df['mdn_points_no'] = combined_df['mdn_points_no'].astype(float)\n",
    "combined_df['sd_points_no'] = combined_df['sd_points_no'].astype(float)\n",
    "combined_df['local_time'] = combined_df['local_time'].astype(str)\n",
    "\n",
    "# Round float columns to 6 decimal places\n",
    "float_columns = ['m_duration_min', 'mdn_duration_min', 'sd_duration_min',\n",
    "                 'm_length_m', 'mdn_length_m', 'sd_length_m',\n",
    "                 'm_points_no', 'mdn_points_no', 'sd_points_no']\n",
    "\n",
    "combined_df[float_columns] = combined_df[float_columns].round(6)\n",
    "combined_df = combined_df.drop_duplicates()\n",
    "combined_df = combined_df.sort_values('local_time').reset_index(drop = True)\n",
    "combined_df"
   ]
  },
  {
   "cell_type": "markdown",
   "id": "fec73612-8135-4f76-a743-cc482a549ce0",
   "metadata": {},
   "source": [
    "## Check missing dates"
   ]
  },
  {
   "cell_type": "code",
   "execution_count": null,
   "id": "8c600e56-0275-4211-9f62-a1b912d0e315",
   "metadata": {
    "scrolled": true,
    "tags": []
   },
   "outputs": [],
   "source": [
    "unique_values_count = combined_df[\"local_date\"].unique()\n",
    "all_dates = pd.date_range(start='2020-01-01', end='2020-12-31').strftime('%Y%m%d').astype(int)\n",
    "all_dates = np.array(all_dates)\n",
    "missing_dates = np.setdiff1d(all_dates, unique_values_count)\n",
    "\n",
    "missing_dates"
   ]
  },
  {
   "cell_type": "markdown",
   "id": "6feb2108-9a3d-4d74-a0d9-3b4f977876ea",
   "metadata": {},
   "source": [
    "## Check for hours per day (for 3h)"
   ]
  },
  {
   "cell_type": "code",
   "execution_count": null,
   "id": "014ac8e8-c083-4e1c-9dcb-909bf3fce30b",
   "metadata": {},
   "outputs": [],
   "source": [
    "# Convert local_date to datetime objects\n",
    "combined_df['local_date'] = pd.to_datetime(combined_df['local_date'], format='%Y%m%d')\n",
    "\n",
    "# Function to parse the local_time column and extract the start hour\n",
    "def parse_start_hour(time_str):\n",
    "    try:\n",
    "        start_time_str, _ = time_str.split(' - ')\n",
    "        start_time = datetime.strptime(start_time_str, '%Y%m%d %H:%M:%S')\n",
    "        return start_time.hour\n",
    "    except ValueError:\n",
    "        return None\n",
    "\n",
    "combined_df['start_hour'] = combined_df['local_time'].map(parse_start_hour)\n",
    "\n",
    "# Required hours to check\n",
    "required_hours = set([0, 3, 6, 9, 12, 15, 18, 21])\n",
    "\n",
    "# Group by local_date and check missing hours\n",
    "missing_hours = {}\n",
    "\n",
    "for date, group in combined_df.groupby('local_date'):\n",
    "    present_hours = set(group['start_hour'])\n",
    "    missing = required_hours - present_hours\n",
    "    if missing:\n",
    "        missing_hours[date] = sorted(list(missing))\n",
    "\n",
    "# Convert missing hours dictionary to DataFrame for better readability\n",
    "missing_hours_df = pd.DataFrame(list(missing_hours.items()), columns=['Date', 'Missing Hours'])\n",
    "\n",
    "# Display the missing hours\n",
    "print(\"Missing hours for each date:\")\n",
    "print(missing_hours_df)"
   ]
  },
  {
   "cell_type": "markdown",
   "id": "8dd0478b-b8d2-4f96-83e0-e7e12a38eaed",
   "metadata": {},
   "source": [
    "## Check with figure"
   ]
  },
  {
   "cell_type": "code",
   "execution_count": null,
   "id": "7fc413b9-229e-480e-81fb-2bc4f8b6417d",
   "metadata": {},
   "outputs": [],
   "source": [
    "daily_counts = combined_df['local_date'].value_counts().sort_index()\n",
    "\n",
    "# Generate custom xticks starting from the first date and then incrementing by 7 days\n",
    "start_date = daily_counts.index.min()\n",
    "end_date = daily_counts.index.max()\n",
    "custom_xticks = pd.date_range(start=start_date, end=end_date, freq='7D')\n",
    "\n",
    "# Plot the results\n",
    "plt.figure(figsize=(10, 6))\n",
    "daily_counts.plot(kind='bar')\n",
    "plt.title('Number of Rows for Each Day')\n",
    "plt.xlabel('Date')\n",
    "plt.ylabel('Number of Rows')\n",
    "plt.xticks(ticks=range(len(daily_counts)), labels=daily_counts.index.strftime('%Y-%m-%d'), rotation=90)\n",
    "plt.gca().set_xticks([i for i, date in enumerate(daily_counts.index) if date in custom_xticks])\n",
    "plt.tight_layout()\n",
    "plt.show()"
   ]
  },
  {
   "cell_type": "markdown",
   "id": "3ef83e7f-3547-4c89-83aa-82c3a5c4a367",
   "metadata": {},
   "source": [
    "## Export"
   ]
  },
  {
   "cell_type": "code",
   "execution_count": null,
   "id": "00750db4-f857-4815-b8cb-1cd07e78ff5a",
   "metadata": {
    "scrolled": true,
    "tags": []
   },
   "outputs": [],
   "source": [
    "combined_df"
   ]
  },
  {
   "cell_type": "code",
   "execution_count": null,
   "id": "6ee86b20-c904-4046-aab3-0e35e4965905",
   "metadata": {},
   "outputs": [],
   "source": [
    "combined_df = combined_df.drop(['start_hour'], axis=1)\n",
    "# combined_df = combined_df.drop(['grt'], axis=1)\n",
    "combined_df['local_date'] = combined_df['local_date'].dt.strftime('%Y%m%d').astype(int)\n",
    "combined_df = combined_df.sort_values('local_time').reset_index(drop=True)\n",
    "combined_df"
   ]
  },
  {
   "cell_type": "code",
   "execution_count": null,
   "id": "4439a698-5879-455d-83cd-25bc9ae7e7cb",
   "metadata": {},
   "outputs": [],
   "source": [
    "combined_df.to_csv('/home/jovyan/Data/2020OD/del_3h/IN/combined/od_3h_gh5_in_2020_all.csv', index=False)"
   ]
  },
  {
   "cell_type": "code",
   "execution_count": null,
   "id": "f646014b-b98e-45b2-ab07-1d27db9ca578",
   "metadata": {
    "scrolled": true,
    "tags": []
   },
   "outputs": [],
   "source": [
    "filterdf = combined_df[combined_df['trip_count'] > 9]\n",
    "filterdf"
   ]
  },
  {
   "cell_type": "code",
   "execution_count": null,
   "id": "3cd7a2de-19d3-445b-8178-9872adf35630",
   "metadata": {},
   "outputs": [],
   "source": [
    "filterdf.to_csv('/home/jovyan/Data/2020OD/del_3h/IN/combined/od_3h_gh5_in_2020.csv', index=False)"
   ]
  },
  {
   "cell_type": "code",
   "execution_count": null,
   "id": "0dadbc5b-113a-44ed-b90a-6171b6469096",
   "metadata": {},
   "outputs": [],
   "source": []
  },
  {
   "cell_type": "code",
   "execution_count": null,
   "id": "20513756-e049-48ef-b8ba-f3954669ea4a",
   "metadata": {},
   "outputs": [],
   "source": [
    "combined_f = '/home/jovyan/Data/2020OD/del_3h/IN/combined/od_3h_gh5_in_2020_all.csv'\n",
    "combined_df = pd.read_csv(combined_f)"
   ]
  },
  {
   "cell_type": "code",
   "execution_count": null,
   "id": "f661c7d9-6032-4943-be5e-9445aee0b683",
   "metadata": {},
   "outputs": [],
   "source": []
  }
 ],
 "metadata": {
  "kernelspec": {
   "display_name": "Python 3 (ipykernel)",
   "language": "python",
   "name": "python3"
  },
  "language_info": {
   "codemirror_mode": {
    "name": "ipython",
    "version": 3
   },
   "file_extension": ".py",
   "mimetype": "text/x-python",
   "name": "python",
   "nbconvert_exporter": "python",
   "pygments_lexer": "ipython3",
   "version": "3.10.17"
  }
 },
 "nbformat": 4,
 "nbformat_minor": 5
}
