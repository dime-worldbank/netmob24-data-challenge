{
 "cells": [
  {
   "cell_type": "code",
   "execution_count": null,
   "id": "9ab6877a-023c-45de-8134-d969b4db5ce3",
   "metadata": {},
   "outputs": [],
   "source": [
    "%reload_ext sql\n",
    "%config SqlMagic.autocommit = False\n",
    "%config SqlMagic.autolimit = 0\n",
    "%config SqlMagic.autopandas = True\n",
    "%config SqlMagic.displaylimit = 200"
   ]
  },
  {
   "cell_type": "code",
   "execution_count": null,
   "id": "cb6a1313-a576-4092-b6f5-af2b4bb80f10",
   "metadata": {},
   "outputs": [],
   "source": [
    "%sql trino://localhost:9090/cuebiq/"
   ]
  },
  {
   "cell_type": "code",
   "execution_count": null,
   "id": "a44763b1-5509-4822-a7a4-3a01fbc2915d",
   "metadata": {},
   "outputs": [],
   "source": [
    "import os\n",
    "import time\n",
    "import logging\n",
    "import pandas as pd\n",
    "import matplotlib.pyplot as plt\n",
    "from sqlalchemy import create_engine\n",
    "from datetime import datetime, timedelta"
   ]
  },
  {
   "cell_type": "code",
   "execution_count": null,
   "id": "9fb5b749-adaf-42b4-99ed-e986f8a70f11",
   "metadata": {},
   "outputs": [],
   "source": [
    "# SQL engine\n",
    "from trino.dbapi import connect \n",
    "from sqlalchemy import create_engine\n",
    "import pandas as pd\n",
    "import time\n",
    "\n",
    "class TrinoEngine():\n",
    "    def __init__(self):\n",
    "        conn = connect(\n",
    "            host=\"localhost\",\n",
    "            port=9090,\n",
    "            catalog=\"cuebiq\"\n",
    "        )\n",
    "        self.cur = conn.cursor()\n",
    "        self.engine = create_engine(\"trino://localhost:9090/cuebiq/\")\n",
    "    \n",
    "    def execute_statement(self, query:str) -> list:\n",
    "        \"\"\"\n",
    "        Create and drop statements.\n",
    "        \"\"\"\n",
    "        self.cur.execute(query)\n",
    "        return self.cur.fetchall()\n",
    "    \n",
    "    def read_sql(self, query:str) -> pd.DataFrame: \n",
    "        \"\"\"\n",
    "        Select and insert into operations.\n",
    "        \"\"\"\n",
    "        return pd.read_sql(query, self.engine)\n",
    "\n",
    "sql_engine = TrinoEngine()"
   ]
  },
  {
   "cell_type": "code",
   "execution_count": null,
   "id": "4ad9c92d-d67b-4673-878e-79ba0e047886",
   "metadata": {},
   "outputs": [],
   "source": [
    "schema_name = {'cda': 'cuebiq.paas_cda_pe_v3'}\n",
    "pe_tj_table = f\"{schema_name['cda']}.trajectory_uplevelled\""
   ]
  },
  {
   "cell_type": "code",
   "execution_count": null,
   "id": "6e3bf6e7-8aa2-4fe9-97f6-b7450d0bd85c",
   "metadata": {},
   "outputs": [],
   "source": [
    "# Set up logging\n",
    "logging.basicConfig(level=logging.INFO, format='%(asctime)s - %(levelname)s - %(message)s')"
   ]
  },
  {
   "cell_type": "markdown",
   "id": "2d943f24-a67e-4f1a-bea7-169e36f30ccd",
   "metadata": {
    "tags": []
   },
   "source": [
    "# H3 7"
   ]
  },
  {
   "cell_type": "code",
   "execution_count": null,
   "id": "8670960d-ebb9-4b1a-aa82-325f5413ffa4",
   "metadata": {},
   "outputs": [],
   "source": [
    "# country_code = 'CO'\n",
    "country_code = 'IN'\n",
    "\n",
    "pe_tj_df7 = sql_engine.read_sql(\n",
    "    f\"\"\"\n",
    "    SELECT \n",
    "        start_h3_7, \n",
    "        end_h3_7, \n",
    "        month_number,\n",
    "        COUNT(*) AS trip_count,\n",
    "        AVG(duration_minutes) AS m_duration_min,\n",
    "        STDDEV(duration_minutes) AS sd_duration_min,\n",
    "        approx_percentile(duration_minutes, 0.5) AS mdn_duration_min,\n",
    "        AVG(length_meters) AS m_length_m,\n",
    "        STDDEV(length_meters) AS sd_length_m,\n",
    "        approx_percentile(length_meters, 0.5) AS mdn_length_m,\n",
    "        AVG(number_of_points) AS m_points_no,\n",
    "        STDDEV(number_of_points) AS sd_points_no,\n",
    "        approx_percentile(number_of_points, 0.5) AS mdn_points_no\n",
    "    FROM \n",
    "    (\n",
    "        SELECT \n",
    "            cuebiq_id,\n",
    "            TRY(date_parse(substr(start_zoned_datetime, 1, 19), '%Y-%m-%dT%H:%i:%s')) AS event_datetime_local,\n",
    "            h3_encode(start_lat, start_lng, 7) AS start_h3_7, \n",
    "            h3_encode(end_lat, end_lng, 7) AS end_h3_7, \n",
    "            duration_minutes,\n",
    "            length_meters,\n",
    "            number_of_points, \n",
    "            MONTH(TRY(date_parse(substr(start_zoned_datetime, 1, 19), '%Y-%m-%dT%H:%i:%s'))) AS month_number\n",
    "        FROM cuebiq.paas_cda_pe_v3.trajectory_uplevelled\n",
    "        WHERE \n",
    "            event_date BETWEEN 20200101 AND 20200630\n",
    "            AND end_country = '{country_code}' \n",
    "            AND start_country = '{country_code}'\n",
    "            AND start_lat <> 0\n",
    "            AND end_lat <> 0\n",
    "    ) subquery\n",
    "    GROUP BY start_h3_7, end_h3_7, month_number\n",
    "    \"\"\"\n",
    ")\n",
    "\n",
    "pe_tj_df7.to_csv(f'/home/jovyan/Data/Month/od_{country_code.lower()}_2020_month1_h37.csv', index=False)"
   ]
  },
  {
   "cell_type": "code",
   "execution_count": null,
   "id": "ebd6f5dc-f31b-4c1d-b5d5-4094954a1543",
   "metadata": {},
   "outputs": [],
   "source": [
    "pe_tj_df7 = sql_engine.read_sql(\n",
    "    f\"\"\"\n",
    "    SELECT \n",
    "        start_h3_7, \n",
    "        end_h3_7, \n",
    "        month_number,\n",
    "        COUNT(*) AS trip_count,\n",
    "        AVG(duration_minutes) AS m_duration_min,\n",
    "        STDDEV(duration_minutes) AS sd_duration_min,\n",
    "        approx_percentile(duration_minutes, 0.5) AS mdn_duration_min,\n",
    "        AVG(length_meters) AS m_length_m,\n",
    "        STDDEV(length_meters) AS sd_length_m,\n",
    "        approx_percentile(length_meters, 0.5) AS mdn_length_m,\n",
    "        AVG(number_of_points) AS m_points_no,\n",
    "        STDDEV(number_of_points) AS sd_points_no,\n",
    "        approx_percentile(number_of_points, 0.5) AS mdn_points_no\n",
    "    FROM \n",
    "    (\n",
    "        SELECT \n",
    "            cuebiq_id,\n",
    "            TRY(date_parse(substr(start_zoned_datetime, 1, 19), '%Y-%m-%dT%H:%i:%s')) AS event_datetime_local,\n",
    "            h3_encode(start_lat, start_lng, 7) AS start_h3_7, \n",
    "            h3_encode(end_lat, end_lng, 7) AS end_h3_7, \n",
    "            duration_minutes,\n",
    "            length_meters,\n",
    "            number_of_points, \n",
    "            MONTH(TRY(date_parse(substr(start_zoned_datetime, 1, 19), '%Y-%m-%dT%H:%i:%s'))) AS month_number\n",
    "        FROM cuebiq.paas_cda_pe_v3.trajectory_uplevelled\n",
    "        WHERE \n",
    "            event_date BETWEEN 20200701 AND 20201231\n",
    "            AND end_country = '{country_code}' \n",
    "            AND start_country = '{country_code}'\n",
    "            AND start_lat <> 0\n",
    "            AND end_lat <> 0\n",
    "    ) subquery\n",
    "    GROUP BY start_h3_7, end_h3_7, month_number\n",
    "    \"\"\"\n",
    ")\n",
    "\n",
    "pe_tj_df7.to_csv(f'/home/jovyan/Data/Month/od_{country_code.lower()}_2020_month2_h37.csv', index=False)"
   ]
  },
  {
   "cell_type": "code",
   "execution_count": null,
   "id": "2f50f11a-7f67-4827-9deb-1612df86d3e3",
   "metadata": {},
   "outputs": [],
   "source": []
  },
  {
   "cell_type": "code",
   "execution_count": null,
   "id": "aae6868b-7889-4802-a83c-0a5dc71013fa",
   "metadata": {},
   "outputs": [],
   "source": [
    "country_code = 'MX'\n",
    "# country_code = 'ID'\n",
    "\n",
    "pe_tj_df7 = sql_engine.read_sql(\n",
    "    f\"\"\"\n",
    "    SELECT \n",
    "        start_h3_7, \n",
    "        end_h3_7, \n",
    "        month_number,\n",
    "        COUNT(*) AS trip_count,\n",
    "        AVG(duration_minutes) AS m_duration_min,\n",
    "        STDDEV(duration_minutes) AS sd_duration_min,\n",
    "        approx_percentile(duration_minutes, 0.5) AS mdn_duration_min,\n",
    "        AVG(length_meters) AS m_length_m,\n",
    "        STDDEV(length_meters) AS sd_length_m,\n",
    "        approx_percentile(length_meters, 0.5) AS mdn_length_m,\n",
    "        AVG(number_of_points) AS m_points_no,\n",
    "        STDDEV(number_of_points) AS sd_points_no,\n",
    "        approx_percentile(number_of_points, 0.5) AS mdn_points_no\n",
    "    FROM \n",
    "    (\n",
    "        SELECT \n",
    "            cuebiq_id,\n",
    "            TRY(date_parse(substr(start_zoned_datetime, 1, 19), '%Y-%m-%dT%H:%i:%s')) AS event_datetime_local,\n",
    "            h3_encode(start_lat, start_lng, 7) AS start_h3_7, \n",
    "            h3_encode(end_lat, end_lng, 7) AS end_h3_7, \n",
    "            duration_minutes,\n",
    "            length_meters,\n",
    "            number_of_points, \n",
    "            MONTH(TRY(date_parse(substr(start_zoned_datetime, 1, 19), '%Y-%m-%dT%H:%i:%s'))) AS month_number\n",
    "        FROM cuebiq.paas_cda_pe_v3.trajectory_uplevelled\n",
    "        WHERE \n",
    "            event_date BETWEEN 20200101 AND 20200630\n",
    "            AND end_country = '{country_code}' \n",
    "            AND start_country = '{country_code}'\n",
    "            AND start_lat <> 0\n",
    "            AND end_lat <> 0\n",
    "    ) subquery\n",
    "    GROUP BY start_h3_7, end_h3_7, month_number\n",
    "    \"\"\"\n",
    ")\n",
    "\n",
    "pe_tj_df7.to_csv(f'/home/jovyan/Data/Month/od_{country_code.lower()}_2020_month1_h37.csv', index=False)"
   ]
  },
  {
   "cell_type": "code",
   "execution_count": null,
   "id": "cd674f8a-30b3-4caf-a43c-cbf75ce7ea29",
   "metadata": {},
   "outputs": [],
   "source": [
    "country_code = 'MX'\n",
    "\n",
    "pe_tj_df7 = sql_engine.read_sql(\n",
    "    f\"\"\"\n",
    "    SELECT \n",
    "        start_h3_7, \n",
    "        end_h3_7, \n",
    "        month_number,\n",
    "        COUNT(*) AS trip_count,\n",
    "        AVG(duration_minutes) AS m_duration_min,\n",
    "        STDDEV(duration_minutes) AS sd_duration_min,\n",
    "        approx_percentile(duration_minutes, 0.5) AS mdn_duration_min,\n",
    "        AVG(length_meters) AS m_length_m,\n",
    "        STDDEV(length_meters) AS sd_length_m,\n",
    "        approx_percentile(length_meters, 0.5) AS mdn_length_m,\n",
    "        AVG(number_of_points) AS m_points_no,\n",
    "        STDDEV(number_of_points) AS sd_points_no,\n",
    "        approx_percentile(number_of_points, 0.5) AS mdn_points_no\n",
    "    FROM \n",
    "    (\n",
    "        SELECT \n",
    "            cuebiq_id,\n",
    "            TRY(date_parse(substr(start_zoned_datetime, 1, 19), '%Y-%m-%dT%H:%i:%s')) AS event_datetime_local,\n",
    "            h3_encode(start_lat, start_lng, 7) AS start_h3_7, \n",
    "            h3_encode(end_lat, end_lng, 7) AS end_h3_7, \n",
    "            duration_minutes,\n",
    "            length_meters,\n",
    "            number_of_points, \n",
    "            MONTH(TRY(date_parse(substr(start_zoned_datetime, 1, 19), '%Y-%m-%dT%H:%i:%s'))) AS month_number\n",
    "        FROM cuebiq.paas_cda_pe_v3.trajectory_uplevelled\n",
    "        WHERE \n",
    "            event_date BETWEEN 20200701 AND 20201231\n",
    "            AND end_country = '{country_code}' \n",
    "            AND start_country = '{country_code}'\n",
    "            AND start_lat <> 0\n",
    "            AND end_lat <> 0\n",
    "    ) subquery\n",
    "    GROUP BY start_h3_7, end_h3_7, month_number\n",
    "    \"\"\"\n",
    ")\n",
    "\n",
    "pe_tj_df7.to_csv(f'/home/jovyan/Data/Month/od_{country_code.lower()}_2020_month2_h37.csv', index=False)"
   ]
  },
  {
   "cell_type": "code",
   "execution_count": null,
   "id": "e5ee5544-3e25-47e5-a811-b99db6d88e2e",
   "metadata": {
    "scrolled": true,
    "tags": []
   },
   "outputs": [],
   "source": [
    "country_code = 'MX'\n",
    "\n",
    "pe_tj_df7 = sql_engine.read_sql(\n",
    "    f\"\"\"\n",
    "    SELECT \n",
    "        start_h3_7, \n",
    "        end_h3_7, \n",
    "        month_number,\n",
    "        COUNT(*) AS trip_count,\n",
    "        AVG(duration_minutes) AS m_duration_min,\n",
    "        STDDEV(duration_minutes) AS sd_duration_min,\n",
    "        approx_percentile(duration_minutes, 0.5) AS mdn_duration_min,\n",
    "        AVG(length_meters) AS m_length_m,\n",
    "        STDDEV(length_meters) AS sd_length_m,\n",
    "        approx_percentile(length_meters, 0.5) AS mdn_length_m,\n",
    "        AVG(number_of_points) AS m_points_no,\n",
    "        STDDEV(number_of_points) AS sd_points_no,\n",
    "        approx_percentile(number_of_points, 0.5) AS mdn_points_no\n",
    "    FROM \n",
    "    (\n",
    "        SELECT \n",
    "            cuebiq_id,\n",
    "            TRY(date_parse(substr(start_zoned_datetime, 1, 19), '%Y-%m-%dT%H:%i:%s')) AS event_datetime_local,\n",
    "            h3_encode(start_lat, start_lng, 7) AS start_h3_7, \n",
    "            h3_encode(end_lat, end_lng, 7) AS end_h3_7, \n",
    "            duration_minutes,\n",
    "            length_meters,\n",
    "            number_of_points, \n",
    "            MONTH(TRY(date_parse(substr(start_zoned_datetime, 1, 19), '%Y-%m-%dT%H:%i:%s'))) AS month_number\n",
    "        FROM cuebiq.paas_cda_pe_v3.trajectory_uplevelled\n",
    "        WHERE \n",
    "            event_date BETWEEN 20190701 AND 20191231\n",
    "            AND end_country = '{country_code}' \n",
    "            AND start_country = '{country_code}'\n",
    "            AND start_lat <> 0\n",
    "            AND end_lat <> 0\n",
    "    ) subquery\n",
    "    GROUP BY start_h3_7, end_h3_7, month_number\n",
    "    \"\"\"\n",
    ")\n",
    "\n",
    "pe_tj_df7.to_csv(f'/home/jovyan/Data/Month/od_{country_code.lower()}_2019_month2_h37.csv', index=False)"
   ]
  },
  {
   "cell_type": "code",
   "execution_count": null,
   "id": "cf1e5263-9ca6-4512-8e1a-94b0f2d405da",
   "metadata": {},
   "outputs": [],
   "source": []
  },
  {
   "cell_type": "code",
   "execution_count": null,
   "id": "d809e5dd-6b2c-4642-b5dd-83bf3de099f3",
   "metadata": {},
   "outputs": [],
   "source": []
  },
  {
   "cell_type": "markdown",
   "id": "ab2b392d-20a2-47f7-943d-aa9fb75c8853",
   "metadata": {},
   "source": [
    "# GH5"
   ]
  },
  {
   "cell_type": "code",
   "execution_count": null,
   "id": "f59cb768-1dfb-4907-b71a-6747992d92c9",
   "metadata": {},
   "outputs": [],
   "source": [
    "def export_weekly_data(country_code):\n",
    "    \"\"\"\n",
    "    Export montly aggregated data for a specific country and save it as a CSV file.\n",
    "\n",
    "    Parameters:\n",
    "    - country_code (str): The country code (e.g., 'IN', 'CO', 'MX', etc.)\n",
    "    \"\"\"\n",
    "\n",
    "    # SQL query to read the data\n",
    "    pe_tj_df7 = sql_engine.read_sql(\n",
    "        f\"\"\"\n",
    "        SELECT \n",
    "            start_geohash5, \n",
    "            end_geohash5, \n",
    "            month_number,\n",
    "            COUNT(*) AS trip_count,\n",
    "            AVG(duration_minutes) AS m_duration_min,\n",
    "            STDDEV(duration_minutes) AS sd_duration_min,\n",
    "            approx_percentile(duration_minutes, 0.5) AS mdn_duration_min,\n",
    "            AVG(length_meters) AS m_length_m,\n",
    "            STDDEV(length_meters) AS sd_length_m,\n",
    "            approx_percentile(length_meters, 0.5) AS mdn_length_m,\n",
    "            AVG(number_of_points) AS m_points_no,\n",
    "            STDDEV(number_of_points) AS sd_points_no,\n",
    "            approx_percentile(number_of_points, 0.5) AS mdn_points_no\n",
    "        FROM \n",
    "        (\n",
    "            SELECT \n",
    "                cuebiq_id,\n",
    "                TRY(date_parse(substr(start_zoned_datetime, 1, 19), '%Y-%m-%dT%H:%i:%s')) AS event_datetime_local,\n",
    "                geohash_encode(start_lat, start_lng, 5) AS start_geohash5, \n",
    "                geohash_encode(end_lat, end_lng, 5) AS end_geohash5, \n",
    "                duration_minutes,\n",
    "                length_meters,\n",
    "                number_of_points, \n",
    "                MONTH(TRY(date_parse(substr(start_zoned_datetime, 1, 19), '%Y-%m-%dT%H:%i:%s'))) AS month_number\n",
    "            FROM cuebiq.paas_cda_pe_v3.trajectory_uplevelled\n",
    "            WHERE \n",
    "                event_date BETWEEN 20200101 AND 20201231\n",
    "                AND end_country = '{country_code}' \n",
    "                AND start_country = '{country_code}'\n",
    "                AND start_lat <> 0\n",
    "                AND end_lat <> 0\n",
    "        ) subquery\n",
    "        GROUP BY start_geohash5, end_geohash5, month_number\n",
    "        \"\"\"\n",
    "    )\n",
    "\n",
    "    # Define the file path using the country code\n",
    "    file_path = f'/home/jovyan/Data/Month/od_{country_code.lower()}_2020_month_gh5.csv'\n",
    "\n",
    "    # Save the data to a CSV file\n",
    "    pe_tj_df7.to_csv(file_path, index=False)\n",
    "    print(f\"Data for {country_code} saved to {file_path}\")\n"
   ]
  },
  {
   "cell_type": "code",
   "execution_count": null,
   "id": "feae8ed6-08cf-493d-9545-60ebc939ebab",
   "metadata": {},
   "outputs": [],
   "source": [
    "# Example usage:\n",
    "export_weekly_data('CO') "
   ]
  },
  {
   "cell_type": "code",
   "execution_count": null,
   "id": "ca405e07-daf5-4ff9-af09-538b8afdab0c",
   "metadata": {},
   "outputs": [],
   "source": [
    "export_weekly_data('ID') "
   ]
  },
  {
   "cell_type": "code",
   "execution_count": null,
   "id": "e8d08826-0112-4b78-b659-1912346fdfa3",
   "metadata": {},
   "outputs": [],
   "source": [
    "export_weekly_data('IN') "
   ]
  },
  {
   "cell_type": "code",
   "execution_count": null,
   "id": "be27efe1-3904-47d8-8870-a42a71f303ef",
   "metadata": {},
   "outputs": [],
   "source": [
    "export_weekly_data('MX') "
   ]
  },
  {
   "cell_type": "markdown",
   "id": "6dc49577-9bad-4f84-9774-6dd607397c5a",
   "metadata": {},
   "source": [
    "# Check"
   ]
  },
  {
   "cell_type": "markdown",
   "id": "75671b1e-3c79-4443-935b-7a5512593c54",
   "metadata": {
    "tags": []
   },
   "source": [
    "## H37"
   ]
  },
  {
   "cell_type": "code",
   "execution_count": null,
   "id": "246a5d68-23ff-46ef-9546-d5ba368fe57c",
   "metadata": {},
   "outputs": [],
   "source": [
    "country_code = 'CO' \n",
    "# country_code = 'ID' \n",
    "# country_code = 'IN' \n",
    "# country_code = 'MX' "
   ]
  },
  {
   "cell_type": "code",
   "execution_count": null,
   "id": "1b893114-d75f-46e1-906c-e045f1cbb31c",
   "metadata": {
    "scrolled": true,
    "tags": []
   },
   "outputs": [],
   "source": [
    "# file1 = f'/home/jovyan/Data/Month/od_{country_code.lower()}_2019_month1_h37.csv'\n",
    "file1 = f'/home/jovyan/Data/Month/od_{country_code.lower()}_2020_month1_h37.csv'\n",
    "df1 = pd.read_csv(file1)\n",
    "df1"
   ]
  },
  {
   "cell_type": "code",
   "execution_count": null,
   "id": "6e6214ee-836f-4b90-bb96-462549600b14",
   "metadata": {},
   "outputs": [],
   "source": [
    "sorted(df1['month_number'].unique())"
   ]
  },
  {
   "cell_type": "code",
   "execution_count": null,
   "id": "bba11002-ba3c-46cc-90f6-d373656d7ffa",
   "metadata": {
    "scrolled": true,
    "tags": []
   },
   "outputs": [],
   "source": [
    "# file2 = f'/home/jovyan/Data/Month/od_{country_code.lower()}_2019_month2_h37.csv'\n",
    "file2 = f'/home/jovyan/Data/Month/od_{country_code.lower()}_2020_month2_h37.csv'\n",
    "df2 = pd.read_csv(file2)\n",
    "df2"
   ]
  },
  {
   "cell_type": "code",
   "execution_count": null,
   "id": "047071ae-6956-464e-97d0-a5f067533de9",
   "metadata": {},
   "outputs": [],
   "source": [
    "sorted(df2['month_number'].unique())"
   ]
  },
  {
   "cell_type": "code",
   "execution_count": null,
   "id": "d962ccf1-f440-4478-a00b-971b09ba5aae",
   "metadata": {
    "scrolled": true,
    "tags": []
   },
   "outputs": [],
   "source": [
    "# df2 = df2[df2['month_number'] != 1]\n",
    "# df2"
   ]
  },
  {
   "cell_type": "code",
   "execution_count": null,
   "id": "1b4d7d66-6fa0-43f8-8d0e-69a6ff7e340a",
   "metadata": {
    "scrolled": true,
    "tags": []
   },
   "outputs": [],
   "source": [
    "# combined_df = df1 # for co 2019\n",
    "combined_df = pd.concat([df1, df2], ignore_index=True)\n",
    "combined_df"
   ]
  },
  {
   "cell_type": "code",
   "execution_count": null,
   "id": "09d96fe1-6c32-464a-b018-5db3990f88e5",
   "metadata": {
    "scrolled": true,
    "tags": []
   },
   "outputs": [],
   "source": [
    "combined_df = combined_df.drop_duplicates()\n",
    "combined_df"
   ]
  },
  {
   "cell_type": "code",
   "execution_count": null,
   "id": "7bd5ef93-fdff-4098-8884-13f8a58baa99",
   "metadata": {
    "scrolled": true,
    "tags": []
   },
   "outputs": [],
   "source": [
    "# Plot (1): Number of rows per month\n",
    "rows_per_month = combined_df.groupby('month_number').size()\n",
    "plt.figure(figsize=(8, 6))\n",
    "rows_per_month.plot(kind='bar')\n",
    "plt.title('Number of Rows per Month')\n",
    "plt.xlabel('Month Number')\n",
    "plt.ylabel('Number of Rows')\n",
    "plt.show()"
   ]
  },
  {
   "cell_type": "code",
   "execution_count": null,
   "id": "d1ffe187-2e65-4493-b320-57979a011d83",
   "metadata": {
    "scrolled": true,
    "tags": []
   },
   "outputs": [],
   "source": [
    "# Plot (2): Number of trip_count per month\n",
    "trip_count_per_month = combined_df.groupby('month_number')['trip_count'].sum()\n",
    "plt.figure(figsize=(8, 6))\n",
    "trip_count_per_month.plot(kind='bar')\n",
    "plt.title('Number of Trip Counts per Month')\n",
    "plt.xlabel('Month Number')\n",
    "plt.ylabel('Trip Count')\n",
    "plt.show()"
   ]
  },
  {
   "cell_type": "code",
   "execution_count": null,
   "id": "01e0bce3-a17c-48d1-9056-f52723793d26",
   "metadata": {},
   "outputs": [],
   "source": [
    "combined_df.to_csv(f\"/home/jovyan/Data/Month/combined/od_month_h37_{country_code.lower()}_2020_all.csv\", index=False)\n",
    "# combined_df.to_csv(f\"/home/jovyan/Data/Month/combined/od_month_h37_{country_code.lower()}_2019_all.csv\", index=False)"
   ]
  },
  {
   "cell_type": "code",
   "execution_count": null,
   "id": "15f198de-515a-4b74-89d9-f4dac033fcd2",
   "metadata": {
    "scrolled": true,
    "tags": []
   },
   "outputs": [],
   "source": [
    "filtered = combined_df[combined_df['trip_count'] > 9]\n",
    "filtered"
   ]
  },
  {
   "cell_type": "code",
   "execution_count": null,
   "id": "30d037b3-54ed-4c0c-aa31-11b0c9d3c652",
   "metadata": {},
   "outputs": [],
   "source": [
    "filtered.to_csv(f\"/home/jovyan/Data/Month/cleaned/od_month_h37_{country_code.lower()}_2020.csv\", index=False)\n",
    "# filtered.to_csv(f\"/home/jovyan/Data/Month/cleaned/od_month_h37_{country_code.lower()}_2019.csv\", index=False)"
   ]
  },
  {
   "cell_type": "code",
   "execution_count": null,
   "id": "c3f390d7-9b32-4889-97b1-2c43b2a226f9",
   "metadata": {},
   "outputs": [],
   "source": []
  },
  {
   "cell_type": "markdown",
   "id": "ce016d64-eff2-4b0e-bd4f-285582b10081",
   "metadata": {
    "tags": []
   },
   "source": [
    "## GH5"
   ]
  },
  {
   "cell_type": "code",
   "execution_count": null,
   "id": "cc7fada8-89cd-4cef-b0ca-4828dca58102",
   "metadata": {},
   "outputs": [],
   "source": [
    "country_code = 'CO' \n",
    "# country_code = 'ID' \n",
    "# country_code = 'IN' \n",
    "# country_code = 'MX' "
   ]
  },
  {
   "cell_type": "code",
   "execution_count": null,
   "id": "5c13db3d-26d8-4dfe-9161-5b1004e5bd13",
   "metadata": {
    "scrolled": true,
    "tags": []
   },
   "outputs": [],
   "source": [
    "# file = f'/home/jovyan/Data/Month/od_{country_code.lower()}_2019_month.csv'\n",
    "file = f'/home/jovyan/Data/Month/od_{country_code.lower()}_2020_month_gh5.csv'\n",
    "df = pd.read_csv(file)\n",
    "df.rename(columns={'month': 'month_number'}, inplace=True)\n",
    "df"
   ]
  },
  {
   "cell_type": "code",
   "execution_count": null,
   "id": "8e5e8b2b-a283-429e-87d6-ca3396b79109",
   "metadata": {},
   "outputs": [],
   "source": [
    "sorted(df['month_number'].unique())"
   ]
  },
  {
   "cell_type": "code",
   "execution_count": null,
   "id": "012303da-5185-42a5-b626-cfe96caee039",
   "metadata": {
    "scrolled": true,
    "tags": []
   },
   "outputs": [],
   "source": [
    "df = df.drop_duplicates()\n",
    "df"
   ]
  },
  {
   "cell_type": "code",
   "execution_count": null,
   "id": "12e20c29-6bd6-4d9e-ae81-fdc2258b5825",
   "metadata": {},
   "outputs": [],
   "source": [
    "df.to_csv(f\"/home/jovyan/Data/Month/combined/od_month_gh5_{country_code.lower()}_2020_all.csv\", index=False)\n",
    "# df.to_csv(f\"/home/jovyan/Data/Month/combined/od_month_gh5_{country_code.lower()}_2019_all.csv\", index=False)"
   ]
  },
  {
   "cell_type": "code",
   "execution_count": null,
   "id": "bdf38ca8-aed0-4d16-b12b-d8f937a349ee",
   "metadata": {
    "scrolled": true,
    "tags": []
   },
   "outputs": [],
   "source": [
    "filtered = df[df['trip_count'] > 9]\n",
    "filtered"
   ]
  },
  {
   "cell_type": "code",
   "execution_count": null,
   "id": "5f402c41-19fb-4d5e-b624-9d87e1c2b27b",
   "metadata": {},
   "outputs": [],
   "source": [
    "filtered.to_csv(f\"/home/jovyan/Data/Month/cleaned/od_month_gh5_{country_code.lower()}_2020.csv\", index=False)\n",
    "# filtered.to_csv(f\"/home/jovyan/Data/Month/cleaned/od_month_gh5_{country_code.lower()}_2019.csv\", index=False)"
   ]
  },
  {
   "cell_type": "code",
   "execution_count": null,
   "id": "3c839331-d31c-4916-ac03-e35ec7df1913",
   "metadata": {},
   "outputs": [],
   "source": []
  },
  {
   "cell_type": "code",
   "execution_count": null,
   "id": "e4ae0a00-b049-438e-a9bf-0c0cfac922cd",
   "metadata": {},
   "outputs": [],
   "source": []
  },
  {
   "cell_type": "code",
   "execution_count": null,
   "id": "55c1b986-88cf-4232-a08f-9ea821d27702",
   "metadata": {},
   "outputs": [],
   "source": []
  },
  {
   "cell_type": "code",
   "execution_count": null,
   "id": "65262807-bd70-42ee-8ac8-67e181baad3d",
   "metadata": {},
   "outputs": [],
   "source": []
  },
  {
   "cell_type": "code",
   "execution_count": null,
   "id": "1954588a-5f74-4e4d-891c-2fcf6b181bdd",
   "metadata": {},
   "outputs": [],
   "source": []
  },
  {
   "cell_type": "code",
   "execution_count": null,
   "id": "7353d7f2-a694-429b-8923-20f5c2a33df2",
   "metadata": {},
   "outputs": [],
   "source": []
  },
  {
   "cell_type": "code",
   "execution_count": null,
   "id": "3cfcf8a4-90b5-40ec-8137-28ac00b124e6",
   "metadata": {},
   "outputs": [],
   "source": []
  }
 ],
 "metadata": {
  "kernelspec": {
   "display_name": "Python 3 (ipykernel)",
   "language": "python",
   "name": "python3"
  },
  "language_info": {
   "codemirror_mode": {
    "name": "ipython",
    "version": 3
   },
   "file_extension": ".py",
   "mimetype": "text/x-python",
   "name": "python",
   "nbconvert_exporter": "python",
   "pygments_lexer": "ipython3",
   "version": "3.10.17"
  }
 },
 "nbformat": 4,
 "nbformat_minor": 5
}
