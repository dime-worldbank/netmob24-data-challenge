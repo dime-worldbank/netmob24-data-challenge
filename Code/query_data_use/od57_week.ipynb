{
 "cells": [
  {
   "cell_type": "code",
   "execution_count": null,
   "id": "2d88368e-a4de-484e-8f5d-f7faa6adb1bf",
   "metadata": {},
   "outputs": [],
   "source": [
    "%reload_ext sql\n",
    "%config SqlMagic.autocommit=False\n",
    "%config SqlMagic.autolimit=0\n",
    "%config SqlMagic.autopandas=True\n",
    "%config SqlMagic.displaylimit=200"
   ]
  },
  {
   "cell_type": "code",
   "execution_count": null,
   "id": "dd02cada-b7c1-4fa1-af19-0978fc11d4f6",
   "metadata": {
    "scrolled": true,
    "tags": []
   },
   "outputs": [],
   "source": [
    "%sql trino://localhost:9090/cuebiq/"
   ]
  },
  {
   "cell_type": "code",
   "execution_count": null,
   "id": "c60a1abb-9b34-4f81-88dc-e2e99878816e",
   "metadata": {},
   "outputs": [],
   "source": [
    "import os\n",
    "import time\n",
    "# import geohash\n",
    "import logging\n",
    "import pandas as pd\n",
    "from datetime import datetime, timedelta\n",
    "from sqlalchemy import create_engine\n",
    "\n",
    "# pip install python-geohash"
   ]
  },
  {
   "cell_type": "code",
   "execution_count": null,
   "id": "f8ad7e2d-6671-4bc7-ab93-4543b0a6ca0e",
   "metadata": {},
   "outputs": [],
   "source": [
    "# SQL engine\n",
    "from trino.dbapi import connect \n",
    "from sqlalchemy import create_engine\n",
    "import pandas as pd\n",
    "import time\n",
    "\n",
    "class TrinoEngine():\n",
    "    def __init__(self):\n",
    "        conn = connect(\n",
    "            host=\"localhost\",\n",
    "            port=9090,\n",
    "            catalog=\"cuebiq\"\n",
    "        )\n",
    "        self.cur = conn.cursor()\n",
    "        self.engine = create_engine(\"trino://localhost:9090/cuebiq/\")\n",
    "    \n",
    "    def execute_statement(self, query:str) -> list:\n",
    "        \"\"\"\n",
    "        Create and drop statements.\n",
    "        \"\"\"\n",
    "        self.cur.execute(query)\n",
    "        return self.cur.fetchall()\n",
    "    \n",
    "    def read_sql(self, query:str) -> pd.DataFrame: \n",
    "        \"\"\"\n",
    "        Select and insert into operations.\n",
    "        \"\"\"\n",
    "        return pd.read_sql(query, self.engine)\n",
    "\n",
    "sql_engine = TrinoEngine()"
   ]
  },
  {
   "cell_type": "code",
   "execution_count": null,
   "id": "ea79bc8d-9c94-4c34-956d-07654cf62d2e",
   "metadata": {},
   "outputs": [],
   "source": [
    "schema_name = {'cda': 'cuebiq.paas_cda_pe_v3'}\n",
    "pe_tj_table = f\"{schema_name['cda']}.trajectory_uplevelled\""
   ]
  },
  {
   "cell_type": "code",
   "execution_count": null,
   "id": "e9af3566-f58b-4921-8d99-54f7e4822338",
   "metadata": {},
   "outputs": [],
   "source": [
    "# Set up logging\n",
    "logging.basicConfig(level=logging.INFO, format='%(asctime)s - %(levelname)s - %(message)s')"
   ]
  },
  {
   "cell_type": "code",
   "execution_count": null,
   "id": "363d69e9-f795-4003-83b0-2a31f7c9ea2e",
   "metadata": {},
   "outputs": [],
   "source": []
  },
  {
   "cell_type": "markdown",
   "id": "15e11028-6621-4900-aabb-734f4092926b",
   "metadata": {
    "tags": []
   },
   "source": [
    "# Weekly Aggregation"
   ]
  },
  {
   "cell_type": "markdown",
   "id": "3c4387fa-0a6f-4908-952c-fe1f1ee9af57",
   "metadata": {
    "tags": []
   },
   "source": [
    "## GH5"
   ]
  },
  {
   "cell_type": "code",
   "execution_count": null,
   "id": "de64aa72-361c-4f3e-9b76-d9c2ac80407f",
   "metadata": {},
   "outputs": [],
   "source": [
    "def extract_od_data(sql_engine, country_code, year):\n",
    "    query = f\"\"\"\n",
    "    SELECT \n",
    "        start_geohash5, \n",
    "        end_geohash5, \n",
    "        week_number,\n",
    "        COUNT(*) AS trip_count,\n",
    "        AVG(duration_minutes) AS m_duration_min,\n",
    "        STDDEV(duration_minutes) AS sd_duration_min,\n",
    "        approx_percentile(duration_minutes, 0.5) AS mdn_duration_min,\n",
    "        AVG(length_meters) AS m_length_m,\n",
    "        STDDEV(length_meters) AS sd_length_m,\n",
    "        approx_percentile(length_meters, 0.5) AS mdn_length_m,\n",
    "        AVG(number_of_points) AS m_points_no,\n",
    "        STDDEV(number_of_points) AS sd_points_no,\n",
    "        approx_percentile(number_of_points, 0.5) AS mdn_points_no\n",
    "    FROM \n",
    "    (\n",
    "        SELECT \n",
    "            cuebiq_id,\n",
    "            TRY(date_parse(substr(start_zoned_datetime, 1, 19), '%Y-%m-%dT%H:%i:%s')) AS event_datetime_local,\n",
    "            geohash_encode(start_lat, start_lng, 5) AS start_geohash5, \n",
    "            geohash_encode(end_lat, end_lng, 5) AS end_geohash5, \n",
    "            duration_minutes,\n",
    "            length_meters,\n",
    "            number_of_points, \n",
    "            WEEK(TRY(date_parse(substr(start_zoned_datetime, 1, 19), '%Y-%m-%dT%H:%i:%s'))) AS week_number\n",
    "        FROM cuebiq.paas_cda_pe_v3.trajectory_uplevelled\n",
    "        WHERE \n",
    "            event_date BETWEEN {year}0101 AND {year}1231\n",
    "            AND end_country = '{country_code}' \n",
    "            AND start_country = '{country_code}'\n",
    "            AND start_lat <> 0\n",
    "            AND end_lat <> 0\n",
    "    ) subquery\n",
    "    GROUP BY start_geohash5, end_geohash5, week_number\n",
    "    \"\"\"\n",
    "    \n",
    "    pe_tj_df7 = sql_engine.read_sql(query)\n",
    "    output_file_path = f'/home/jovyan/Data/Week/od_{country_code.lower()}_{year}_week_gh5.csv'\n",
    "    pe_tj_df7.to_csv(output_file_path, index=False)\n",
    "    \n",
    "    return output_file_path\n"
   ]
  },
  {
   "cell_type": "code",
   "execution_count": null,
   "id": "5d16cf57-f494-4637-9346-245200a69602",
   "metadata": {},
   "outputs": [],
   "source": [
    "output_file = extract_od_data(sql_engine, 'IN', 2020)\n",
    "print(f\"Data saved to: {output_file}\")\n",
    "# didn't test tho"
   ]
  },
  {
   "cell_type": "code",
   "execution_count": null,
   "id": "f0e0ff63-055f-4f7d-903c-e575a5541f7a",
   "metadata": {},
   "outputs": [],
   "source": []
  },
  {
   "cell_type": "code",
   "execution_count": null,
   "id": "a2899962-07af-4511-b79a-8d8d9d8c282c",
   "metadata": {},
   "outputs": [],
   "source": []
  },
  {
   "cell_type": "code",
   "execution_count": null,
   "id": "bc6327ea-809d-42f9-993e-29ab54a4c612",
   "metadata": {},
   "outputs": [],
   "source": [
    "country_code = 'IN'\n",
    "\n",
    "pe_tj_df7 = sql_engine.read_sql(\n",
    "    f\"\"\"\n",
    "    SELECT \n",
    "        start_geohash5, \n",
    "        end_geohash5, \n",
    "        week_number,\n",
    "        COUNT(*) AS trip_count,\n",
    "        AVG(duration_minutes) AS m_duration_min,\n",
    "        STDDEV(duration_minutes) AS sd_duration_min,\n",
    "        approx_percentile(duration_minutes, 0.5) AS mdn_duration_min,\n",
    "        AVG(length_meters) AS m_length_m,\n",
    "        STDDEV(length_meters) AS sd_length_m,\n",
    "        approx_percentile(length_meters, 0.5) AS mdn_length_m,\n",
    "        AVG(number_of_points) AS m_points_no,\n",
    "        STDDEV(number_of_points) AS sd_points_no,\n",
    "        approx_percentile(number_of_points, 0.5) AS mdn_points_no\n",
    "    FROM \n",
    "    (\n",
    "        SELECT \n",
    "            cuebiq_id,\n",
    "            TRY(date_parse(substr(start_zoned_datetime, 1, 19), '%Y-%m-%dT%H:%i:%s')) AS event_datetime_local,\n",
    "            geohash_encode(start_lat, start_lng, 5) AS start_geohash5, \n",
    "            geohash_encode(end_lat, end_lng, 5) AS end_geohash5, \n",
    "            duration_minutes,\n",
    "            length_meters,\n",
    "            number_of_points, \n",
    "            WEEK(TRY(date_parse(substr(start_zoned_datetime, 1, 19), '%Y-%m-%dT%H:%i:%s'))) AS week_number\n",
    "        FROM cuebiq.paas_cda_pe_v3.trajectory_uplevelled\n",
    "        WHERE \n",
    "            event_date BETWEEN 20200101 AND 20201231\n",
    "            AND end_country = '{country_code}' \n",
    "            AND start_country = '{country_code}'\n",
    "            AND start_lat <> 0\n",
    "            AND end_lat <> 0\n",
    "    ) subquery\n",
    "    GROUP BY start_geohash5, end_geohash5, week_number\n",
    "    \"\"\"\n",
    ")\n",
    "\n",
    "# pe_tj_df7\n",
    "pe_tj_df7.to_csv(f'/home/jovyan/Data/Week/od_{country_code.lower()}_{year}_week_gh5.csv', index=False)"
   ]
  },
  {
   "cell_type": "code",
   "execution_count": null,
   "id": "df6ca287-7579-4981-9d38-4ba46792b032",
   "metadata": {},
   "outputs": [],
   "source": []
  },
  {
   "cell_type": "code",
   "execution_count": null,
   "id": "456b2dc4-bfdd-4785-bab7-5459e7233e5e",
   "metadata": {},
   "outputs": [],
   "source": []
  },
  {
   "cell_type": "code",
   "execution_count": null,
   "id": "cfc8be2e-e429-4b23-97ea-b92a6fd5bc5a",
   "metadata": {},
   "outputs": [],
   "source": []
  },
  {
   "cell_type": "markdown",
   "id": "152659ca-094e-4250-80d9-286685287603",
   "metadata": {
    "tags": []
   },
   "source": [
    "## H3 7\n",
    "need to break down to 3 times: \n",
    "0101-0503, 0427-0904, 0827-1231"
   ]
  },
  {
   "cell_type": "code",
   "execution_count": null,
   "id": "8b60d965-d401-407d-8f71-c6c64744c573",
   "metadata": {},
   "outputs": [],
   "source": [
    "country_code = 'CO'\n",
    "\n",
    "pe_tj_df7 = sql_engine.read_sql(\n",
    "    f\"\"\"\n",
    "    SELECT \n",
    "        start_h3_7, \n",
    "        end_h3_7, \n",
    "        week_number,\n",
    "        COUNT(*) AS trip_count,\n",
    "        AVG(duration_minutes) AS m_duration_min,\n",
    "        STDDEV(duration_minutes) AS sd_duration_min,\n",
    "        approx_percentile(duration_minutes, 0.5) AS mdn_duration_min,\n",
    "        AVG(length_meters) AS m_length_m,\n",
    "        STDDEV(length_meters) AS sd_length_m,\n",
    "        approx_percentile(length_meters, 0.5) AS mdn_length_m,\n",
    "        AVG(number_of_points) AS m_points_no,\n",
    "        STDDEV(number_of_points) AS sd_points_no,\n",
    "        approx_percentile(number_of_points, 0.5) AS mdn_points_no\n",
    "    FROM \n",
    "    (\n",
    "        SELECT \n",
    "            cuebiq_id,\n",
    "            TRY(date_parse(substr(start_zoned_datetime, 1, 19), '%Y-%m-%dT%H:%i:%s')) AS event_datetime_local,\n",
    "            h3_encode(start_lat, start_lng, 7) AS start_h3_7, \n",
    "            h3_encode(end_lat, end_lng, 7) AS end_h3_7, \n",
    "            duration_minutes,\n",
    "            length_meters,\n",
    "            number_of_points, \n",
    "            WEEK(TRY(date_parse(substr(start_zoned_datetime, 1, 19), '%Y-%m-%dT%H:%i:%s'))) AS week_number\n",
    "        FROM cuebiq.paas_cda_pe_v3.trajectory_uplevelled\n",
    "        WHERE \n",
    "            event_date BETWEEN 20200101 AND 20200703\n",
    "            AND end_country = '{country_code}' \n",
    "            AND start_country = '{country_code}'\n",
    "            AND start_lat <> 0\n",
    "            AND end_lat <> 0\n",
    "    ) subquery\n",
    "    GROUP BY start_h3_7, end_h3_7, week_number\n",
    "    \"\"\"\n",
    ")\n",
    "\n",
    "pe_tj_df7.to_csv(f'/home/jovyan/Data/Week/od_{country_code.lower()}_2020_week1_h37.csv', index=False)"
   ]
  },
  {
   "cell_type": "code",
   "execution_count": null,
   "id": "eda9c196-9340-4f40-933d-5691607ee95e",
   "metadata": {},
   "outputs": [],
   "source": []
  },
  {
   "cell_type": "code",
   "execution_count": null,
   "id": "98b335d0-570f-4591-8dfb-15467eaed7cd",
   "metadata": {},
   "outputs": [],
   "source": []
  },
  {
   "cell_type": "code",
   "execution_count": null,
   "id": "16dc7ac1-dd27-430f-a931-566e5e0aa0f8",
   "metadata": {},
   "outputs": [],
   "source": []
  },
  {
   "cell_type": "code",
   "execution_count": null,
   "id": "0eae72a5-9525-4f14-b483-3f880cd0ba8f",
   "metadata": {
    "scrolled": true,
    "tags": []
   },
   "outputs": [],
   "source": [
    "country_code = 'ID'\n",
    "query = f\"\"\"\n",
    "    SELECT \n",
    "        cuebiq_id,\n",
    "        TRY(date_parse(substr(start_zoned_datetime, 1, 19), '%Y-%m-%dT%H:%i:%s')) AS event_datetime_local,\n",
    "        geohash_encode(start_lat, start_lng, 5) AS start_geohash5, \n",
    "        geohash_encode(end_lat, end_lng, 5) AS end_geohash5, \n",
    "        duration_minutes,\n",
    "        length_meters,\n",
    "        number_of_points, \n",
    "        WEEK(TRY(date_parse(substr(start_zoned_datetime, 1, 19), '%Y-%m-%dT%H:%i:%s'))) AS week_number\n",
    "    FROM cuebiq.paas_cda_pe_v3.trajectory_uplevelled\n",
    "    WHERE \n",
    "        event_date BETWEEN 20191228 AND 20191231\n",
    "        AND end_country = '{country_code}' \n",
    "        AND start_country = '{country_code}'\n",
    "        AND start_lat <> 0\n",
    "        AND end_lat <> 0\n",
    "\"\"\"\n",
    "\n",
    "pe_tj_df = sql_engine.read_sql(query)\n",
    "pe_tj_df"
   ]
  },
  {
   "cell_type": "code",
   "execution_count": null,
   "id": "fa8e806b-c1b5-46d0-9eb5-538e48fac9b6",
   "metadata": {
    "scrolled": true,
    "tags": []
   },
   "outputs": [],
   "source": [
    "pe_tj_df['day_of_month'] = pe_tj_df['event_datetime_local'].dt.day\n",
    "pe_tj_df"
   ]
  },
  {
   "cell_type": "code",
   "execution_count": null,
   "id": "e03af271-2d24-4fce-a9b8-ea32e1c28fa1",
   "metadata": {},
   "outputs": [],
   "source": [
    "pe_tj_df[pe_tj_df['day_of_month'] == 31]"
   ]
  },
  {
   "cell_type": "code",
   "execution_count": null,
   "id": "3c07efb4-4510-4f82-8dcd-851ab4c0a61a",
   "metadata": {},
   "outputs": [],
   "source": []
  },
  {
   "cell_type": "code",
   "execution_count": null,
   "id": "5b09907c-f464-4a50-808a-3e191533b937",
   "metadata": {},
   "outputs": [],
   "source": []
  },
  {
   "cell_type": "code",
   "execution_count": null,
   "id": "713e1b64-a76a-4ebc-b978-43d8c7ba4c7d",
   "metadata": {
    "scrolled": true,
    "tags": []
   },
   "outputs": [],
   "source": [
    "country_code = 'ID'\n",
    "query = f\"\"\"\n",
    "    SELECT \n",
    "        cuebiq_id,\n",
    "        TRY(date_parse(substr(start_zoned_datetime, 1, 19), '%Y-%m-%dT%H:%i:%s')) AS event_datetime_local,\n",
    "        geohash_encode(start_lat, start_lng, 5) AS start_geohash5, \n",
    "        geohash_encode(end_lat, end_lng, 5) AS end_geohash5, \n",
    "        duration_minutes,\n",
    "        length_meters,\n",
    "        number_of_points, \n",
    "        WEEK(TRY(date_parse(substr(start_zoned_datetime, 1, 19), '%Y-%m-%dT%H:%i:%s'))) AS week_number\n",
    "    FROM cuebiq.paas_cda_pe_v3.trajectory_uplevelled\n",
    "    WHERE \n",
    "        event_date BETWEEN 20200101 AND 20200110\n",
    "        AND end_country = '{country_code}' \n",
    "        AND start_country = '{country_code}'\n",
    "        AND start_lat <> 0\n",
    "        AND end_lat <> 0\n",
    "\"\"\"\n",
    "\n",
    "pe_tj_df7 = sql_engine.read_sql(query)\n",
    "pe_tj_df7"
   ]
  },
  {
   "cell_type": "code",
   "execution_count": null,
   "id": "bb186eec-3107-4030-a576-263eb260d539",
   "metadata": {
    "scrolled": true,
    "tags": []
   },
   "outputs": [],
   "source": [
    "# Convert 'event_datetime_local' to datetime\n",
    "pe_tj_df7['event_datetime_local'] = pd.to_datetime(pe_tj_df7['event_datetime_local'])\n",
    "pe_tj_df7['local_date'] = pe_tj_df7['event_datetime_local'].dt.date\n",
    "pe_tj_df7"
   ]
  },
  {
   "cell_type": "code",
   "execution_count": null,
   "id": "3ae86bf6-7fc1-43f1-9e79-d488f80ab56e",
   "metadata": {
    "scrolled": true,
    "tags": []
   },
   "outputs": [],
   "source": [
    "pe_tj_df7['day_of_month'] = pe_tj_df7['event_datetime_local'].dt.day\n",
    "pe_tj_df7"
   ]
  },
  {
   "cell_type": "code",
   "execution_count": null,
   "id": "b9989690-c02e-4cbc-bbcc-1bcaabb33d65",
   "metadata": {
    "scrolled": true,
    "tags": []
   },
   "outputs": [],
   "source": [
    "pe_tj_df7[pe_tj_df7['day_of_month'] == 6]"
   ]
  },
  {
   "cell_type": "code",
   "execution_count": null,
   "id": "9f529b76-1f3b-4a90-b38a-c4c365d047f8",
   "metadata": {},
   "outputs": [],
   "source": []
  },
  {
   "cell_type": "markdown",
   "id": "cea30400-b18e-4bd0-a12a-113ca56ad0ed",
   "metadata": {
    "tags": []
   },
   "source": [
    "# Check - Week\n",
    "\n",
    "2019: need to change week 1 from Dec to week 53  \n",
    "2020: no need to change"
   ]
  },
  {
   "cell_type": "markdown",
   "id": "41fbb538-ab4e-4c1a-be65-bf7402b4df8b",
   "metadata": {
    "tags": []
   },
   "source": [
    "## GH5"
   ]
  },
  {
   "cell_type": "code",
   "execution_count": null,
   "id": "4c023d5d-9e6b-4a69-86b5-91b42438d3f2",
   "metadata": {},
   "outputs": [],
   "source": [
    "# country_code = 'CO' \n",
    "# country_code = 'ID' \n",
    "# country_code = 'IN' \n",
    "country_code = 'MX' "
   ]
  },
  {
   "cell_type": "markdown",
   "id": "0ddb3923-c9de-4890-9849-79bf5866badd",
   "metadata": {
    "tags": []
   },
   "source": [
    "##### Remove week 1 since it is combination of 0101 and 1230"
   ]
  },
  {
   "cell_type": "code",
   "execution_count": null,
   "id": "6fb1129d-715d-4956-bf5a-e1d1a96e965a",
   "metadata": {},
   "outputs": [],
   "source": [
    "file1 = f'/home/jovyan/Data/Week/od_{country_code.lower()}_2019_week.csv'\n",
    "\n",
    "df1 = pd.read_csv(file1)\n",
    "df1"
   ]
  },
  {
   "cell_type": "code",
   "execution_count": null,
   "id": "93368462-1112-4300-9625-5deab69007f7",
   "metadata": {
    "scrolled": true,
    "tags": []
   },
   "outputs": [],
   "source": [
    "df1 = df1[df1['week_number'] != 1]\n",
    "# df1\n",
    "sorted(df1['week_number'].unique())"
   ]
  },
  {
   "cell_type": "code",
   "execution_count": null,
   "id": "22a6b627-adf9-441d-85f8-08cd70064667",
   "metadata": {},
   "outputs": [],
   "source": [
    "df1.to_csv(f'/home/jovyan/Data/Week/od_{country_code.lower()}_2019_week.csv', index=False)"
   ]
  },
  {
   "cell_type": "code",
   "execution_count": null,
   "id": "ef8605e3-4b0c-4ee1-8b6a-cc23f706ed4e",
   "metadata": {},
   "outputs": [],
   "source": []
  },
  {
   "cell_type": "code",
   "execution_count": null,
   "id": "f2035223-26e2-49c4-9d8e-c52f979d3e40",
   "metadata": {},
   "outputs": [],
   "source": []
  },
  {
   "cell_type": "code",
   "execution_count": null,
   "id": "a0ebcdbb-67aa-4b40-bc2d-302db4f5f846",
   "metadata": {},
   "outputs": [],
   "source": []
  },
  {
   "cell_type": "markdown",
   "id": "054e99c5-590a-49f9-9fe6-5b6fa633326d",
   "metadata": {
    "tags": []
   },
   "source": [
    "##### 2020"
   ]
  },
  {
   "cell_type": "code",
   "execution_count": null,
   "id": "2fa30870-cfcc-48f9-915e-30279d5dd146",
   "metadata": {
    "scrolled": true,
    "tags": []
   },
   "outputs": [],
   "source": [
    "file = f'/home/jovyan/Data/Week/od_{country_code.lower()}_2020_week_gh5.csv'\n",
    "df = pd.read_csv(file)\n",
    "# combined = df\n",
    "combined"
   ]
  },
  {
   "cell_type": "markdown",
   "id": "e14947cf-4d89-4522-8154-be79b14f33a3",
   "metadata": {
    "tags": []
   },
   "source": [
    "##### for 2019 only"
   ]
  },
  {
   "cell_type": "code",
   "execution_count": null,
   "id": "750d368c-f942-4c54-9aa2-903211247280",
   "metadata": {},
   "outputs": [],
   "source": [
    "file = f'/home/jovyan/Data/Week/od_{country_code.lower()}_2020_week_gh5.csv'\n",
    "df = pd.read_csv(file)\n",
    "# df"
   ]
  },
  {
   "cell_type": "code",
   "execution_count": null,
   "id": "ce362c89-f346-4522-8ddb-24211fd277a6",
   "metadata": {
    "scrolled": true,
    "tags": []
   },
   "outputs": [],
   "source": [
    "file1 = f'/home/jovyan/Data/Week/od_{country_code.lower()}_2019_week_gh5_w1.csv'\n",
    "df1 = pd.read_csv(file1)\n",
    "df1"
   ]
  },
  {
   "cell_type": "code",
   "execution_count": null,
   "id": "33e1954d-59eb-4da7-8ff3-56f0afc02080",
   "metadata": {
    "scrolled": true,
    "tags": []
   },
   "outputs": [],
   "source": [
    "file53 = f'/home/jovyan/Data/Week/od_{country_code.lower()}_2019_week_gh5_w53.csv'\n",
    "df53 = pd.read_csv(file53)\n",
    "df53"
   ]
  },
  {
   "cell_type": "code",
   "execution_count": null,
   "id": "b8e3c108-88bd-43de-b7d6-d7b4a917675b",
   "metadata": {},
   "outputs": [],
   "source": [
    "combined = pd.concat([df, df1, df53], ignore_index=True)\n",
    "# combined = pd.concat([df, df53], ignore_index=True)\n",
    "\n",
    "combined"
   ]
  },
  {
   "cell_type": "markdown",
   "id": "32caed6e-ed95-4bcf-acff-844543a2edc8",
   "metadata": {},
   "source": [
    "##### plot"
   ]
  },
  {
   "cell_type": "code",
   "execution_count": null,
   "id": "f9f9cc58-798b-477b-b373-5b1178610383",
   "metadata": {
    "scrolled": true,
    "tags": []
   },
   "outputs": [],
   "source": [
    "sorted(combined['week_number'].unique())"
   ]
  },
  {
   "cell_type": "code",
   "execution_count": null,
   "id": "2f39ab80-5ff2-4b09-bab4-0cc52545e905",
   "metadata": {},
   "outputs": [],
   "source": [
    "# Plot (1): Number of rows per week\n",
    "rows_per_week = combined.groupby('week_number').size()\n",
    "plt.figure(figsize=(8, 6))\n",
    "rows_per_week.plot(kind='bar')\n",
    "plt.title('Number of Rows per Week')\n",
    "plt.xlabel('Week Number')\n",
    "plt.ylabel('Number of Rows')\n",
    "plt.show()"
   ]
  },
  {
   "cell_type": "code",
   "execution_count": null,
   "id": "fcb5474e-99f0-4d70-a7cd-a124e82a8a17",
   "metadata": {},
   "outputs": [],
   "source": [
    "# Plot (2): Number of trip_count per week\n",
    "trip_count_per_week = combined.groupby('week_number')['trip_count'].sum()\n",
    "plt.figure(figsize=(8, 6))\n",
    "trip_count_per_week.plot(kind='bar')\n",
    "plt.title('Number of Trip Counts per Week')\n",
    "plt.xlabel('Week Number')\n",
    "plt.ylabel('Trip Count')\n",
    "plt.show()"
   ]
  },
  {
   "cell_type": "code",
   "execution_count": null,
   "id": "d9ad2145-cbd3-48ae-8bf4-3494307d800f",
   "metadata": {},
   "outputs": [],
   "source": []
  },
  {
   "cell_type": "code",
   "execution_count": null,
   "id": "a7a08817-8625-47f2-bfe8-75db671cdbf7",
   "metadata": {},
   "outputs": [],
   "source": []
  },
  {
   "cell_type": "markdown",
   "id": "0d2f5407-6ada-44c4-83c9-a3ed06d47128",
   "metadata": {
    "tags": []
   },
   "source": [
    "##### export "
   ]
  },
  {
   "cell_type": "code",
   "execution_count": null,
   "id": "8cb99eb3-f2a3-4a23-9787-450a7febd467",
   "metadata": {},
   "outputs": [],
   "source": [
    "# combined.to_csv(f\"/home/jovyan/Data/Week/combined/od_week_gh5_{country_code.lower()}_2019_all.csv\", index=False)\n",
    "combined.to_csv(f\"/home/jovyan/Data/Week/combined/od_week_gh5_{country_code.lower()}_2020_all.csv\", index=False)"
   ]
  },
  {
   "cell_type": "code",
   "execution_count": null,
   "id": "a1c8df94-d24d-458f-9e85-d13dab7fed5c",
   "metadata": {
    "scrolled": true,
    "tags": []
   },
   "outputs": [],
   "source": [
    "filtered = combined[combined['trip_count'] > 9]\n",
    "filtered"
   ]
  },
  {
   "cell_type": "code",
   "execution_count": null,
   "id": "cbc10e7c-17bc-44f3-8ac4-13445b1e9d8d",
   "metadata": {},
   "outputs": [],
   "source": [
    "# filtered.to_csv(f'/home/jovyan/Data/Week/cleaned/od_week_gh5_{country_code.lower()}_2019.csv', index=False)\n",
    "filtered.to_csv(f'/home/jovyan/Data/Week/cleaned/od_week_gh5_{country_code.lower()}_2020.csv', index=False)"
   ]
  },
  {
   "cell_type": "code",
   "execution_count": null,
   "id": "cdcb334d-c5ad-4422-be36-2b0433b5b5e1",
   "metadata": {},
   "outputs": [],
   "source": []
  },
  {
   "cell_type": "code",
   "execution_count": null,
   "id": "77f61972-211b-462e-89af-e2c89cdf4971",
   "metadata": {},
   "outputs": [],
   "source": []
  },
  {
   "cell_type": "code",
   "execution_count": null,
   "id": "1e373417-ca79-431d-ba6a-55636cf64252",
   "metadata": {},
   "outputs": [],
   "source": [
    "# df1[(df1['week_number'] == 53) & (df1['start_geohash5']== 'd2g66') & (df1['end_geohash5']== 'd2g66')]"
   ]
  },
  {
   "cell_type": "markdown",
   "id": "d4adedff-7d12-450d-8858-70095e0d9843",
   "metadata": {},
   "source": [
    "## H37"
   ]
  },
  {
   "cell_type": "code",
   "execution_count": null,
   "id": "70bc990d-d204-45c0-a9a6-430e164c7226",
   "metadata": {},
   "outputs": [],
   "source": [
    "country_code = 'CO' \n",
    "# country_code = 'ID' \n",
    "# country_code = 'IN'\n",
    "# country_code = 'MX'"
   ]
  },
  {
   "cell_type": "code",
   "execution_count": null,
   "id": "05cc01a8-1dfc-4edd-825a-4dfebd509297",
   "metadata": {
    "scrolled": true,
    "tags": []
   },
   "outputs": [],
   "source": [
    "# file1 = f'/home/jovyan/Data/Week/od_{country_code.lower()}_2019_week1_h37.csv'\n",
    "file1 = f'/home/jovyan/Data/Week/od_{country_code.lower()}_2020_week1_h37.csv'\n",
    "df1 = pd.read_csv(file1)\n",
    "# df1['week_number'] = df1['week_number'].replace(1, 53) # For CO\n",
    "\n",
    "sorted(df1['week_number'].unique())"
   ]
  },
  {
   "cell_type": "code",
   "execution_count": null,
   "id": "43f2ce47-b2f4-4ebd-b42f-1ac02323294d",
   "metadata": {
    "scrolled": true,
    "tags": []
   },
   "outputs": [],
   "source": [
    "fil1 = df1[df1['week_number'] < 27] # For ID\n",
    "# fil1 = df1[df1['week_number'] < 18] # For MX, IN\n",
    "sorted(fil1['week_number'].unique())"
   ]
  },
  {
   "cell_type": "code",
   "execution_count": null,
   "id": "06d41251-e7f9-4c9e-b28e-bdbc788f69ad",
   "metadata": {
    "scrolled": true,
    "tags": []
   },
   "outputs": [],
   "source": [
    "# file2 = f'/home/jovyan/Data/Week/od_{country_code.lower()}_2019_week2_h37.csv'\n",
    "file2 = f'/home/jovyan/Data/Week/od_{country_code.lower()}_2020_week2_h37.csv'\n",
    "df2 = pd.read_csv(file2)\n",
    "# df2['week_number'] = df2['week_number'].replace(1, 53) # For ID\n",
    "# df2\n",
    "sorted(df2['week_number'].unique())"
   ]
  },
  {
   "cell_type": "code",
   "execution_count": null,
   "id": "098b60e5-6e56-4d7b-a616-d71ed6744e33",
   "metadata": {
    "scrolled": true,
    "tags": []
   },
   "outputs": [],
   "source": [
    "# fil2 = df2[(df2['week_number']>17) & (df2['week_number']<36)] # For IN & MX\n",
    "fil2 = df2[df2['week_number'] > 26]\n",
    "sorted(fil2['week_number'].unique())"
   ]
  },
  {
   "cell_type": "code",
   "execution_count": null,
   "id": "e6fe0ed7-255a-4b0e-977c-3389ded23f86",
   "metadata": {
    "scrolled": true,
    "tags": []
   },
   "outputs": [],
   "source": [
    "# # For MX, IN\n",
    "# # file3 = f'/home/jovyan/Data/Week/od_{country_code.lower()}_2019_week3_h37.csv'\n",
    "# file3 = f'/home/jovyan/Data/Week/od_{country_code.lower()}_2020_week3_h37.csv'\n",
    "# df3 = pd.read_csv(file3)\n",
    "# df3['week_number'] = df3['week_number'].replace(1, 53) # for 2019\n",
    "# # df3\n",
    "# sorted(df3['week_number'].unique())"
   ]
  },
  {
   "cell_type": "code",
   "execution_count": null,
   "id": "057caeb9-2c1f-45f1-9449-855446ff9214",
   "metadata": {},
   "outputs": [],
   "source": [
    "# fil3 = df3[df3['week_number'] > 35]\n",
    "# sorted(fil3['week_number'].unique())"
   ]
  },
  {
   "cell_type": "code",
   "execution_count": null,
   "id": "0054e85d-e6fe-42b0-9a72-c176e8755b2f",
   "metadata": {
    "scrolled": true,
    "tags": []
   },
   "outputs": [],
   "source": [
    "# combined_df = pd.concat([fil1, fil2, fil3], ignore_index=True)\n",
    "combined_df = pd.concat([fil1, fil2], ignore_index=True)\n",
    "combined_df"
   ]
  },
  {
   "cell_type": "code",
   "execution_count": null,
   "id": "adbd6dad-7a47-4cf1-8207-c422b87485e7",
   "metadata": {
    "scrolled": true,
    "tags": []
   },
   "outputs": [],
   "source": [
    "sorted(combined_df['week_number'].unique())"
   ]
  },
  {
   "cell_type": "code",
   "execution_count": null,
   "id": "b4099827-fcee-4cb7-bcb7-c8818e66cefa",
   "metadata": {
    "scrolled": true,
    "tags": []
   },
   "outputs": [],
   "source": [
    "combined_df = combined_df.drop_duplicates()\n",
    "combined_df"
   ]
  },
  {
   "cell_type": "code",
   "execution_count": null,
   "id": "26ef0eaa-4083-4a89-91c3-ca59101f55bf",
   "metadata": {},
   "outputs": [],
   "source": [
    "# combined_df.to_csv(f'/home/jovyan/Data/Week/combined/od_week_h37_{country_code.lower()}_2019_all.csv', index=False)\n",
    "combined_df.to_csv(f'/home/jovyan/Data/Week/combined/od_week_h37_{country_code.lower()}_2020_all.csv', index=False)"
   ]
  },
  {
   "cell_type": "code",
   "execution_count": null,
   "id": "e614f86e-f209-463f-8da5-1a16ea2f6817",
   "metadata": {
    "scrolled": true,
    "tags": []
   },
   "outputs": [],
   "source": [
    "filter_df = combined_df[combined_df['trip_count'] > 9]\n",
    "filter_df"
   ]
  },
  {
   "cell_type": "code",
   "execution_count": null,
   "id": "42a2c4d4-3142-400c-be99-3434e51f96da",
   "metadata": {},
   "outputs": [],
   "source": [
    "# filter_df.to_csv(f'/home/jovyan/Data/Week/cleaned/od_week_h37_{country_code.lower()}_2019.csv', index=False)\n",
    "filter_df.to_csv(f'/home/jovyan/Data/Week/cleaned/od_week_h37_{country_code.lower()}_2020.csv', index=False)"
   ]
  },
  {
   "cell_type": "code",
   "execution_count": null,
   "id": "a4340c23-faeb-473a-9ddd-a9840addf43a",
   "metadata": {},
   "outputs": [],
   "source": []
  },
  {
   "cell_type": "code",
   "execution_count": null,
   "id": "e7cd0ea0-ba36-42bd-98a1-46c713ded228",
   "metadata": {},
   "outputs": [],
   "source": []
  },
  {
   "cell_type": "code",
   "execution_count": null,
   "id": "5f60d591-3a9d-4a16-88d3-800ebbdd6a3f",
   "metadata": {},
   "outputs": [],
   "source": []
  },
  {
   "cell_type": "code",
   "execution_count": null,
   "id": "be6860f5-16c6-4a84-83ea-f1f82c122247",
   "metadata": {},
   "outputs": [],
   "source": []
  },
  {
   "cell_type": "code",
   "execution_count": null,
   "id": "04492c81-7ccd-49f5-b5ec-689ac2d0e974",
   "metadata": {},
   "outputs": [],
   "source": [
    "country_code = 'CO'\n",
    "\n",
    "pe_tj_df7 = sql_engine.read_sql(\n",
    "    f\"\"\"\n",
    "    SELECT \n",
    "        start_h3_7, \n",
    "        end_h3_7, \n",
    "        month_number,\n",
    "        COUNT(*) AS trip_count,\n",
    "        AVG(duration_minutes) AS m_duration_min,\n",
    "        STDDEV(duration_minutes) AS sd_duration_min,\n",
    "        approx_percentile(duration_minutes, 0.5) AS mdn_duration_min,\n",
    "        AVG(length_meters) AS m_length_m,\n",
    "        STDDEV(length_meters) AS sd_length_m,\n",
    "        approx_percentile(length_meters, 0.5) AS mdn_length_m,\n",
    "        AVG(number_of_points) AS m_points_no,\n",
    "        STDDEV(number_of_points) AS sd_points_no,\n",
    "        approx_percentile(number_of_points, 0.5) AS mdn_points_no\n",
    "    FROM \n",
    "    (\n",
    "        SELECT \n",
    "            cuebiq_id,\n",
    "            TRY(date_parse(substr(start_zoned_datetime, 1, 19), '%Y-%m-%dT%H:%i:%s')) AS event_datetime_local,\n",
    "            h3_encode(start_lat, start_lng, 7) AS start_h3_7, \n",
    "            h3_encode(end_lat, end_lng, 7) AS end_h3_7, \n",
    "            duration_minutes,\n",
    "            length_meters,\n",
    "            number_of_points, \n",
    "            MONTH(TRY(date_parse(substr(start_zoned_datetime, 1, 19), '%Y-%m-%dT%H:%i:%s'))) AS month_number\n",
    "        FROM cuebiq.paas_cda_pe_v3.trajectory_uplevelled\n",
    "        WHERE \n",
    "            event_date BETWEEN 20191101 AND 20191231\n",
    "            AND end_country = '{country_code}' \n",
    "            AND start_country = '{country_code}'\n",
    "            AND start_lat <> 0\n",
    "            AND end_lat <> 0\n",
    "    ) subquery\n",
    "    GROUP BY start_h3_7, end_h3_7, month_number\n",
    "    \"\"\"\n",
    ")\n",
    "\n",
    "pe_tj_df7.to_csv(f'/home/jovyan/Data/Month/od_{country_code.lower()}_2019_month_h37.csv', index=False)\n",
    "# 1133"
   ]
  },
  {
   "cell_type": "code",
   "execution_count": null,
   "id": "84850298-6262-4ced-9781-44359cf4d2c3",
   "metadata": {},
   "outputs": [],
   "source": [
    "# country_code = 'MX'\n",
    "country_code = 'IN'\n",
    "\n",
    "pe_tj_df7 = sql_engine.read_sql(\n",
    "    f\"\"\"\n",
    "    SELECT \n",
    "        start_h3_7, \n",
    "        end_h3_7, \n",
    "        month_number,\n",
    "        COUNT(*) AS trip_count,\n",
    "        AVG(duration_minutes) AS m_duration_min,\n",
    "        STDDEV(duration_minutes) AS sd_duration_min,\n",
    "        approx_percentile(duration_minutes, 0.5) AS mdn_duration_min,\n",
    "        AVG(length_meters) AS m_length_m,\n",
    "        STDDEV(length_meters) AS sd_length_m,\n",
    "        approx_percentile(length_meters, 0.5) AS mdn_length_m,\n",
    "        AVG(number_of_points) AS m_points_no,\n",
    "        STDDEV(number_of_points) AS sd_points_no,\n",
    "        approx_percentile(number_of_points, 0.5) AS mdn_points_no\n",
    "    FROM \n",
    "    (\n",
    "        SELECT \n",
    "            cuebiq_id,\n",
    "            TRY(date_parse(substr(start_zoned_datetime, 1, 19), '%Y-%m-%dT%H:%i:%s')) AS event_datetime_local,\n",
    "            h3_encode(start_lat, start_lng, 7) AS start_h3_7, \n",
    "            h3_encode(end_lat, end_lng, 7) AS end_h3_7, \n",
    "            duration_minutes,\n",
    "            length_meters,\n",
    "            number_of_points, \n",
    "            MONTH(TRY(date_parse(substr(start_zoned_datetime, 1, 19), '%Y-%m-%dT%H:%i:%s'))) AS month_number\n",
    "        FROM cuebiq.paas_cda_pe_v3.trajectory_uplevelled\n",
    "        WHERE \n",
    "            event_date BETWEEN 20190101 AND 20190630\n",
    "            AND end_country = '{country_code}' \n",
    "            AND start_country = '{country_code}'\n",
    "            AND start_lat <> 0\n",
    "            AND end_lat <> 0\n",
    "    ) subquery\n",
    "    GROUP BY start_h3_7, end_h3_7, month_number\n",
    "    \"\"\"\n",
    ")\n",
    "\n",
    "pe_tj_df7.to_csv(f'/home/jovyan/Data/Month/od_{country_code.lower()}_2019_month1_h37.csv', index=False)"
   ]
  },
  {
   "cell_type": "code",
   "execution_count": null,
   "id": "57e75477-89a8-4dec-a0aa-07633324bf41",
   "metadata": {},
   "outputs": [],
   "source": [
    "# country_code = 'MX'\n",
    "country_code = 'IN'\n",
    "\n",
    "pe_tj_df7 = sql_engine.read_sql(\n",
    "    f\"\"\"\n",
    "    SELECT \n",
    "        start_h3_7, \n",
    "        end_h3_7, \n",
    "        month_number,\n",
    "        COUNT(*) AS trip_count,\n",
    "        AVG(duration_minutes) AS m_duration_min,\n",
    "        STDDEV(duration_minutes) AS sd_duration_min,\n",
    "        approx_percentile(duration_minutes, 0.5) AS mdn_duration_min,\n",
    "        AVG(length_meters) AS m_length_m,\n",
    "        STDDEV(length_meters) AS sd_length_m,\n",
    "        approx_percentile(length_meters, 0.5) AS mdn_length_m,\n",
    "        AVG(number_of_points) AS m_points_no,\n",
    "        STDDEV(number_of_points) AS sd_points_no,\n",
    "        approx_percentile(number_of_points, 0.5) AS mdn_points_no\n",
    "    FROM \n",
    "    (\n",
    "        SELECT \n",
    "            cuebiq_id,\n",
    "            TRY(date_parse(substr(start_zoned_datetime, 1, 19), '%Y-%m-%dT%H:%i:%s')) AS event_datetime_local,\n",
    "            h3_encode(start_lat, start_lng, 7) AS start_h3_7, \n",
    "            h3_encode(end_lat, end_lng, 7) AS end_h3_7, \n",
    "            duration_minutes,\n",
    "            length_meters,\n",
    "            number_of_points, \n",
    "            MONTH(TRY(date_parse(substr(start_zoned_datetime, 1, 19), '%Y-%m-%dT%H:%i:%s'))) AS month_number\n",
    "        FROM cuebiq.paas_cda_pe_v3.trajectory_uplevelled\n",
    "        WHERE \n",
    "            event_date BETWEEN 20190701 AND 20191231\n",
    "            AND end_country = '{country_code}' \n",
    "            AND start_country = '{country_code}'\n",
    "            AND start_lat <> 0\n",
    "            AND end_lat <> 0\n",
    "    ) subquery\n",
    "    GROUP BY start_h3_7, end_h3_7, month_number\n",
    "    \"\"\"\n",
    ")\n",
    "\n",
    "pe_tj_df7.to_csv(f'/home/jovyan/Data/Month/od_{country_code.lower()}_2019_month2_h37.csv', index=False)"
   ]
  },
  {
   "cell_type": "code",
   "execution_count": null,
   "id": "d94b3b94-de17-45dd-87ef-672de1f8f0f1",
   "metadata": {},
   "outputs": [],
   "source": [
    "country_code = 'ID'\n",
    "\n",
    "pe_tj_df7 = sql_engine.read_sql(\n",
    "    f\"\"\"\n",
    "    SELECT \n",
    "        start_h3_7, \n",
    "        end_h3_7, \n",
    "        month_number,\n",
    "        COUNT(*) AS trip_count,\n",
    "        AVG(duration_minutes) AS m_duration_min,\n",
    "        STDDEV(duration_minutes) AS sd_duration_min,\n",
    "        approx_percentile(duration_minutes, 0.5) AS mdn_duration_min,\n",
    "        AVG(length_meters) AS m_length_m,\n",
    "        STDDEV(length_meters) AS sd_length_m,\n",
    "        approx_percentile(length_meters, 0.5) AS mdn_length_m,\n",
    "        AVG(number_of_points) AS m_points_no,\n",
    "        STDDEV(number_of_points) AS sd_points_no,\n",
    "        approx_percentile(number_of_points, 0.5) AS mdn_points_no\n",
    "    FROM \n",
    "    (\n",
    "        SELECT \n",
    "            cuebiq_id,\n",
    "            TRY(date_parse(substr(start_zoned_datetime, 1, 19), '%Y-%m-%dT%H:%i:%s')) AS event_datetime_local,\n",
    "            h3_encode(start_lat, start_lng, 7) AS start_h3_7, \n",
    "            h3_encode(end_lat, end_lng, 7) AS end_h3_7, \n",
    "            duration_minutes,\n",
    "            length_meters,\n",
    "            number_of_points, \n",
    "            MONTH(TRY(date_parse(substr(start_zoned_datetime, 1, 19), '%Y-%m-%dT%H:%i:%s'))) AS month_number\n",
    "        FROM cuebiq.paas_cda_pe_v3.trajectory_uplevelled\n",
    "        WHERE \n",
    "            event_date BETWEEN 20190101 AND 20190630\n",
    "            AND end_country = '{country_code}' \n",
    "            AND start_country = '{country_code}'\n",
    "            AND start_lat <> 0\n",
    "            AND end_lat <> 0\n",
    "    ) subquery\n",
    "    GROUP BY start_h3_7, end_h3_7, month_number\n",
    "    \"\"\"\n",
    ")\n",
    "\n",
    "pe_tj_df7.to_csv(f'/home/jovyan/Data/Month/od_{country_code.lower()}_2019_month1_h37.csv', index=False)"
   ]
  },
  {
   "cell_type": "code",
   "execution_count": null,
   "id": "fbe1ecd2-1f68-4e77-b3a0-b1518375d5bf",
   "metadata": {},
   "outputs": [],
   "source": [
    "country_code = 'ID'\n",
    "\n",
    "pe_tj_df7 = sql_engine.read_sql(\n",
    "    f\"\"\"\n",
    "    SELECT \n",
    "        start_h3_7, \n",
    "        end_h3_7, \n",
    "        month_number,\n",
    "        COUNT(*) AS trip_count,\n",
    "        AVG(duration_minutes) AS m_duration_min,\n",
    "        STDDEV(duration_minutes) AS sd_duration_min,\n",
    "        approx_percentile(duration_minutes, 0.5) AS mdn_duration_min,\n",
    "        AVG(length_meters) AS m_length_m,\n",
    "        STDDEV(length_meters) AS sd_length_m,\n",
    "        approx_percentile(length_meters, 0.5) AS mdn_length_m,\n",
    "        AVG(number_of_points) AS m_points_no,\n",
    "        STDDEV(number_of_points) AS sd_points_no,\n",
    "        approx_percentile(number_of_points, 0.5) AS mdn_points_no\n",
    "    FROM \n",
    "    (\n",
    "        SELECT \n",
    "            cuebiq_id,\n",
    "            TRY(date_parse(substr(start_zoned_datetime, 1, 19), '%Y-%m-%dT%H:%i:%s')) AS event_datetime_local,\n",
    "            h3_encode(start_lat, start_lng, 7) AS start_h3_7, \n",
    "            h3_encode(end_lat, end_lng, 7) AS end_h3_7, \n",
    "            duration_minutes,\n",
    "            length_meters,\n",
    "            number_of_points, \n",
    "            MONTH(TRY(date_parse(substr(start_zoned_datetime, 1, 19), '%Y-%m-%dT%H:%i:%s'))) AS month_number\n",
    "        FROM cuebiq.paas_cda_pe_v3.trajectory_uplevelled\n",
    "        WHERE \n",
    "            event_date BETWEEN 20190701 AND 20191231\n",
    "            AND end_country = '{country_code}' \n",
    "            AND start_country = '{country_code}'\n",
    "            AND start_lat <> 0\n",
    "            AND end_lat <> 0\n",
    "    ) subquery\n",
    "    GROUP BY start_h3_7, end_h3_7, month_number\n",
    "    \"\"\"\n",
    ")\n",
    "\n",
    "pe_tj_df7.to_csv(f'/home/jovyan/Data/Month/od_{country_code.lower()}_2019_month2_h37.csv', index=False)"
   ]
  },
  {
   "cell_type": "code",
   "execution_count": null,
   "id": "0333752a-d034-4571-87c4-d63d572cdb07",
   "metadata": {},
   "outputs": [],
   "source": []
  },
  {
   "cell_type": "code",
   "execution_count": null,
   "id": "78a66c93-b7b5-4e79-a553-b1536e106c07",
   "metadata": {},
   "outputs": [],
   "source": [
    "country_code = 'ID'\n",
    "\n",
    "pe_tj_df7 = sql_engine.read_sql(\n",
    "    f\"\"\"\n",
    "    SELECT \n",
    "        start_geohash5, \n",
    "        end_geohash5, \n",
    "        MONTH(event_datetime_local) AS month,\n",
    "        COUNT(*) AS trip_count,\n",
    "        AVG(duration_minutes) AS m_duration_min,\n",
    "        STDDEV(duration_minutes) AS sd_duration_min,\n",
    "        approx_percentile(duration_minutes, 0.5) AS mdn_duration_min,\n",
    "        AVG(length_meters) AS m_length_m,\n",
    "        STDDEV(length_meters) AS sd_length_m,\n",
    "        approx_percentile(length_meters, 0.5) AS mdn_length_m,\n",
    "        AVG(number_of_points) AS m_points_no,\n",
    "        STDDEV(number_of_points) AS sd_points_no,\n",
    "        approx_percentile(number_of_points, 0.5) AS mdn_points_no\n",
    "    FROM \n",
    "    (\n",
    "        SELECT \n",
    "            cuebiq_id,\n",
    "            TRY(date_parse(substr(start_zoned_datetime, 1, 19), '%Y-%m-%dT%H:%i:%s')) AS event_datetime_local,\n",
    "            geohash_encode(start_lat, start_lng, 5) AS start_geohash5, \n",
    "            geohash_encode(end_lat, end_lng, 5) AS end_geohash5, \n",
    "            duration_minutes,\n",
    "            length_meters,\n",
    "            number_of_points\n",
    "        FROM cuebiq.paas_cda_pe_v3.trajectory_uplevelled\n",
    "        WHERE \n",
    "            event_date BETWEEN 20190101 AND 20191231\n",
    "            AND end_country = '{country_code}' \n",
    "            AND start_country = '{country_code}'\n",
    "    ) subquery\n",
    "    GROUP BY start_geohash5, end_geohash5, MONTH(event_datetime_local)\n",
    "    \"\"\"\n",
    ")\n",
    "\n",
    "pe_tj_df7\n"
   ]
  },
  {
   "cell_type": "code",
   "execution_count": null,
   "id": "20027134-01d9-4ac0-bd68-538248c83e14",
   "metadata": {},
   "outputs": [],
   "source": [
    "pe_tj_df7.to_csv('/home/jovyan/Data/Month/od_id_2019_month.csv', index=False)"
   ]
  },
  {
   "cell_type": "code",
   "execution_count": null,
   "id": "8762241e-f551-4052-bf1a-78a633b1f718",
   "metadata": {},
   "outputs": [],
   "source": [
    "country_code = 'MX'\n",
    "\n",
    "pe_tj_df7 = sql_engine.read_sql(\n",
    "    f\"\"\"\n",
    "    SELECT \n",
    "        start_geohash5, \n",
    "        end_geohash5, \n",
    "        MONTH(event_datetime_local) AS month,\n",
    "        COUNT(*) AS trip_count,\n",
    "        AVG(duration_minutes) AS m_duration_min,\n",
    "        STDDEV(duration_minutes) AS sd_duration_min,\n",
    "        approx_percentile(duration_minutes, 0.5) AS mdn_duration_min,\n",
    "        AVG(length_meters) AS m_length_m,\n",
    "        STDDEV(length_meters) AS sd_length_m,\n",
    "        approx_percentile(length_meters, 0.5) AS mdn_length_m,\n",
    "        AVG(number_of_points) AS m_points_no,\n",
    "        STDDEV(number_of_points) AS sd_points_no,\n",
    "        approx_percentile(number_of_points, 0.5) AS mdn_points_no\n",
    "    FROM \n",
    "    (\n",
    "        SELECT \n",
    "            cuebiq_id,\n",
    "            TRY(date_parse(substr(start_zoned_datetime, 1, 19), '%Y-%m-%dT%H:%i:%s')) AS event_datetime_local,\n",
    "            geohash_encode(start_lat, start_lng, 5) AS start_geohash5, \n",
    "            geohash_encode(end_lat, end_lng, 5) AS end_geohash5, \n",
    "            duration_minutes,\n",
    "            length_meters,\n",
    "            number_of_points\n",
    "        FROM cuebiq.paas_cda_pe_v3.trajectory_uplevelled\n",
    "        WHERE \n",
    "            event_date BETWEEN 20190101 AND 20191231\n",
    "            AND end_country = '{country_code}' \n",
    "            AND start_country = '{country_code}'\n",
    "    ) subquery\n",
    "    GROUP BY start_geohash5, end_geohash5, MONTH(event_datetime_local)\n",
    "    \"\"\"\n",
    ")\n",
    "\n",
    "pe_tj_df7\n"
   ]
  },
  {
   "cell_type": "code",
   "execution_count": null,
   "id": "d2b6b63c-9b42-452f-80ea-2bede1f4aa8c",
   "metadata": {},
   "outputs": [],
   "source": [
    "pe_tj_df7.to_csv('/home/jovyan/Data/Month/od_mx_2019_month.csv', index=False)"
   ]
  },
  {
   "cell_type": "code",
   "execution_count": null,
   "id": "be5e98c0-1c06-460e-999d-7f65dd9a3551",
   "metadata": {},
   "outputs": [],
   "source": []
  },
  {
   "cell_type": "code",
   "execution_count": null,
   "id": "f6579c5e-6fe4-4f3d-b9b7-8647c269bea1",
   "metadata": {},
   "outputs": [],
   "source": []
  },
  {
   "cell_type": "code",
   "execution_count": null,
   "id": "eec0f1a9-fb19-451f-8bb2-ca5652eec039",
   "metadata": {},
   "outputs": [],
   "source": [
    "country_code = 'CO'\n",
    "event_date = '2020-11-10'\n",
    "\n",
    "event_date_dt = datetime.strptime(event_date, '%Y-%m-%d')\n",
    "formatted_current_date = event_date_dt.strftime('%Y%m%d')\n",
    "\n",
    "lookahead_date = event_date_dt + timedelta(days=7)\n",
    "formatted_lookahead_date = lookahead_date.strftime('%Y%m%d')"
   ]
  },
  {
   "cell_type": "code",
   "execution_count": null,
   "id": "c03fbd2a-8742-40d5-b4aa-b9a4eef4c286",
   "metadata": {
    "scrolled": true,
    "tags": []
   },
   "outputs": [],
   "source": [
    "pe_tj_df7 = sql_engine.read_sql(\n",
    "    f\"\"\"\n",
    "    SELECT \n",
    "        start_geohash5, \n",
    "        end_geohash5, \n",
    "        week_number,\n",
    "        COUNT(*) AS trip_count,\n",
    "        AVG(duration_minutes) AS m_duration_min,\n",
    "        STDDEV(duration_minutes) AS sd_duration_min,\n",
    "        approx_percentile(duration_minutes, 0.5) AS mdn_duration_min,\n",
    "        AVG(length_meters) AS m_length_m,\n",
    "        STDDEV(length_meters) AS sd_length_m,\n",
    "        approx_percentile(length_meters, 0.5) AS mdn_length_m,\n",
    "        AVG(number_of_points) AS m_points_no,\n",
    "        STDDEV(number_of_points) AS sd_points_no,\n",
    "        approx_percentile(number_of_points, 0.5) AS mdn_points_no\n",
    "    FROM \n",
    "    (\n",
    "        SELECT \n",
    "            cuebiq_id,\n",
    "            TRY(date_parse(substr(start_zoned_datetime, 1, 19), '%Y-%m-%dT%H:%i:%s')) AS event_datetime_local,\n",
    "            h3_encode(start_lat, start_lng, 7) AS start_geohash5, \n",
    "            h3_encode(end_lat, end_lng, 7) AS end_geohash5, \n",
    "            duration_minutes,\n",
    "            length_meters,\n",
    "            number_of_points, \n",
    "            WEEK(TRY(date_parse(substr(start_zoned_datetime, 1, 19), '%Y-%m-%dT%H:%i:%s'))) AS week_number\n",
    "        FROM cuebiq.paas_cda_pe_v3.trajectory_uplevelled\n",
    "        WHERE \n",
    "            event_date BETWEEN {formatted_current_date} AND {formatted_lookahead_date}\n",
    "            AND end_country = '{country_code}' \n",
    "            AND start_country = '{country_code}'\n",
    "    ) subquery\n",
    "    GROUP BY start_geohash5, end_geohash5, week_number\n",
    "    \"\"\"\n",
    ")\n",
    "\n",
    "pe_tj_df7\n"
   ]
  },
  {
   "cell_type": "code",
   "execution_count": null,
   "id": "02245b11-01ee-474f-82a6-beb0469ddcad",
   "metadata": {},
   "outputs": [],
   "source": []
  },
  {
   "cell_type": "code",
   "execution_count": null,
   "id": "0192083d-b10c-4888-974a-a9f05f1e8e99",
   "metadata": {},
   "outputs": [],
   "source": []
  },
  {
   "cell_type": "code",
   "execution_count": null,
   "id": "e55a4e9d-3172-48ad-a7d4-76e7db2a3cc3",
   "metadata": {},
   "outputs": [],
   "source": []
  },
  {
   "cell_type": "code",
   "execution_count": null,
   "id": "cd711b59-719f-4247-9364-b0aac89aa447",
   "metadata": {},
   "outputs": [],
   "source": []
  },
  {
   "cell_type": "code",
   "execution_count": null,
   "id": "54cba993-3eec-4b23-b78c-d57229ca0245",
   "metadata": {},
   "outputs": [],
   "source": []
  },
  {
   "cell_type": "code",
   "execution_count": null,
   "id": "3f31f577-bdea-49d9-931d-be6537ffeed3",
   "metadata": {},
   "outputs": [],
   "source": [
    "country_code = 'CO'\n",
    "event_date = '2020-02-10'\n",
    "\n",
    "event_date_dt = datetime.strptime(event_date, '%Y-%m-%d')\n",
    "formatted_current_date = event_date_dt.strftime('%Y%m%d')\n",
    "\n",
    "lookahead_date = event_date_dt + timedelta(days=14)\n",
    "formatted_lookahead_date = lookahead_date.strftime('%Y%m%d')"
   ]
  },
  {
   "cell_type": "code",
   "execution_count": null,
   "id": "674ee32d-d8c3-4abf-951b-2fdae793595c",
   "metadata": {
    "scrolled": true,
    "tags": []
   },
   "outputs": [],
   "source": [
    "pe_tj_df3 = sql_engine.read_sql(\n",
    "    f\"\"\"\n",
    "    SELECT \n",
    "        cuebiq_id,\n",
    "        duration_minutes,\n",
    "        length_meters,\n",
    "        number_of_points,\n",
    "        TRY(date_parse(substr(start_zoned_datetime, 1, 19), '%Y-%m-%dT%H:%i:%s')) AS event_datetime_local,\n",
    "        EXTRACT(HOUR FROM TRY(date_parse(substr(start_zoned_datetime, 1, 19), '%Y-%m-%dT%H:%i:%s'))) AS event_hour,\n",
    "        -- geohash_encode(start_lat, start_lng, 5) AS start_geohash5,\n",
    "        geohash_encode(start_lat, start_lng, 3) AS start_geohash3,\n",
    "        -- geohash_encode(end_lat, end_lng, 5) AS end_geohash5,\n",
    "        geohash_encode(end_lat, end_lng, 3) AS end_geohash3,\n",
    "        DATE_FORMAT(date_parse(substr(start_zoned_datetime, 1, 10), '%Y-%m-%d'), '%Y%m%d') AS local_date,\n",
    "        DATE_FORMAT(date_parse(substr(start_zoned_datetime, 1, 10), '%Y-%m-%d'), '%W') AS day_of_week\n",
    "    FROM cuebiq.paas_cda_pe_v3.trajectory_uplevelled\n",
    "    WHERE \n",
    "        event_date BETWEEN {formatted_current_date} AND {formatted_lookahead_date}\n",
    "        AND end_country = '{country_code}' \n",
    "        AND start_country = '{country_code}' \n",
    "    \"\"\"\n",
    ")\n",
    "\n",
    "pe_tj_df3"
   ]
  },
  {
   "cell_type": "code",
   "execution_count": null,
   "id": "1ace4d43-65c5-416e-80d7-e92a10ac0f75",
   "metadata": {},
   "outputs": [],
   "source": []
  },
  {
   "cell_type": "code",
   "execution_count": null,
   "id": "a21cc5fe-85b6-4615-a4f0-513f267faf5d",
   "metadata": {
    "scrolled": true,
    "tags": []
   },
   "outputs": [],
   "source": [
    "pe_tj_df3 = sql_engine.read_sql(\n",
    "    f\"\"\"\n",
    "    WITH calculated_data AS (\n",
    "        SELECT \n",
    "            cuebiq_id,\n",
    "            duration_minutes,\n",
    "            length_meters,\n",
    "            number_of_points,\n",
    "            TRY(date_parse(substr(start_zoned_datetime, 1, 19), '%Y-%m-%dT%H:%i:%s')) AS event_datetime_local,\n",
    "            EXTRACT(HOUR FROM TRY(date_parse(substr(start_zoned_datetime, 1, 19), '%Y-%m-%dT%H:%i:%s'))) AS event_hour,\n",
    "            geohash_encode(start_lat, start_lng, 3) AS start_geohash3,\n",
    "            geohash_encode(end_lat, end_lng, 3) AS end_geohash3,\n",
    "            DATE_FORMAT(date_parse(substr(start_zoned_datetime, 1, 10), '%Y-%m-%d'), '%Y%m%d') AS local_date,\n",
    "            DATE_FORMAT(date_parse(substr(start_zoned_datetime, 1, 10), '%Y-%m-%d'), '%W') AS day_of_week\n",
    "        FROM cuebiq.paas_cda_pe_v3.trajectory_uplevelled\n",
    "        WHERE \n",
    "            event_date BETWEEN {formatted_current_date} AND {formatted_lookahead_date}\n",
    "            AND end_country = '{country_code}' \n",
    "            AND start_country = '{country_code}'\n",
    "    )\n",
    "    SELECT \n",
    "        day_of_week,\n",
    "        start_geohash3,\n",
    "        end_geohash3,\n",
    "        COUNT(*) AS trip_count,\n",
    "        COUNT(DISTINCT cuebiq_id) AS unique_cuebiq_ids,\n",
    "        AVG(duration_minutes) AS m_duration_min,\n",
    "        APPROX_PERCENTILE(duration_minutes, 0.5) AS mdn_duration_min,\n",
    "        STDDEV(duration_minutes) AS sd_duration_min,\n",
    "        AVG(length_meters) AS m_length_m,\n",
    "        APPROX_PERCENTILE(length_meters, 0.5) AS mdn_length_m,\n",
    "        STDDEV(length_meters) AS sd_length_m,\n",
    "        AVG(number_of_points) AS m_points_no,\n",
    "        APPROX_PERCENTILE(number_of_points, 0.5) AS mdn_points_no,\n",
    "        STDDEV(number_of_points) AS sd_points_no\n",
    "    FROM calculated_data\n",
    "    GROUP BY day_of_week, start_geohash3, end_geohash3\n",
    "    HAVING COUNT(*) > 9\n",
    "    \"\"\"\n",
    ")\n",
    "\n",
    "pe_tj_df3"
   ]
  },
  {
   "cell_type": "code",
   "execution_count": null,
   "id": "658dd88c-fe81-4d62-9ef8-59fb40efeac0",
   "metadata": {
    "scrolled": true,
    "tags": []
   },
   "outputs": [],
   "source": [
    "pe_tj_df3[pe_tj_df3['day_of_week'] == 'Thursday']"
   ]
  },
  {
   "cell_type": "code",
   "execution_count": null,
   "id": "9beacedc-c168-4fec-ae3f-7f8923133269",
   "metadata": {
    "scrolled": true,
    "tags": []
   },
   "outputs": [],
   "source": [
    "pe_tj_df3[pe_tj_df3['day_of_week'] == 'Tuesday']"
   ]
  },
  {
   "cell_type": "code",
   "execution_count": null,
   "id": "4cbe4025-79e5-4c90-9b40-f9ba25676a48",
   "metadata": {
    "scrolled": true,
    "tags": []
   },
   "outputs": [],
   "source": [
    "pe_tj_df3[pe_tj_df3['day_of_week'] == 'Friday']"
   ]
  },
  {
   "cell_type": "code",
   "execution_count": null,
   "id": "6ac3481d-7e7b-476e-a910-5d19e36e59f6",
   "metadata": {},
   "outputs": [],
   "source": []
  },
  {
   "cell_type": "code",
   "execution_count": null,
   "id": "81607f23-fdcc-496c-b500-12a246f3d657",
   "metadata": {},
   "outputs": [],
   "source": []
  },
  {
   "cell_type": "code",
   "execution_count": null,
   "id": "d84f4004-a991-4eee-9ddf-7406e520fa93",
   "metadata": {},
   "outputs": [],
   "source": []
  },
  {
   "cell_type": "code",
   "execution_count": null,
   "id": "bcc82c88-bfd5-4f84-929d-69560f072308",
   "metadata": {},
   "outputs": [],
   "source": []
  },
  {
   "cell_type": "code",
   "execution_count": null,
   "id": "49eb4c07-a07e-4926-899e-55d0417192b1",
   "metadata": {},
   "outputs": [],
   "source": []
  },
  {
   "cell_type": "code",
   "execution_count": null,
   "id": "e5d51440-ca47-4010-b8af-1727fac980a4",
   "metadata": {},
   "outputs": [],
   "source": []
  },
  {
   "cell_type": "code",
   "execution_count": null,
   "id": "ef77c8d2-f288-4bcd-bfe8-0054c9d2b1ec",
   "metadata": {},
   "outputs": [],
   "source": []
  },
  {
   "cell_type": "code",
   "execution_count": null,
   "id": "654f8e72-3458-40aa-9a79-a93f71ff9230",
   "metadata": {},
   "outputs": [],
   "source": []
  },
  {
   "cell_type": "code",
   "execution_count": null,
   "id": "29dbfc1e-e594-491a-b591-5f063dc97331",
   "metadata": {},
   "outputs": [],
   "source": []
  },
  {
   "cell_type": "code",
   "execution_count": null,
   "id": "c3050a47-2167-4f6c-a341-69906895611a",
   "metadata": {},
   "outputs": [],
   "source": []
  },
  {
   "cell_type": "code",
   "execution_count": null,
   "id": "edb4abd8-0cb2-4a4f-b736-480936036740",
   "metadata": {},
   "outputs": [],
   "source": []
  },
  {
   "cell_type": "code",
   "execution_count": null,
   "id": "2348c2aa-e897-40cc-aed5-3f5cf09d11e5",
   "metadata": {},
   "outputs": [],
   "source": []
  },
  {
   "cell_type": "code",
   "execution_count": null,
   "id": "ccbb4748-167a-4715-892b-264869108649",
   "metadata": {},
   "outputs": [],
   "source": []
  },
  {
   "cell_type": "code",
   "execution_count": null,
   "id": "5a2c3073-f4c5-48fa-a9c4-684c8667e38c",
   "metadata": {
    "scrolled": true,
    "tags": []
   },
   "outputs": [],
   "source": [
    "country_code = 'MX'\n",
    "file = f'/home/jovyan/Data/Week/combined/od_week_gh5_{country_code.lower()}_2020_all.csv'\n",
    "df = pd.read_csv(file)\n",
    "df"
   ]
  },
  {
   "cell_type": "code",
   "execution_count": null,
   "id": "0c89b875-b2fc-46ba-b879-03988ec3500c",
   "metadata": {},
   "outputs": [],
   "source": [
    "filter_df = df[df['trip_count']>9]\n",
    "filter_df"
   ]
  },
  {
   "cell_type": "code",
   "execution_count": null,
   "id": "33703c3d-e0b6-4b87-84c8-34f8cf87bab4",
   "metadata": {},
   "outputs": [],
   "source": [
    "filter_df.to_csv(f'/home/jovyan/Data/Week/cleaned/od_week_gh5_{country_code.lower()}_2020.csv', index=False)"
   ]
  },
  {
   "cell_type": "code",
   "execution_count": null,
   "id": "0fa68e58-7eca-4e89-89b6-0352ca5537f6",
   "metadata": {},
   "outputs": [],
   "source": []
  },
  {
   "cell_type": "code",
   "execution_count": null,
   "id": "a206d5f1-33f8-4e5e-9444-0f0e3997c293",
   "metadata": {},
   "outputs": [],
   "source": []
  },
  {
   "cell_type": "code",
   "execution_count": null,
   "id": "1c7ff3f0-d2ec-470e-ba90-e2ec9b86f3ec",
   "metadata": {},
   "outputs": [],
   "source": []
  },
  {
   "cell_type": "code",
   "execution_count": null,
   "id": "5550e878-0cb7-4a0e-8359-c3e16cdcae4d",
   "metadata": {},
   "outputs": [],
   "source": [
    "df['trip_count'].sum()"
   ]
  },
  {
   "cell_type": "code",
   "execution_count": null,
   "id": "a1387ed4-feee-45e4-8205-3b069d61c1a4",
   "metadata": {},
   "outputs": [],
   "source": [
    "file = f'/home/jovyan/Data/Week/cleaned/od_week_gh5_id_2020.csv'\n",
    "df2 = pd.read_csv(file)\n",
    "df2"
   ]
  },
  {
   "cell_type": "code",
   "execution_count": null,
   "id": "f13a9da8-2265-4009-b3f3-fdffc9d2f35e",
   "metadata": {
    "scrolled": true,
    "tags": []
   },
   "outputs": [],
   "source": [
    "file = f'/home/jovyan/Data/Week/od_co_2020_week_gh5.csv'\n",
    "df3 = pd.read_csv(file)\n",
    "df3"
   ]
  },
  {
   "cell_type": "code",
   "execution_count": null,
   "id": "4e10e861-85ab-435a-8683-22d2c449401f",
   "metadata": {},
   "outputs": [],
   "source": []
  },
  {
   "cell_type": "code",
   "execution_count": null,
   "id": "578af4c6-c713-42e3-8d3b-905cc1658b26",
   "metadata": {
    "scrolled": true,
    "tags": []
   },
   "outputs": [],
   "source": [
    "country_code = 'CO'\n",
    "\n",
    "pe_tj_df7 = sql_engine.read_sql(\n",
    "    f\"\"\"\n",
    "    SELECT \n",
    "        start_h3_9, \n",
    "        end_h3_9, \n",
    "        week_number,\n",
    "        COUNT(*) AS trip_count,\n",
    "        AVG(duration_minutes) AS m_duration_min,\n",
    "        STDDEV(duration_minutes) AS sd_duration_min,\n",
    "        approx_percentile(duration_minutes, 0.5) AS mdn_duration_min,\n",
    "        AVG(length_meters) AS m_length_m,\n",
    "        STDDEV(length_meters) AS sd_length_m,\n",
    "        approx_percentile(length_meters, 0.5) AS mdn_length_m,\n",
    "        AVG(number_of_points) AS m_points_no,\n",
    "        STDDEV(number_of_points) AS sd_points_no,\n",
    "        approx_percentile(number_of_points, 0.5) AS mdn_points_no\n",
    "    FROM \n",
    "    (\n",
    "        SELECT \n",
    "            cuebiq_id,\n",
    "            TRY(date_parse(substr(start_zoned_datetime, 1, 19), '%Y-%m-%dT%H:%i:%s')) AS event_datetime_local,\n",
    "            h3_encode(start_lat, start_lng, 9) AS start_h3_9, \n",
    "            h3_encode(end_lat, end_lng, 9) AS end_h3_9, \n",
    "            duration_minutes,\n",
    "            length_meters,\n",
    "            number_of_points, \n",
    "            WEEK(TRY(date_parse(substr(start_zoned_datetime, 1, 19), '%Y-%m-%dT%H:%i:%s'))) AS week_number\n",
    "        FROM cuebiq.paas_cda_pe_v3.trajectory_uplevelled\n",
    "        WHERE \n",
    "            event_date BETWEEN 20191101 AND 20191103\n",
    "            AND end_country = '{country_code}' \n",
    "            AND start_country = '{country_code}'\n",
    "            AND start_lat <> 0\n",
    "            AND end_lat <> 0\n",
    "    ) subquery\n",
    "    GROUP BY start_h3_9, end_h3_9, week_number\n",
    "    \"\"\"\n",
    ")\n",
    "\n",
    "pe_tj_df7.to_csv(f'/home/jovyan/CO/{country_code.lower()}_2019_h39.csv', index=False)"
   ]
  },
  {
   "cell_type": "code",
   "execution_count": null,
   "id": "a292a6d6-1035-4ea8-9efb-235f00a0d7ed",
   "metadata": {},
   "outputs": [],
   "source": []
  }
 ],
 "metadata": {
  "kernelspec": {
   "display_name": "Python 3 (ipykernel)",
   "language": "python",
   "name": "python3"
  },
  "language_info": {
   "codemirror_mode": {
    "name": "ipython",
    "version": 3
   },
   "file_extension": ".py",
   "mimetype": "text/x-python",
   "name": "python",
   "nbconvert_exporter": "python",
   "pygments_lexer": "ipython3",
   "version": "3.10.17"
  }
 },
 "nbformat": 4,
 "nbformat_minor": 5
}
