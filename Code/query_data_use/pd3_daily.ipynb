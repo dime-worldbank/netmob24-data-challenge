{
 "cells": [
  {
   "cell_type": "code",
   "execution_count": null,
   "id": "a1f7150e-671d-4837-af4a-df7ea6151339",
   "metadata": {},
   "outputs": [],
   "source": [
    "%reload_ext sql\n",
    "%config SqlMagic.autocommit=False\n",
    "%config SqlMagic.autolimit=0\n",
    "%config SqlMagic.autopandas=True\n",
    "%config SqlMagic.displaylimit=200"
   ]
  },
  {
   "cell_type": "code",
   "execution_count": null,
   "id": "5a85e267-d544-4432-b677-7c6216b686fb",
   "metadata": {},
   "outputs": [],
   "source": [
    "%sql trino://localhost:9090/cuebiq/"
   ]
  },
  {
   "cell_type": "code",
   "execution_count": null,
   "id": "1ff28a70-04d5-456b-8915-01f44056e0d2",
   "metadata": {},
   "outputs": [],
   "source": [
    "import os\n",
    "import time\n",
    "# import geohash\n",
    "import logging\n",
    "import pandas as pd\n",
    "from pathlib import Path\n",
    "from datetime import datetime, timedelta\n",
    "from sqlalchemy import create_engine"
   ]
  },
  {
   "cell_type": "code",
   "execution_count": null,
   "id": "d2ea2bee-d567-41a6-9ca2-e92a927c3b3a",
   "metadata": {},
   "outputs": [],
   "source": [
    "# SQL engine\n",
    "from trino.dbapi import connect \n",
    "from sqlalchemy import create_engine\n",
    "import pandas as pd\n",
    "import time\n",
    "\n",
    "class TrinoEngine():\n",
    "    def __init__(self):\n",
    "        conn = connect(\n",
    "            host=\"localhost\",\n",
    "            port=9090,\n",
    "            catalog=\"cuebiq\"\n",
    "        )\n",
    "        self.cur = conn.cursor()\n",
    "        self.engine = create_engine(\"trino://localhost:9090/cuebiq/\")\n",
    "    \n",
    "    def execute_statement(self, query:str) -> list:\n",
    "        \"\"\"\n",
    "        Create and drop statements.\n",
    "        \"\"\"\n",
    "        self.cur.execute(query)\n",
    "        return self.cur.fetchall()\n",
    "    \n",
    "    def read_sql(self, query:str) -> pd.DataFrame: \n",
    "        \"\"\"\n",
    "        Select and insert into operations.\n",
    "        \"\"\"\n",
    "        return pd.read_sql(query, self.engine)\n",
    "\n",
    "sql_engine = TrinoEngine()"
   ]
  },
  {
   "cell_type": "code",
   "execution_count": null,
   "id": "cbaf39ff-5019-4cac-b1c9-e8e11ed4a04e",
   "metadata": {},
   "outputs": [],
   "source": [
    "schema_name = {'cda': 'cuebiq.paas_cda_pe_v3'}\n",
    "pe_dl_table = f\"{schema_name['cda']}.device_location_uplevelled\""
   ]
  },
  {
   "cell_type": "code",
   "execution_count": null,
   "id": "c28f905c-ed0f-425e-b94c-afe62d656b91",
   "metadata": {},
   "outputs": [],
   "source": [
    "# Set up logging\n",
    "logging.basicConfig(level=logging.INFO, format='%(asctime)s - %(levelname)s - %(message)s')"
   ]
  },
  {
   "cell_type": "code",
   "execution_count": null,
   "id": "aea1786a-bfd2-41f6-9463-966766f7a5a5",
   "metadata": {},
   "outputs": [],
   "source": [
    "# country_code = 'CO'\n",
    "# country_code = 'ID'\n",
    "# country_code = 'IN'\n",
    "country_code = 'MX'\n",
    "\n",
    "pathFolder = \"/home/jovyan/Data/daily_pd3/\".format(country_code)\n",
    "Path(pathFolder).mkdir(parents=True, exist_ok=True)"
   ]
  },
  {
   "cell_type": "code",
   "execution_count": null,
   "id": "a6e5f4d1-4be6-43a7-bd14-99e02a831dae",
   "metadata": {
    "scrolled": true,
    "tags": []
   },
   "outputs": [],
   "source": [
    "pe_dl = sql_engine.read_sql(\n",
    "    f\"\"\"\n",
    "    SELECT \n",
    "        geohash_3, \n",
    "        COUNT(*) AS no_of_points,\n",
    "        COUNT(DISTINCT(cuebiq_id)) AS no_of_unique_users,\n",
    "        local_date\n",
    "    FROM \n",
    "    (\n",
    "        SELECT \n",
    "            cuebiq_id,\n",
    "            TRY(date_parse(substr(event_zoned_datetime, 1, 19), '%Y-%m-%dT%H:%i:%s')) AS event_datetime_local,\n",
    "            geohash_encode(lat, lng, 3) AS geohash_3, \n",
    "            DATE(TRY(date_parse(substr(event_zoned_datetime, 1, 19), '%Y-%m-%dT%H:%i:%s'))) AS local_date\n",
    "        FROM {pe_dl_table}\n",
    "        WHERE \n",
    "            country_code = '{country_code}' \n",
    "            AND event_zoned_datetime IS NOT NULL\n",
    "            AND TRY(date_parse(substr(event_zoned_datetime, 1, 19), '%Y-%m-%dT%H:%i:%s')) IS NOT NULL\n",
    "            AND DATE(TRY(date_parse(substr(event_zoned_datetime, 1, 19), '%Y-%m-%dT%H:%i:%s'))) BETWEEN date_parse('20200101', '%Y%m%d') AND date_parse('20201231', '%Y%m%d')\n",
    "            AND lat <> 0\n",
    "            AND lng <> 0\n",
    "    ) subquery\n",
    "    GROUP BY geohash_3, local_date\n",
    "    \"\"\"\n",
    ")\n",
    "\n",
    "\n",
    "# Convert 'local_date' to 'yyyymmdd' format\n",
    "pe_dl['local_date'] = pd.to_datetime(pe_dl['local_date']).dt.strftime('%Y%m%d').astype(int)\n",
    "pe_dl = pe_dl.drop_duplicates() # Remove duplicates\n",
    "\n",
    "# pe_dl\n",
    "\n",
    "fileName = \"{}{}_2020_daily_agg3.csv\".format(pathFolder,country_code)\n",
    "pe_dl.to_csv(fileName,  sep=',', index=False)"
   ]
  },
  {
   "cell_type": "code",
   "execution_count": null,
   "id": "1812c1b6-a25b-46b3-ad9c-48f1cda78df0",
   "metadata": {},
   "outputs": [],
   "source": []
  },
  {
   "cell_type": "code",
   "execution_count": null,
   "id": "1acfc3f7-21ef-4931-b613-ddf75742aae6",
   "metadata": {},
   "outputs": [],
   "source": []
  },
  {
   "cell_type": "code",
   "execution_count": null,
   "id": "62696a1b-db10-41bb-b3e1-96349ec65b40",
   "metadata": {},
   "outputs": [],
   "source": []
  },
  {
   "cell_type": "code",
   "execution_count": null,
   "id": "b678c2aa-0527-4ef0-a252-b6e3ebd4b73f",
   "metadata": {},
   "outputs": [],
   "source": []
  },
  {
   "cell_type": "markdown",
   "id": "909491cf-b99c-4a87-ad14-9cc50297e364",
   "metadata": {},
   "source": [
    "# Check"
   ]
  },
  {
   "cell_type": "code",
   "execution_count": null,
   "id": "5d87f2d3-0134-4103-a87c-cae2a989deb3",
   "metadata": {
    "scrolled": true,
    "tags": []
   },
   "outputs": [],
   "source": [
    "pip install seaborn"
   ]
  },
  {
   "cell_type": "code",
   "execution_count": null,
   "id": "73c188b6-a51e-4310-b344-084b1268fb2e",
   "metadata": {},
   "outputs": [],
   "source": [
    "import glob\n",
    "import numpy as np\n",
    "import seaborn as sns\n",
    "import matplotlib.pyplot as plt"
   ]
  },
  {
   "cell_type": "code",
   "execution_count": null,
   "id": "7da3c65e-314b-41bc-8e8f-d32192e54c41",
   "metadata": {},
   "outputs": [],
   "source": [
    "path_pattern = '/home/jovyan/Data/daily_pd3/IN_2020_daily_agg*.csv'\n",
    "file_list = glob.glob(path_pattern)\n",
    "file_sub_list = [path for path in file_list]\n",
    "file_sub_list"
   ]
  },
  {
   "cell_type": "code",
   "execution_count": null,
   "id": "19bcd129-437d-4e4d-95a4-c03909ea250f",
   "metadata": {
    "scrolled": true,
    "tags": []
   },
   "outputs": [],
   "source": [
    "dataframes = []\n",
    "\n",
    "# Loop through the list of files and read each file into a DataFrame\n",
    "for file in file_list:\n",
    "    df = pd.read_csv(file)\n",
    "    dataframes.append(df)\n",
    "combined_df = pd.concat(dataframes, ignore_index=True)\n",
    "combined_df"
   ]
  },
  {
   "cell_type": "code",
   "execution_count": null,
   "id": "8ba8a654-6c62-4a0b-aed7-d3734dc79d7b",
   "metadata": {
    "scrolled": true,
    "tags": []
   },
   "outputs": [],
   "source": [
    "combined_df_10 = combined_df[combined_df['no_of_unique_users'] >= 10]\n",
    "combined_df_10"
   ]
  },
  {
   "cell_type": "markdown",
   "id": "fa047ac2-b96f-47a7-a85e-574530fe4fcb",
   "metadata": {},
   "source": [
    "## Check Duplicates"
   ]
  },
  {
   "cell_type": "code",
   "execution_count": null,
   "id": "1ecbba29-cbc1-48fc-826e-2b70ab5a74d5",
   "metadata": {
    "scrolled": true,
    "tags": []
   },
   "outputs": [],
   "source": [
    "combined_df_10['geohash_3'] = combined_df_10['geohash_3'].astype(str)\n",
    "combined_df_10['no_of_points'] = combined_df_10['no_of_points'].astype(int)\n",
    "combined_df_10['no_of_unique_users'] = combined_df_10['no_of_unique_users'].astype(int)\n",
    "combined_df_10['local_date'] = combined_df_10['local_date'].astype(int)\n",
    "\n",
    "combined_df_10 = combined_df_10.drop_duplicates()\n",
    "combined_df_10"
   ]
  },
  {
   "cell_type": "markdown",
   "id": "d2a1fb04-4f35-4a50-948f-2712dc98c771",
   "metadata": {},
   "source": [
    "## Check missing date"
   ]
  },
  {
   "cell_type": "code",
   "execution_count": null,
   "id": "4423499d-d66e-4961-9170-3c308825211e",
   "metadata": {},
   "outputs": [],
   "source": [
    "unique_values_count = combined_df_10[\"local_date\"].unique()\n",
    "all_dates = pd.date_range(start='2020-01-01', end='2020-12-31').strftime('%Y%m%d').astype(int)\n",
    "all_dates = np.array(all_dates)\n",
    "missing_dates = np.setdiff1d(all_dates, unique_values_count)\n",
    "\n",
    "missing_dates"
   ]
  },
  {
   "cell_type": "markdown",
   "id": "823215b5-f924-46db-b2ea-565d5e544ea1",
   "metadata": {},
   "source": [
    "## Check with figure"
   ]
  },
  {
   "cell_type": "code",
   "execution_count": null,
   "id": "7318cfef-82e0-4230-afa5-4b2afc842767",
   "metadata": {},
   "outputs": [],
   "source": [
    "# Aggregating the DataFrame by local_date\n",
    "aggregated_df = combined_df_10.groupby('local_date').agg({\n",
    "    'no_of_points': 'sum',\n",
    "    'no_of_unique_users': 'sum',\n",
    "    'geohash_3': ['nunique', 'count']\n",
    "}).reset_index()\n",
    "\n",
    "# Flatten the MultiIndex columns\n",
    "aggregated_df.columns = ['local_date', 'total_no_of_points', 'total_no_of_unique_users', 'unique_geohash_3', 'sum_geohash_3']\n",
    "aggregated_df['local_date'] = aggregated_df['local_date'].astype(str)\n",
    "aggregated_df"
   ]
  },
  {
   "cell_type": "code",
   "execution_count": null,
   "id": "dc4b5d06-5ff1-487c-901d-43c7a8836d6e",
   "metadata": {},
   "outputs": [],
   "source": [
    "# Plot 1: unique_geohash_5 and sum_geohash_5\n",
    "plt.figure(figsize=(10, 4))\n",
    "sns.lineplot(data=aggregated_df, x='local_date', y='unique_geohash_3', marker='o', label='Unique geohash_3')\n",
    "sns.lineplot(data=aggregated_df, x='local_date', y='sum_geohash_3', marker='+', label='Sum of geohash_3')\n",
    "plt.title('Unique and Sum of geohash_5 Over Time')\n",
    "plt.xlabel('Local Date')\n",
    "plt.ylabel('Count')\n",
    "plt.legend()\n",
    "plt.grid(False)\n",
    "plt.show()"
   ]
  },
  {
   "cell_type": "code",
   "execution_count": null,
   "id": "79e33903-6ef3-4085-aa04-b7b1236ac21c",
   "metadata": {},
   "outputs": [],
   "source": [
    "# Plot 2: total_no_of_points and total_no_of_unique_users\n",
    "plt.figure(figsize=(10, 4))\n",
    "sns.lineplot(data=aggregated_df, x='local_date', y='total_no_of_unique_users', marker='o', label='Total no_of_unique_users')\n",
    "plt.title('Total Unique Users Over Time')\n",
    "plt.xlabel('Local Date')\n",
    "plt.ylabel('Count')\n",
    "plt.legend()\n",
    "plt.grid(False)\n",
    "plt.show()"
   ]
  },
  {
   "cell_type": "code",
   "execution_count": null,
   "id": "fdb6ced8-052a-49d3-a2f6-3b77f4dadc21",
   "metadata": {},
   "outputs": [],
   "source": [
    "# Plot 2: total_no_of_points and total_no_of_unique_users\n",
    "plt.figure(figsize=(10, 4))\n",
    "sns.lineplot(data=aggregated_df, x='local_date', y='total_no_of_points', marker='o', label='Total no_of_points')\n",
    "plt.title('Total Points Over Time')\n",
    "plt.xlabel('Local Date')\n",
    "plt.ylabel('Count')\n",
    "plt.legend()\n",
    "plt.grid(False)\n",
    "plt.show()"
   ]
  },
  {
   "cell_type": "markdown",
   "id": "d20cd894-5189-4895-bcdc-ab1d0e361ccc",
   "metadata": {},
   "source": [
    "## Export "
   ]
  },
  {
   "cell_type": "code",
   "execution_count": null,
   "id": "9ecff86c-2005-412e-85f1-c22336a5b123",
   "metadata": {},
   "outputs": [],
   "source": [
    "# combined_df_10 = pd.read_csv('/home/jovyan/Data/daily_pd3/Clean/' + 'pd_mx_2019_agg3_daily.csv')\n",
    "# combined_df_10"
   ]
  },
  {
   "cell_type": "code",
   "execution_count": null,
   "id": "81d91c29-8d8a-42e4-84b6-f32ebd887aa5",
   "metadata": {},
   "outputs": [],
   "source": [
    "# combined_df_10\n",
    "combined_df_10['no_of_points'].sum()/1744305542"
   ]
  },
  {
   "cell_type": "code",
   "execution_count": null,
   "id": "8f6b9f8f-94c9-4afc-87e9-85847ad7e874",
   "metadata": {},
   "outputs": [],
   "source": [
    "# Save the combined DataFrame to a new CSV file\n",
    "folder_path = '/home/jovyan/Data/daily_pd3/Clean/'\n",
    "combined_df_10.to_csv(folder_path + 'pd_in_2020_agg3_daily.csv', index=False)"
   ]
  },
  {
   "cell_type": "code",
   "execution_count": null,
   "id": "5ecdeabb-bd29-441d-b92b-6c947ebff148",
   "metadata": {},
   "outputs": [],
   "source": []
  },
  {
   "cell_type": "code",
   "execution_count": null,
   "id": "9ef1258b-9c96-42e9-8378-46afb1efb3d5",
   "metadata": {},
   "outputs": [],
   "source": []
  },
  {
   "cell_type": "code",
   "execution_count": null,
   "id": "98d625f8-f24f-43cc-a063-e064b165593c",
   "metadata": {},
   "outputs": [],
   "source": []
  },
  {
   "cell_type": "code",
   "execution_count": null,
   "id": "e4ade097-8506-45c4-8eaf-c47dfb23c95a",
   "metadata": {},
   "outputs": [],
   "source": []
  },
  {
   "cell_type": "code",
   "execution_count": null,
   "id": "cea0c895-d8b8-4bde-b99b-28bbe53fb928",
   "metadata": {},
   "outputs": [],
   "source": []
  },
  {
   "cell_type": "code",
   "execution_count": null,
   "id": "a32c9751-eec6-464b-b2c6-a16ff0f92640",
   "metadata": {},
   "outputs": [],
   "source": []
  },
  {
   "cell_type": "code",
   "execution_count": null,
   "id": "98909435-0705-43c1-bd66-94d1fe39e05a",
   "metadata": {},
   "outputs": [],
   "source": []
  },
  {
   "cell_type": "code",
   "execution_count": null,
   "id": "6800c9b9-8d84-4114-92b8-c92fdea7ad28",
   "metadata": {},
   "outputs": [],
   "source": []
  },
  {
   "cell_type": "code",
   "execution_count": null,
   "id": "106a4f77-b7ea-49c2-a7d7-71e42ff03d2b",
   "metadata": {},
   "outputs": [],
   "source": []
  },
  {
   "cell_type": "markdown",
   "id": "d3f7c88c-5a50-4c08-afc4-fe1356bff2c1",
   "metadata": {},
   "source": [
    "# For single day to understand the data"
   ]
  },
  {
   "cell_type": "code",
   "execution_count": null,
   "id": "35c43a5d-c09c-45fa-9e30-71b4719811e9",
   "metadata": {},
   "outputs": [],
   "source": [
    "# single month\n",
    "pe_dl = sql_engine.read_sql(\n",
    "    f\"\"\"\n",
    "    SELECT \n",
    "        geohash_5, \n",
    "        COUNT(*) AS no_of_points,\n",
    "        COUNT(DISTINCT(cuebiq_id)) AS no_of_unique_users,\n",
    "        local_date\n",
    "    FROM \n",
    "    (\n",
    "        SELECT \n",
    "            cuebiq_id,\n",
    "            TRY(date_parse(substr(event_zoned_datetime, 1, 19), '%Y-%m-%dT%H:%i:%s')) AS event_datetime_local,\n",
    "            geohash_encode(lat, lng, 5) AS geohash_5, \n",
    "            DATE(TRY(date_parse(substr(event_zoned_datetime, 1, 19), '%Y-%m-%dT%H:%i:%s'))) AS local_date\n",
    "        FROM {pe_dl_table}\n",
    "        WHERE \n",
    "            country_code = '{country_code}' \n",
    "            AND event_zoned_datetime IS NOT NULL\n",
    "            AND TRY(date_parse(substr(event_zoned_datetime, 1, 19), '%Y-%m-%dT%H:%i:%s')) IS NOT NULL\n",
    "            AND DATE(TRY(date_parse(substr(event_zoned_datetime, 1, 19), '%Y-%m-%dT%H:%i:%s'))) BETWEEN date_parse('20190101', '%Y%m%d') AND date_parse('20190131', '%Y%m%d')\n",
    "    ) subquery\n",
    "    GROUP BY geohash_5, local_date\n",
    "    \"\"\"\n",
    ")\n",
    "\n",
    "\n",
    "fileName = \"{}{}_daily_agg5_jan.csv\".format(pathFolder,country_code)\n",
    "pe_dl.to_csv(fileName,  sep=',', index=False)\n"
   ]
  },
  {
   "cell_type": "code",
   "execution_count": null,
   "id": "97cf69cb-7aa1-4ce3-93bf-a011cbf6383a",
   "metadata": {
    "scrolled": true,
    "tags": []
   },
   "outputs": [],
   "source": [
    "# before aggregation\n",
    "country_code = 'CO'\n",
    "\n",
    "query = f\"\"\"\n",
    "SELECT \n",
    "    cuebiq_id,\n",
    "    TRY(date_parse(substr(event_zoned_datetime, 1, 19), '%Y-%m-%dT%H:%i:%s')) AS event_datetime_local,\n",
    "    geohash_encode(lat, lng, 5) AS geohash_5, \n",
    "    DATE(TRY(date_parse(substr(event_zoned_datetime, 1, 19), '%Y-%m-%dT%H:%i:%s'))) AS local_date\n",
    "\n",
    "    -- extract(DAY FROM date_parse(substr(event_zoned_datetime, 1, 19), '%Y-%m-%dT%H:%i:%s'))  day1,\n",
    "    -- extract(MONTH FROM date_parse(substr(event_zoned_datetime, 1, 19), '%Y-%m-%dT%H:%i:%s'))  month1,\n",
    "    -- DAY(TRY(date_parse(substr(event_zoned_datetime, 1, 19), '%Y-%m-%dT%H:%i:%s'))) AS day2,\n",
    "    -- MONTH(TRY(date_parse(substr(event_zoned_datetime, 1, 19), '%Y-%m-%dT%H:%i:%s'))) AS month2,\n",
    "    -- WEEK(TRY(date_parse(substr(event_zoned_datetime, 1, 19), '%Y-%m-%dT%H:%i:%s'))) AS week_number\n",
    "FROM {pe_dl_table}\n",
    "WHERE \n",
    "    country_code = '{country_code}' \n",
    "    AND event_zoned_datetime IS NOT NULL\n",
    "    AND TRY(date_parse(substr(event_zoned_datetime, 1, 19), '%Y-%m-%dT%H:%i:%s')) IS NOT NULL\n",
    "    AND DATE(TRY(date_parse(substr(event_zoned_datetime, 1, 19), '%Y-%m-%dT%H:%i:%s'))) BETWEEN date_parse('20191201', '%Y%m%d') AND date_parse('20191202', '%Y%m%d')\n",
    "\"\"\"\n",
    "\n",
    "pe_dl_table_gen = sql_engine.read_sql(query)\n",
    "pe_dl_table_gen"
   ]
  },
  {
   "cell_type": "code",
   "execution_count": null,
   "id": "0fedb5db-3fe2-4b79-a820-07a8b0dd0592",
   "metadata": {},
   "outputs": [],
   "source": []
  }
 ],
 "metadata": {
  "kernelspec": {
   "display_name": "Python 3 (ipykernel)",
   "language": "python",
   "name": "python3"
  },
  "language_info": {
   "codemirror_mode": {
    "name": "ipython",
    "version": 3
   },
   "file_extension": ".py",
   "mimetype": "text/x-python",
   "name": "python",
   "nbconvert_exporter": "python",
   "pygments_lexer": "ipython3",
   "version": "3.10.17"
  }
 },
 "nbformat": 4,
 "nbformat_minor": 5
}
